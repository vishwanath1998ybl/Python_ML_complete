{
 "cells": [
  {
   "cell_type": "markdown",
   "metadata": {},
   "source": [
    "## Python Introduction"
   ]
  },
  {
   "cell_type": "markdown",
   "metadata": {},
   "source": [
    "- Python is a popular programming language.\n",
    "\n",
    "- It was developed in the late 1980s by Guido van Rossum, and released in 1991.\n",
    "\n",
    "- Python is still maintained by a core development team, and Guido is still in charge."
   ]
  },
  {
   "cell_type": "markdown",
   "metadata": {},
   "source": [
    "#### Who uses Python?\n",
    "\n",
    "Here’s a list of some top-tier companies that you know that use Python.\n",
    "\n",
    "- Google: Python is an official language at Google; alongside Java and C++\n",
    "\n",
    "- YouTube: Previously it was written in PHP but eventually it was replaced by Python. Now, the site uses Python heavily for various purposes.\n",
    "\n",
    "- Reddit: Reddit was originally coded in Lisp, but in December of 2005, six months after its launch, the site was recoded into Python.\n",
    "\n",
    "- Instagram: Instagram moved to Python 3 is just great example of a gigantic tech company using python in combination with Django\n",
    "\n",
    "- Amazon: Amazon uses Python because of its popular, scalable & appropriate for dealing with Big Data.\n",
    "\n",
    "- Quora: Quora is a portal where you get your answers. Quora’s language programming has been developed using Python’s framework."
   ]
  },
  {
   "cell_type": "markdown",
   "metadata": {},
   "source": [
    "#### Why Choose Python?\n",
    "\n",
    "Here are some of the features that make Python an appealing choice.\n",
    "\n",
    "Python is Popular: According to Stack Overflow Developer Survey, Python is the 7th most popular and the number one most wanted technology."
   ]
  },
  {
   "cell_type": "code",
   "execution_count": null,
   "metadata": {},
   "outputs": [],
   "source": []
  }
 ],
 "metadata": {
  "kernelspec": {
   "display_name": "Python 3",
   "language": "python",
   "name": "python3"
  },
  "language_info": {
   "codemirror_mode": {
    "name": "ipython",
    "version": 3
   },
   "file_extension": ".py",
   "mimetype": "text/x-python",
   "name": "python",
   "nbconvert_exporter": "python",
   "pygments_lexer": "ipython3",
   "version": "3.8.3"
  }
 },
 "nbformat": 4,
 "nbformat_minor": 4
}
