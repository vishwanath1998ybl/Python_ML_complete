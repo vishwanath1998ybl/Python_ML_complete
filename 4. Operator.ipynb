{
 "cells": [
  {
   "cell_type": "markdown",
   "metadata": {},
   "source": [
    "# Python Operators"
   ]
  },
  {
   "cell_type": "markdown",
   "metadata": {},
   "source": [
    "Operators are used to perform operations on values and variables. The Python operators are classified into seven different categories:\n",
    "\n",
    "- Arithmetic operators\n",
    "- Assignment operators\n",
    "- Comparison operators\n",
    "- Logical operators\n",
    "- Identity operators\n",
    "- Membership operators\n",
    "- Bitwise operators"
   ]
  },
  {
   "cell_type": "markdown",
   "metadata": {},
   "source": [
    "### Arithmetic Operators\n",
    "Arithmetic operators are used to perform simple mathematical operations on numeric values (except complex)."
   ]
  },
  {
   "cell_type": "markdown",
   "metadata": {},
   "source": [
    "|Operator\t|Meaning\t|Example|\n",
    "|--------|------|-------|\n",
    "|+\t|Addition\t|x + y|\n",
    "|–\t|Subtraction|\tx – y|\n",
    "|*\t|Multiplication\t|x * y|\n",
    "|/\t|Division\t|x / y|\n",
    "|%\t|Modulus\t|x % y|\n",
    "|**\t|Exponentiation\t|x ** y|\n",
    "|//\t|Floor division\t|x // y|"
   ]
  },
  {
   "cell_type": "code",
   "execution_count": 2,
   "metadata": {},
   "outputs": [
    {
     "name": "stdout",
     "output_type": "stream",
     "text": [
      "8\n",
      "4\n",
      "12\n",
      "3.0\n",
      "0\n",
      "36\n",
      "3\n"
     ]
    }
   ],
   "source": [
    "x = 6\n",
    "y = 2\n",
    "\n",
    "# addition\n",
    "print(x + y)\t\t# 8\n",
    "\n",
    "# subtraction\n",
    "print(x - y)\t\t# 4\n",
    "\n",
    "# multiplication\n",
    "print(x * y)\t\t# 12\n",
    "\n",
    "# division\n",
    "print(x / y)\t\t# 3\n",
    "\n",
    "# modulus\n",
    "print(x % y)\t\t# 0\n",
    "\n",
    "# exponentiation\n",
    "print(x ** y)\t\t# 36\n",
    "\n",
    "# floor division\n",
    "print(x // y)\t\t# 3"
   ]
  },
  {
   "cell_type": "markdown",
   "metadata": {},
   "source": [
    "### Assignment Operators\n",
    "Assignment operators are used to assign new values to variables."
   ]
  },
  {
   "cell_type": "markdown",
   "metadata": {},
   "source": [
    "|Operator|\tMeaning|\tExample|\tEquivatent to|\n",
    "|--------|--------|--------|-------|\n",
    "|=\t|Assignment\t|x = 3\t|x = 3|\n",
    "|+=|\tAddition assignment\t|x += 3\t|x = x + 3|\n",
    "|-=\t|Subtraction assignment\t|x -= 3\t|x = x – 3|\n",
    "|*=|\tMultiplication assignment|\tx *= 3\t|x = x * 3|\n",
    "|  /=|\tDivision assignment|\tx /= 3\t|x = x / 3|\n",
    "|%=|\tModulus assignment\t|x %= 3\t|x = x % 3|\n",
    "|//=|\tFloor division assignment|\tx //= 3|\tx = x // 3|\n",
    "|**=\t|Exponentiation assignment|\tx **= 3\t|x = x ** 3|\n",
    "|&=\t|Bitwise AND assignment\t|x &= 3|\tx = x & 3|\n",
    "|^=\t|Bitwise XOR assignment\t|x ^= 3\t|x = x ^ 3|\n",
    "|>>=\t|Bitwise right shift assignment|\tx >>= 3\t|x = x >> 3|\n",
    "|<<=\t|Bitwise left shift assignment|\tx <<= 3|\tx = x << 3|"
   ]
  },
  {
   "cell_type": "markdown",
   "metadata": {},
   "source": [
    "### Comparison Operators\n",
    "Comparison operators are used to compare two values.\n"
   ]
  },
  {
   "cell_type": "markdown",
   "metadata": {},
   "source": [
    "|Operator\t|Meaning|\tExample|\n",
    "|-------|--------|-------|\n",
    "|==\t|Equal to\t|x == y|\n",
    "|!=|\tNot equal to|\tx != y|\n",
    "|>|\tGreater than|\tx > y|\n",
    "|<\t|Less than|\tx < y|\n",
    "|>=|\tGreater than or equal to|\tx >= y|\n",
    "|<=|\tLess than or equal to|\tx <= y|\n"
   ]
  },
  {
   "cell_type": "code",
   "execution_count": 3,
   "metadata": {},
   "outputs": [
    {
     "name": "stdout",
     "output_type": "stream",
     "text": [
      "False\n",
      "True\n",
      "True\n",
      "False\n",
      "True\n",
      "False\n"
     ]
    }
   ],
   "source": [
    "x = 6\n",
    "y = 2\n",
    "\n",
    "# equal to\n",
    "print(x == y)\t\t# False\n",
    "\n",
    "# not equal to\n",
    "print(x != y)\t\t# True\n",
    "\n",
    "# greater than\n",
    "print(x > y)\t\t# True\n",
    "\n",
    "# less than\n",
    "print(x < y)\t\t# False\n",
    "\n",
    "# greater than or equal to\n",
    "print(x >= y)\t\t# True\n",
    "\n",
    "# less than or equal to\n",
    "print(x <= y)\t\t# False"
   ]
  },
  {
   "cell_type": "markdown",
   "metadata": {},
   "source": [
    "### Logical Operators\n",
    "Logical operators are used to join two or more conditions."
   ]
  },
  {
   "cell_type": "markdown",
   "metadata": {},
   "source": [
    "|Operator\t|Description\t|Example|\n",
    "|--------|------|-------|\n",
    "|and\t|Returns True if both statements are true\t|x > 0 and y < 0|\n",
    "|or\t|Returns True if one of the statements is true\t|x > 0 or y < 0|\n",
    "|not|\tReverse the result, returns False if the result is true\t|not(x > 0 and y < 0)|"
   ]
  },
  {
   "cell_type": "code",
   "execution_count": 4,
   "metadata": {},
   "outputs": [
    {
     "name": "stdout",
     "output_type": "stream",
     "text": [
      "True\n",
      "True\n",
      "False\n"
     ]
    }
   ],
   "source": [
    "x = 2\n",
    "y = -2\n",
    "\n",
    "# and\n",
    "print(x > 0 and y < 0)          # True\n",
    "\n",
    "# or\n",
    "print(x > 0 or y < 0)           # True\n",
    "\n",
    "# not\n",
    "print(not(x > 0 and y < 0))     # False"
   ]
  },
  {
   "cell_type": "markdown",
   "metadata": {},
   "source": [
    "### Identity Operators\n",
    "Identity operators are used to check if two objects point to the same object, with the same memory location.\n",
    "\n"
   ]
  },
  {
   "cell_type": "markdown",
   "metadata": {},
   "source": [
    "|Operator\t|Description\t|Example|\n",
    "|-------|------|------|\n",
    "|is\tReturns true if both variables are the same object\t|x is y|\n",
    "|is not\tReturns true if both variables are not the same object\t|x is not y|\n"
   ]
  },
  {
   "cell_type": "code",
   "execution_count": 5,
   "metadata": {},
   "outputs": [
    {
     "name": "stdout",
     "output_type": "stream",
     "text": [
      "False\n",
      "True\n"
     ]
    }
   ],
   "source": [
    "x = [1, 2, 3]\n",
    "y = [1, 2, 3]\n",
    "\n",
    "# is\n",
    "print(x is y)\t\t# False\n",
    "\n",
    "# is not\n",
    "print(x is not y)\t# True"
   ]
  },
  {
   "cell_type": "markdown",
   "metadata": {},
   "source": [
    "### Membership Operators\n",
    "Membership operators are used to check if a specific item is present in a sequence (such as a string, tuple, list, or range) or a collection (such as a dictionary, set, or frozen set)."
   ]
  },
  {
   "cell_type": "markdown",
   "metadata": {},
   "source": [
    "|Operator|\tDescription\t|Example|\n",
    "|--------|---------|---------|\n",
    "|in |\tReturns True if a value is present in the sequence\t|x in y|\n",
    "|not in|\tReturns True if a value is not present in the sequence\t|x not in y|\n"
   ]
  },
  {
   "cell_type": "code",
   "execution_count": 6,
   "metadata": {},
   "outputs": [
    {
     "name": "stdout",
     "output_type": "stream",
     "text": [
      "True\n",
      "True\n"
     ]
    }
   ],
   "source": [
    "L = ['red', 'green', 'blue']\n",
    "\n",
    "# in\n",
    "print('red' in L)           # True\n",
    "\n",
    "# not in\n",
    "print('yellow' not in L)    # True"
   ]
  },
  {
   "cell_type": "markdown",
   "metadata": {},
   "source": [
    "### Bitwise Operators\n",
    "Binary operators are used to perform bit-level operations on (binary) numbers."
   ]
  },
  {
   "cell_type": "markdown",
   "metadata": {},
   "source": [
    "|Operator\t|Meaning\t|Example|\n",
    "|---------|---------|---------|\n",
    "|&\t|AND\t|x & y|\n",
    "| \\| |\tOR\t|x | y|\n",
    "|^\t|XOR\t|x ^ y|\n",
    "|~\t|NOT\t|~x|\n",
    "|<<\t|Left shift\t|x << 2|\n",
    "|>>\t|Right shift|\tx >> 2|"
   ]
  },
  {
   "cell_type": "code",
   "execution_count": 7,
   "metadata": {},
   "outputs": [
    {
     "name": "stdout",
     "output_type": "stream",
     "text": [
      "0b1000\n",
      "0b1110\n",
      "0b110\n",
      "-0b1101\n",
      "0b110000\n",
      "0b11\n"
     ]
    }
   ],
   "source": [
    "x = 0b1100\n",
    "y = 0b1010\n",
    "\n",
    "# and\n",
    "print(bin(x & y))\t    # 0b1000\n",
    "\n",
    "# or\n",
    "print(bin(x | y))\t    # 0b1110\n",
    "\n",
    "# xor\n",
    "print(bin(x ^ y))\t    # 0b0110\n",
    "\n",
    "# not\n",
    "print(bin(~x))\t\t    # -0b1101\n",
    "\n",
    "# shift 2 bits left\n",
    "print(bin(x << 2))\t    # 0b1100\n",
    "\n",
    "# shift 2 bits right\n",
    "print(bin(x >> 2))\t    # 0b0011"
   ]
  },
  {
   "cell_type": "markdown",
   "metadata": {},
   "source": [
    "### Operator Precedence (Order of Operations)\n",
    "In Python, every operator is assigned a precedence. Operator Precedence determines which operations are performed before which other operations.\n",
    "\n",
    "Operators of highest precedence are performed first. Any operators of equal precedence are performed in left-to-right order."
   ]
  },
  {
   "cell_type": "markdown",
   "metadata": {},
   "source": [
    "|Precedence\t|Operator\t|Description|\n",
    "|----------|-----------|-----------|\n",
    "|lowest precedence|\tor\t|Boolean OR|\n",
    "| |and|\tBoolean AND|\n",
    "||not|\tBoolean NOT|\n",
    "| |==, ! =, <, <=, >, >=, is, is not|\tcomparisons, identity|\n",
    "| | \\|\t | bitwise OR|\n",
    "| |^\t|bitwise XOR|\n",
    "| |&\t|bitwise AND|\n",
    "| |<<, >>|\tbit shis|\n",
    "| |+, –\t|addition, subtraction|\n",
    "| |*, /, //, %\t|multiplication, division, floor division, modulo|\n",
    "| |+x, -x, ~x\t|unary positive, unary negation, bitwise negation|\n",
    "|highest precedence\t|**\t|exponentiation|\n"
   ]
  },
  {
   "cell_type": "code",
   "execution_count": null,
   "metadata": {},
   "outputs": [],
   "source": []
  }
 ],
 "metadata": {
  "kernelspec": {
   "display_name": "Python 3",
   "language": "python",
   "name": "python3"
  },
  "language_info": {
   "codemirror_mode": {
    "name": "ipython",
    "version": 3
   },
   "file_extension": ".py",
   "mimetype": "text/x-python",
   "name": "python",
   "nbconvert_exporter": "python",
   "pygments_lexer": "ipython3",
   "version": "3.8.3"
  }
 },
 "nbformat": 4,
 "nbformat_minor": 4
}
