{
 "cells": [
  {
   "cell_type": "markdown",
   "metadata": {},
   "source": [
    "# Python File Handling"
   ]
  },
  {
   "cell_type": "markdown",
   "metadata": {},
   "source": [
    "Python provides a wide range of built-in functions for file handling. It makes it really easy to create, update, read, and delete files.\n",
    "\n"
   ]
  },
  {
   "cell_type": "markdown",
   "metadata": {},
   "source": [
    "### Open a File\n",
    "When you want to work with a file, the first thing to do is to open it. You can open a file using open() built-in function specifying its name."
   ]
  },
  {
   "cell_type": "code",
   "execution_count": 1,
   "metadata": {},
   "outputs": [],
   "source": [
    "f = open('myfile.txt')"
   ]
  },
  {
   "cell_type": "markdown",
   "metadata": {},
   "source": [
    "When you specify the filename only, it is assumed that the file is located in the same folder as Python. If it is somewhere else, you can specify the exact path where the file is located.\n",
    "\n"
   ]
  },
  {
   "cell_type": "code",
   "execution_count": null,
   "metadata": {},
   "outputs": [],
   "source": [
    "f = open(r'C:\\Python33\\Scripts\\myfile.txt')"
   ]
  },
  {
   "cell_type": "markdown",
   "metadata": {},
   "source": [
    "Remember! While specifying the exact path, characters prefaced by \\ (like \\n \\r \\t etc.) are interpreted as special characters. You can escape them using:\n",
    "\n",
    "raw strings like r'C:\\new\\text.txt'\n",
    "double backslashes like 'C:\\\\new\\\\text.txt'"
   ]
  },
  {
   "cell_type": "markdown",
   "metadata": {},
   "source": [
    "### Specify File Mode\n",
    "Here are five different modes you can use to open the file:"
   ]
  },
  {
   "cell_type": "markdown",
   "metadata": {},
   "source": [
    "|Character\t|Mode\t|Description|\n",
    "|---------|----------|-----------|\n",
    "|‘r’\t|Read (default)\t|Open a file for read only|\n",
    "|‘w’\t|Write\t|Open a file for write only (overwrite)|\n",
    "|‘a’\t|Append\t|Open a file for write only (append)|\n",
    "|‘r+’\t|Read+Write\t|open a file for both reading and writing|\n",
    "|‘x’\t|Create\t|Create a new file|\n"
   ]
  },
  {
   "cell_type": "markdown",
   "metadata": {},
   "source": [
    "You can also specify how the file should be handled."
   ]
  },
  {
   "cell_type": "markdown",
   "metadata": {},
   "source": [
    "|Character\t|Mode\t|Description|\n",
    "|-----------|-------|------------|\n",
    "|‘t’\t|Text (default)\t|Read and write strings from and to the file.|\n",
    "|‘b’\t|Binary\t|Read and write bytes objects from and to the file.This mode is used for all files that don’t contain text (e.g. images).|"
   ]
  },
  {
   "cell_type": "markdown",
   "metadata": {},
   "source": [
    "Here are some examples:"
   ]
  },
  {
   "cell_type": "code",
   "execution_count": 2,
   "metadata": {},
   "outputs": [],
   "source": [
    "# Open a file for reading\n",
    "f = open('myfile.txt')\n",
    "\n",
    "# Open a file for writing\n",
    "f = open('myfile.txt', 'w')\n",
    "\n",
    "# Open a file for reading and writing\n",
    "f = open('myfile.txt', 'r+')\n",
    "\n",
    "# Open a binary file for reading\n",
    "f = open('myfile.txt', 'rb')"
   ]
  },
  {
   "cell_type": "markdown",
   "metadata": {},
   "source": [
    "Because read mode ‘r’ and text mode ‘t’ are default modes, you do not need to specify them."
   ]
  },
  {
   "cell_type": "markdown",
   "metadata": {},
   "source": [
    "### Read a File"
   ]
  },
  {
   "cell_type": "markdown",
   "metadata": {},
   "source": [
    "Suppose you have the following file."
   ]
  },
  {
   "cell_type": "markdown",
   "metadata": {},
   "source": [
    "myfile.txt\n",
    "\n",
    "First line of the file.\n",
    "\n",
    "Second line of the file.\n",
    "\n",
    "Third line of the file."
   ]
  },
  {
   "cell_type": "markdown",
   "metadata": {},
   "source": [
    "To read its contents, you can use read() method."
   ]
  },
  {
   "cell_type": "code",
   "execution_count": 3,
   "metadata": {},
   "outputs": [
    {
     "name": "stdout",
     "output_type": "stream",
     "text": [
      "First line of the file.\n",
      "\n",
      "Second line of the file.\n",
      "\n",
      "Third line of the file.\n"
     ]
    }
   ],
   "source": [
    "# Read entire file\n",
    "f = open('myfile.txt')\n",
    "print(f.read())\n",
    "\n",
    "# Prints:\n",
    "# First line of the file.\n",
    "# Second line of the file.\n",
    "# Third line of the file."
   ]
  },
  {
   "cell_type": "markdown",
   "metadata": {},
   "source": [
    "By default, the read() method reads the entire file. However, you can specify the maximum number of characters to read."
   ]
  },
  {
   "cell_type": "code",
   "execution_count": 4,
   "metadata": {},
   "outputs": [
    {
     "name": "stdout",
     "output_type": "stream",
     "text": [
      "Fir\n",
      "st li\n"
     ]
    }
   ],
   "source": [
    "f = open('myfile.txt')\n",
    "\n",
    "print(f.read(3))\n",
    "# Prints Fir\n",
    "\n",
    "print(f.read(5))\n",
    "# Prints First"
   ]
  },
  {
   "cell_type": "markdown",
   "metadata": {},
   "source": [
    "### Read Lines"
   ]
  },
  {
   "cell_type": "markdown",
   "metadata": {},
   "source": [
    "To read a single line from the file, use readline() method."
   ]
  },
  {
   "cell_type": "code",
   "execution_count": 5,
   "metadata": {},
   "outputs": [
    {
     "name": "stdout",
     "output_type": "stream",
     "text": [
      "First line of the file.\n",
      "\n",
      "\n",
      "\n"
     ]
    }
   ],
   "source": [
    "f = open('myfile.txt')\n",
    "print(f.readline())\n",
    "# Prints First line of the file.\n",
    "\n",
    "# Call it again to read next line\n",
    "print(f.readline())\n",
    "# Prints Second line of the file."
   ]
  },
  {
   "cell_type": "markdown",
   "metadata": {},
   "source": [
    "You can loop through an entire file line-by-line using a simple for loop."
   ]
  },
  {
   "cell_type": "code",
   "execution_count": 6,
   "metadata": {},
   "outputs": [
    {
     "name": "stdout",
     "output_type": "stream",
     "text": [
      "First line of the file.\n",
      "\n",
      "\n",
      "\n",
      "Second line of the file.\n",
      "\n",
      "\n",
      "\n",
      "Third line of the file.\n"
     ]
    }
   ],
   "source": [
    "f = open('myfile.txt')\n",
    "for line in f:\n",
    "    print(line)\n",
    "\n",
    "# Prints:\n",
    "# First line of the file.\n",
    "# Second line of the file.\n",
    "# Third line of the file."
   ]
  },
  {
   "cell_type": "markdown",
   "metadata": {},
   "source": [
    "If you want to read all the lines in a file into a list of strings, use readlines() method."
   ]
  },
  {
   "cell_type": "code",
   "execution_count": 7,
   "metadata": {},
   "outputs": [
    {
     "name": "stdout",
     "output_type": "stream",
     "text": [
      "['First line of the file.\\n', '\\n', 'Second line of the file.\\n', '\\n', 'Third line of the file.']\n"
     ]
    }
   ],
   "source": [
    "# Read all the lines in a file into a list of strings\n",
    "f = open('myfile.txt')\n",
    "print(f.readlines())\n",
    "\n",
    "# Prints:\n",
    "# ['First line of the file.\\n', 'Second line of the file.\\n', 'Third line of the file.']"
   ]
  },
  {
   "cell_type": "markdown",
   "metadata": {},
   "source": [
    "### Write a File\n",
    "Use the write() built-in method to write to an existing file. Remember that you need to open the file in one of the writing modes (‘w’, ‘a’ or ‘r+’) first.\n",
    "\n"
   ]
  },
  {
   "cell_type": "markdown",
   "metadata": {},
   "source": [
    "### Write mode ‘w’\n",
    "In ‘w’ mode the entire contents of the file are overwritten:"
   ]
  },
  {
   "cell_type": "code",
   "execution_count": 8,
   "metadata": {},
   "outputs": [
    {
     "data": {
      "text/plain": [
       "24"
      ]
     },
     "execution_count": 8,
     "metadata": {},
     "output_type": "execute_result"
    }
   ],
   "source": [
    "f = open('myfile.txt', 'w')\n",
    "f.write('Overwrite existing data.')"
   ]
  },
  {
   "cell_type": "markdown",
   "metadata": {},
   "source": [
    "myfile.txt\n",
    "\n",
    "Overwrite existing data."
   ]
  },
  {
   "cell_type": "markdown",
   "metadata": {},
   "source": [
    "### Append mode ‘a’\n",
    "In ‘a’ mode, text is added to the end of the file:"
   ]
  },
  {
   "cell_type": "code",
   "execution_count": 9,
   "metadata": {},
   "outputs": [
    {
     "data": {
      "text/plain": [
       "18"
      ]
     },
     "execution_count": 9,
     "metadata": {},
     "output_type": "execute_result"
    }
   ],
   "source": [
    "f = open('myfile.txt', 'a')\n",
    "f.write(' Append this text.')"
   ]
  },
  {
   "cell_type": "markdown",
   "metadata": {},
   "source": [
    "myfile.txt\n",
    "\n",
    "Overwrite existing data.\n",
    "\n",
    "Append this text."
   ]
  },
  {
   "cell_type": "markdown",
   "metadata": {},
   "source": [
    "### Read-write mode ‘r+’\n",
    "In ‘r+’ mode, the file is partially overwritten:"
   ]
  },
  {
   "cell_type": "code",
   "execution_count": 10,
   "metadata": {},
   "outputs": [
    {
     "data": {
      "text/plain": [
       "23"
      ]
     },
     "execution_count": 10,
     "metadata": {},
     "output_type": "execute_result"
    }
   ],
   "source": [
    "f = open('myfile.txt', 'r+')\n",
    "f.write('---Overwrite content---')"
   ]
  },
  {
   "cell_type": "markdown",
   "metadata": {},
   "source": [
    "myfile.txt\n",
    "\n",
    "---Overwrite content---\n",
    "\n",
    "Second line of the file.\n",
    "\n",
    "Third line of the file."
   ]
  },
  {
   "cell_type": "markdown",
   "metadata": {},
   "source": [
    "### Write Multiple Lines\n",
    "To write multiple lines to a file at once, use writelines() method. This method accepts list of strings as an input."
   ]
  },
  {
   "cell_type": "code",
   "execution_count": 11,
   "metadata": {},
   "outputs": [],
   "source": [
    "f = open('myfile.txt', 'w')\n",
    "lines = ['New line 1\\n', 'New line 2\\n', 'New line 3']\n",
    "f.writelines(lines)"
   ]
  },
  {
   "cell_type": "markdown",
   "metadata": {},
   "source": [
    "myfile.txt\n",
    "\n",
    "New line 1\n",
    "\n",
    "New line 2\n",
    "\n",
    "New line 3\n"
   ]
  },
  {
   "cell_type": "markdown",
   "metadata": {},
   "source": [
    "### Flush Output Buffer\n",
    "When you write to a file, the data is not immediately written to disk instead it is stored in buffer memory. It is written to disk only when you close the file or manually flush the output buffer."
   ]
  },
  {
   "cell_type": "code",
   "execution_count": 12,
   "metadata": {},
   "outputs": [],
   "source": [
    "# Flush output buffer to disk without closing\n",
    "f = open('myfile.txt', 'a')\n",
    "f.write('Append this text.')\n",
    "f.flush()"
   ]
  },
  {
   "cell_type": "markdown",
   "metadata": {},
   "source": [
    "### Close a File\n",
    "It’s a good practice to close the file once you are finished with it. You don’t want an open file running around taking up resources!\n",
    "\n",
    "Use the close() function to close an open file."
   ]
  },
  {
   "cell_type": "code",
   "execution_count": 13,
   "metadata": {},
   "outputs": [
    {
     "name": "stdout",
     "output_type": "stream",
     "text": [
      "True\n"
     ]
    }
   ],
   "source": [
    "f = open('myfile.txt')\n",
    "f.close()\n",
    "\n",
    "# check closed status\n",
    "print(f.closed)\n",
    "# Prints True"
   ]
  },
  {
   "cell_type": "markdown",
   "metadata": {},
   "source": [
    "There are two approaches to ensure that a file is closed properly, even in cases of error.\n",
    "\n",
    "The first approach is to use the with keyword, which Python recommends, as it automatically takes care of closing the file once it leaves the with block (even in cases of error)."
   ]
  },
  {
   "cell_type": "code",
   "execution_count": 14,
   "metadata": {},
   "outputs": [
    {
     "name": "stdout",
     "output_type": "stream",
     "text": [
      "New line 1\n",
      "New line 2\n",
      "New line 3Append this text.\n"
     ]
    }
   ],
   "source": [
    "with open('myfile.txt') as f:\n",
    "    print(f.read())"
   ]
  },
  {
   "cell_type": "markdown",
   "metadata": {},
   "source": [
    "The second approach is to use the try-finally block:"
   ]
  },
  {
   "cell_type": "code",
   "execution_count": null,
   "metadata": {},
   "outputs": [],
   "source": [
    "f = open('myfile.txt')\n",
    "try:\n",
    "    # File operations goes here\n",
    "finally:\n",
    "    f.close()"
   ]
  },
  {
   "cell_type": "markdown",
   "metadata": {},
   "source": [
    "### Create a New File\n",
    "If you try to open a file for writing that does not exist, Python will automatically create the file for you."
   ]
  },
  {
   "cell_type": "code",
   "execution_count": 16,
   "metadata": {},
   "outputs": [],
   "source": [
    "# Create a file and open it for writing\n",
    "\n",
    "# write mode\n",
    "f = open('newFile.txt', 'w')\n",
    "\n",
    "# append mode\n",
    "f = open('newFile.txt', 'a')\n",
    "\n",
    "# read + write mode\n",
    "f = open('newFile.txt', 'r+')"
   ]
  },
  {
   "cell_type": "markdown",
   "metadata": {},
   "source": [
    "There is another way to create a file. You can use open() method and specify exclusive creation mode ‘x’.\n",
    "\n"
   ]
  },
  {
   "cell_type": "code",
   "execution_count": 18,
   "metadata": {},
   "outputs": [],
   "source": [
    "# Create a file exclusively\n",
    "f = open('newFile2.txt', 'x')"
   ]
  },
  {
   "cell_type": "markdown",
   "metadata": {},
   "source": [
    "Note that when you use this mode, make sure that the file is not already present, if it is, Python will raise the error."
   ]
  },
  {
   "cell_type": "markdown",
   "metadata": {},
   "source": [
    "### Delete a File\n",
    "You can delete a file by importing the OS module and using its remove() method."
   ]
  },
  {
   "cell_type": "code",
   "execution_count": 19,
   "metadata": {},
   "outputs": [],
   "source": [
    "import os\n",
    "os.remove('myfile.txt')"
   ]
  },
  {
   "cell_type": "markdown",
   "metadata": {},
   "source": [
    "### Check if File Exists\n",
    "If you try to open or delete a file that does not exist, an error occurs. To avoid this, you can precheck if the file already exists by using the isfile() method from the OS module."
   ]
  },
  {
   "cell_type": "code",
   "execution_count": 20,
   "metadata": {},
   "outputs": [
    {
     "name": "stdout",
     "output_type": "stream",
     "text": [
      "The file does not exist.\n"
     ]
    }
   ],
   "source": [
    "import os\n",
    "if os.path.isfile('myfile.txt'):\n",
    "\tf = open('myfile.txt')\n",
    "else:\n",
    "\tprint('The file does not exist.')\t"
   ]
  },
  {
   "cell_type": "markdown",
   "metadata": {},
   "source": [
    "### Random Access\n",
    "Sometimes you need to read from the record in the middle of the file at that time you can use the seek(offset, from_what) method. This function moves the file pointer from its current position to a specific position.\n",
    "\n",
    "The offset is the number of characters from the from_what parameter which has three possible values:\n",
    "\n",
    "- 0 – indicates the beginning of the file (default)\n",
    "- 1 – indicates the current pointer position\n",
    "- 2 – indicates the end of the file\n",
    "Suppose you have the following file."
   ]
  },
  {
   "cell_type": "markdown",
   "metadata": {},
   "source": [
    "Suppose you have the following file.\n",
    "\n",
    "myfile.txt\n",
    "\n",
    "ABCDEFGHIJKLMNOPQRSTUVWXYZ"
   ]
  },
  {
   "cell_type": "markdown",
   "metadata": {},
   "source": [
    "Here’s how you can use the seek() method to randomly access the contents of a file."
   ]
  },
  {
   "cell_type": "code",
   "execution_count": 22,
   "metadata": {},
   "outputs": [
    {
     "name": "stdout",
     "output_type": "stream",
     "text": [
      "b'G'\n",
      "b'K'\n",
      "b'X'\n"
     ]
    }
   ],
   "source": [
    "f = open('newFile.txt', 'rb+')\n",
    "\n",
    "# go to the 7th character and read one character\n",
    "f.seek(6)\n",
    "print(f.read(1))\n",
    "# Prints G\n",
    "\n",
    "# go to the 3rd character from current position (letter G)\n",
    "f.seek(3, 1)\n",
    "print(f.read(1))\n",
    "# Prints K\n",
    "\n",
    "# go to the 3rd character before the end\n",
    "f.seek(-3, 2)\n",
    "print(f.read(1))\n",
    "# Prints X"
   ]
  },
  {
   "cell_type": "markdown",
   "metadata": {},
   "source": [
    "If you want to check the current position of the file pointer, use the tell() method."
   ]
  },
  {
   "cell_type": "code",
   "execution_count": 24,
   "metadata": {},
   "outputs": [
    {
     "name": "stdout",
     "output_type": "stream",
     "text": [
      "0\n",
      "5\n"
     ]
    }
   ],
   "source": [
    "f = open('newFile.txt')\n",
    "\n",
    "# initial position\n",
    "print(f.tell())\n",
    "# Prints 0\n",
    "\n",
    "# after reading 5 characters\n",
    "f.read(5)\n",
    "print(f.tell())\n",
    "# Prints 5"
   ]
  },
  {
   "cell_type": "code",
   "execution_count": null,
   "metadata": {},
   "outputs": [],
   "source": []
  }
 ],
 "metadata": {
  "kernelspec": {
   "display_name": "Python 3",
   "language": "python",
   "name": "python3"
  },
  "language_info": {
   "codemirror_mode": {
    "name": "ipython",
    "version": 3
   },
   "file_extension": ".py",
   "mimetype": "text/x-python",
   "name": "python",
   "nbconvert_exporter": "python",
   "pygments_lexer": "ipython3",
   "version": "3.8.3"
  }
 },
 "nbformat": 4,
 "nbformat_minor": 4
}
