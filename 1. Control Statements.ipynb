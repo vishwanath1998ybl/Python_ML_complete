{
 "cells": [
  {
   "cell_type": "markdown",
   "metadata": {},
   "source": [
    "# Python if else elif Statement"
   ]
  },
  {
   "cell_type": "markdown",
   "metadata": {},
   "source": [
    "Often you need to execute some statements, only when certain condition holds. You can use following conditional statements in your code to do this.\n",
    "\n",
    "- if Statement: use it to execute a block of code, if a specified condition is true\n",
    "- else Statement: use it to execute a block of code, if the same condition is false\n",
    "- elif (else if) Statement: use it to specify a new condition to test, if the first condition is false\n"
   ]
  },
  {
   "cell_type": "markdown",
   "metadata": {},
   "source": [
    "### The if Statement\n",
    "Use if statement to execute a block of Python code, if the condition is true."
   ]
  },
  {
   "cell_type": "markdown",
   "metadata": {},
   "source": [
    "![image](https://www.learnbyexample.org/wp-content/uploads/python/Python-if-Statement-Syntax.png)"
   ]
  },
  {
   "cell_type": "code",
   "execution_count": 1,
   "metadata": {},
   "outputs": [
    {
     "name": "stdout",
     "output_type": "stream",
     "text": [
      "x is greater\n"
     ]
    }
   ],
   "source": [
    "x, y = 7, 5\n",
    "if x > y:\n",
    "\tprint('x is greater')\n",
    "\n",
    "# Prints x is greater"
   ]
  },
  {
   "cell_type": "markdown",
   "metadata": {},
   "source": [
    "Likewise, you can use following comparison operators to compare two values:\n",
    "\n",
    "|Operator\t|Meaning|\tExample|\n",
    "|-----------|-------|---------|\n",
    "|==\t|Equals\t|if x == y|\n",
    "|!=\t|Not equals\t|if x != y|\n",
    "|>\t|Greater than\t|if x > y|\n",
    "|>=\t|Greater than or equal to\t|if x >= y|\n",
    "|<\t|Less than\t|if x < y|\n",
    "|<=\t|Less than or equal to\t|if x <= y|\n"
   ]
  },
  {
   "cell_type": "markdown",
   "metadata": {},
   "source": [
    "### More Examples\n",
    "In Python, any non-zero value or nonempty container is considered TRUE, whereas Zero, None, and empty container is considered FALSE. That’s why all the below if statements are valid."
   ]
  },
  {
   "cell_type": "code",
   "execution_count": 2,
   "metadata": {},
   "outputs": [
    {
     "name": "stdout",
     "output_type": "stream",
     "text": [
      "True\n",
      "True\n",
      "True\n"
     ]
    }
   ],
   "source": [
    "# any non-zero value\n",
    "if -3:\n",
    "    print('True')\n",
    "# Prints True\n",
    "\n",
    "# mathematical expression\n",
    "x, y = 7, 5\n",
    "if x + y:\n",
    "    print('True')\n",
    "# Prints True\n",
    "\n",
    "# nonempty container\n",
    "L = ['red','green']\n",
    "if L:\n",
    "    print('True')\n",
    "# Prints True"
   ]
  },
  {
   "cell_type": "markdown",
   "metadata": {},
   "source": [
    "### Significance of Indentation\n",
    "Indentation has a special significance in Python. It is used to define a block of code (often referred to as, a suite). Contiguous statements that are indented to the same level are considered as part of the same block.\n",
    "\n",
    "if statement without indentation raises syntax error."
   ]
  },
  {
   "cell_type": "code",
   "execution_count": 3,
   "metadata": {},
   "outputs": [
    {
     "ename": "IndentationError",
     "evalue": "expected an indented block (<ipython-input-3-1a16a5e12608>, line 3)",
     "output_type": "error",
     "traceback": [
      "\u001b[0;36m  File \u001b[0;32m\"<ipython-input-3-1a16a5e12608>\"\u001b[0;36m, line \u001b[0;32m3\u001b[0m\n\u001b[0;31m    print('x is greater')\u001b[0m\n\u001b[0m    ^\u001b[0m\n\u001b[0;31mIndentationError\u001b[0m\u001b[0;31m:\u001b[0m expected an indented block\n"
     ]
    }
   ],
   "source": [
    "x, y = 7, 5\n",
    "if x > y:\n",
    "print('x is greater')\n",
    "# Triggers SyntaxError: expected an indented block"
   ]
  },
  {
   "cell_type": "markdown",
   "metadata": {},
   "source": [
    "### Nested if Statement\n",
    "You can nest statements within a code block to begin a new code block, as long as they follow their respective indentations."
   ]
  },
  {
   "cell_type": "code",
   "execution_count": 4,
   "metadata": {},
   "outputs": [
    {
     "name": "stdout",
     "output_type": "stream",
     "text": [
      "x is greater than y\n",
      "x is greater than y and z\n"
     ]
    }
   ],
   "source": [
    "x, y, z = 7, 4, 2\n",
    "if x > y:\n",
    "    print(\"x is greater than y\")\n",
    "    if x > z:\n",
    "        print(\"x is greater than y and z\")\n",
    "\n",
    "# Prints x is greater than y\n",
    "# Prints x is greater than y and z"
   ]
  },
  {
   "cell_type": "markdown",
   "metadata": {},
   "source": [
    "### The else Statement\n",
    "Use else statement to execute a block of Python code, if the condition is false.\n",
    "\n",
    "Syntax\n",
    "\n",
    "![image](https://www.learnbyexample.org/wp-content/uploads/python/Python-if-else-Statement-Syntax.png)\n"
   ]
  },
  {
   "cell_type": "code",
   "execution_count": 5,
   "metadata": {},
   "outputs": [
    {
     "name": "stdout",
     "output_type": "stream",
     "text": [
      "x is greater\n"
     ]
    }
   ],
   "source": [
    "x, y = 7, 5\n",
    "if x < y:\n",
    "    print('y is greater')\n",
    "else:\n",
    "    print('x is greater')\n",
    "\n",
    "# Prints x is greater"
   ]
  },
  {
   "cell_type": "markdown",
   "metadata": {},
   "source": [
    "### The elif (else if) Statement\n",
    "Use elif statement to specify a new condition to test, if the first condition is false.\n",
    "\n",
    "Syntax\n",
    "\n",
    "![image](https://www.learnbyexample.org/wp-content/uploads/python/Python-elif-Statement-Syntax.png)"
   ]
  },
  {
   "cell_type": "code",
   "execution_count": 6,
   "metadata": {},
   "outputs": [
    {
     "name": "stdout",
     "output_type": "stream",
     "text": [
      "x and y are equal\n"
     ]
    }
   ],
   "source": [
    "x, y = 5, 5\n",
    "if x > y:\n",
    "    print('x is greater')\n",
    "elif x < y:\n",
    "    print('y is greater')\n",
    "else:\n",
    "    print('x and y are equal')\n",
    "\n",
    "# Prints x and y are equal"
   ]
  },
  {
   "cell_type": "markdown",
   "metadata": {},
   "source": [
    "### Substitute for Switch Case\n",
    "Unlike other programming languages, Python does not have a ‘switch‘ statement. You can use if…elif…elif sequence as a substitute."
   ]
  },
  {
   "cell_type": "code",
   "execution_count": 8,
   "metadata": {},
   "outputs": [
    {
     "name": "stdout",
     "output_type": "stream",
     "text": [
      "case 2\n"
     ]
    }
   ],
   "source": [
    "choice = 2\n",
    "if choice == 1:\n",
    "\tprint('case 1')\n",
    "elif choice == 2:\n",
    "\tprint('case 2')\n",
    "elif choice == 3:\n",
    "\tprint('case 3')\n",
    "elif choice == 4:\n",
    "\tprint('case 4')\n",
    "else:\n",
    "\tprint('default case')"
   ]
  },
  {
   "cell_type": "markdown",
   "metadata": {},
   "source": [
    "### Multiple Conditions\n",
    "To join two or more conditions into a single if statement, use logical operators viz. and, or and not.\n",
    "\n",
    "and expression is True, if all the conditions are true."
   ]
  },
  {
   "cell_type": "code",
   "execution_count": 9,
   "metadata": {},
   "outputs": [
    {
     "name": "stdout",
     "output_type": "stream",
     "text": [
      "x is greater\n"
     ]
    }
   ],
   "source": [
    "x, y, z = 7, 4, 2\n",
    "if x > y and x > z:\n",
    "    print('x is greater')\n",
    "\n",
    "# Prints x is greater"
   ]
  },
  {
   "cell_type": "markdown",
   "metadata": {},
   "source": [
    "or expression is True, if at least one of the conditions is True."
   ]
  },
  {
   "cell_type": "code",
   "execution_count": 10,
   "metadata": {},
   "outputs": [
    {
     "name": "stdout",
     "output_type": "stream",
     "text": [
      "x is greater than y or z\n"
     ]
    }
   ],
   "source": [
    "x, y, z = 7, 4, 9\n",
    "if x > y or x > z:\n",
    "    print('x is greater than y or z')\n",
    "\n",
    "# Prints x is greater than y or z"
   ]
  },
  {
   "cell_type": "markdown",
   "metadata": {},
   "source": [
    "not expression is True, if the condition is false."
   ]
  },
  {
   "cell_type": "code",
   "execution_count": 11,
   "metadata": {},
   "outputs": [
    {
     "name": "stdout",
     "output_type": "stream",
     "text": [
      "x is greater\n"
     ]
    }
   ],
   "source": [
    "x, y = 7, 5\n",
    "if not x < y:\n",
    "    print('x is greater')\n",
    "\n",
    "# Prints x is greater"
   ]
  },
  {
   "cell_type": "markdown",
   "metadata": {},
   "source": [
    "### One Line if Statement\n",
    "Python allows us to write an entire if statement on one line."
   ]
  },
  {
   "cell_type": "code",
   "execution_count": 12,
   "metadata": {},
   "outputs": [
    {
     "name": "stdout",
     "output_type": "stream",
     "text": [
      "x is greater\n"
     ]
    }
   ],
   "source": [
    "# Short Hand If - single statement\n",
    "x, y = 7, 5\n",
    "if x > y: print('x is greater')\n",
    "\n",
    "# Prints x is greater"
   ]
  },
  {
   "cell_type": "markdown",
   "metadata": {},
   "source": [
    "You can even keep several lines of code on just one line, simply by separating them with a semicolon ; ."
   ]
  },
  {
   "cell_type": "code",
   "execution_count": 13,
   "metadata": {},
   "outputs": [
    {
     "name": "stdout",
     "output_type": "stream",
     "text": [
      "x is greater\n",
      "y is smaller\n",
      "x and y are not equal\n"
     ]
    }
   ],
   "source": [
    "# Short Hand If - multiple statements\n",
    "x, y = 7, 5\n",
    "if x > y: print('x is greater'); print('y is smaller'); print('x and y are not equal')\n",
    "\n",
    "# Prints x is greater\n",
    "# Prints y is smaller\n",
    "# Prints x and y are not equal"
   ]
  },
  {
   "cell_type": "markdown",
   "metadata": {},
   "source": [
    "### Conditional Expressions (ternary operator)\n",
    "Conditional expression (sometimes referred to as ‘ternary operator’) allows us to select one of two statements depending on the specified condition.\n",
    "\n",
    "The syntax of the conditional expression is :"
   ]
  },
  {
   "cell_type": "markdown",
   "metadata": {},
   "source": [
    "![image](https://www.learnbyexample.org/wp-content/uploads/python/Python-Ternary-Operator-Syntax.png)"
   ]
  },
  {
   "cell_type": "code",
   "execution_count": 14,
   "metadata": {},
   "outputs": [
    {
     "name": "stdout",
     "output_type": "stream",
     "text": [
      "x is greater\n"
     ]
    }
   ],
   "source": [
    "x, y = 7, 5\n",
    "print('x is greater') if x > y else print('y is greater')\n",
    "\n",
    "# Prints x is greater"
   ]
  },
  {
   "cell_type": "code",
   "execution_count": 15,
   "metadata": {},
   "outputs": [
    {
     "name": "stdout",
     "output_type": "stream",
     "text": [
      "7\n"
     ]
    }
   ],
   "source": [
    "x, y = 7, 5\n",
    "max = x if x > y else y\n",
    "print(max)\n",
    "# Prints 7"
   ]
  },
  {
   "cell_type": "markdown",
   "metadata": {},
   "source": [
    "### Check If Item Present in a Sequence"
   ]
  },
  {
   "cell_type": "code",
   "execution_count": 16,
   "metadata": {},
   "outputs": [
    {
     "name": "stdout",
     "output_type": "stream",
     "text": [
      "yes\n",
      "yes\n",
      "Yes\n"
     ]
    }
   ],
   "source": [
    "# list\n",
    "L = ['red', 'green', 'blue']\n",
    "if 'red' in L:\n",
    "    print('yes')\n",
    "# Prints yes\n",
    "\n",
    "# tuple\n",
    "T = ('red', 'green', 'blue')\n",
    "if 'red' in T:\n",
    "    print('yes')\n",
    "# Prints yes\n",
    "\n",
    "# string\n",
    "S = 'Hello, World!'\n",
    "if 'Hello' in S:\n",
    "    print('Yes')\n",
    "# Prints yes"
   ]
  },
  {
   "cell_type": "code",
   "execution_count": null,
   "metadata": {},
   "outputs": [],
   "source": []
  }
 ],
 "metadata": {
  "kernelspec": {
   "display_name": "Python 3",
   "language": "python",
   "name": "python3"
  },
  "language_info": {
   "codemirror_mode": {
    "name": "ipython",
    "version": 3
   },
   "file_extension": ".py",
   "mimetype": "text/x-python",
   "name": "python",
   "nbconvert_exporter": "python",
   "pygments_lexer": "ipython3",
   "version": "3.8.3"
  }
 },
 "nbformat": 4,
 "nbformat_minor": 4
}
