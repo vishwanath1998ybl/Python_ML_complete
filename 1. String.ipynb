{
 "cells": [
  {
   "cell_type": "markdown",
   "metadata": {},
   "source": [
    "# Python String"
   ]
  },
  {
   "cell_type": "markdown",
   "metadata": {},
   "source": [
    "A string is a sequence of characters. You must have used strings in other languages as well. Python strings play the same role as character arrays in languages like C, but they are somewhat higher-level tools than arrays.\n",
    "\n",
    "Unlike languages such as C, in Python, strings come with a powerful set of processing tools.\n",
    "\n"
   ]
  },
  {
   "cell_type": "markdown",
   "metadata": {},
   "source": [
    "### Create a String\n",
    "A python string is zero or more characters written inside single quotes ' ' or double quotes \" \""
   ]
  },
  {
   "cell_type": "code",
   "execution_count": 1,
   "metadata": {},
   "outputs": [],
   "source": [
    "S = 'Hello, World!'   # single quotes\n",
    "S = \"Hello, World!\"   # double quotes"
   ]
  },
  {
   "cell_type": "markdown",
   "metadata": {},
   "source": [
    "### Multiline Strings\n",
    "You can create a multiline string using triple-quotes: \"\"\"  \"\"\" or '''  '''."
   ]
  },
  {
   "cell_type": "code",
   "execution_count": 3,
   "metadata": {},
   "outputs": [
    {
     "name": "stdout",
     "output_type": "stream",
     "text": [
      "String literals can\n",
      "span multiple lines.\n"
     ]
    }
   ],
   "source": [
    "S = \"\"\"String literals can\n",
    "span multiple lines.\"\"\"\n",
    "print(S)\n",
    "# String literals can\n",
    "# span multiple lines."
   ]
  },
  {
   "cell_type": "markdown",
   "metadata": {},
   "source": [
    "### The str() Constructor\n",
    "You can convert almost any object in Python to a string using a type constructor called str()"
   ]
  },
  {
   "cell_type": "code",
   "execution_count": 5,
   "metadata": {},
   "outputs": [
    {
     "name": "stdout",
     "output_type": "stream",
     "text": [
      "42\n",
      "(3+4j)\n",
      "[1, 1]\n"
     ]
    }
   ],
   "source": [
    "# an integer to a string\n",
    "S = str(42)\n",
    "print(S)\n",
    "# Prints '42'\n",
    "\n",
    "# a complex number to a string\n",
    "S = str(3+4j)\n",
    "print(S)\n",
    "# Prints '(3+4j)\n",
    "\n",
    "# a list to a string\n",
    "S = str([1,1])\n",
    "print(S)\n",
    "# Prints '[1, 1]'"
   ]
  },
  {
   "cell_type": "markdown",
   "metadata": {},
   "source": [
    "### Access Characters by Index\n",
    "You can access individual characters in a string using an index in square brackets. The string indexing starts from 0.\n",
    "\n",
    "You can also access a string by negative indexing. A negative string index counts from the end of the string.\n",
    "\n",
    "\n",
    " \n",
    "The indices for the elements in a string are illustrated as below:\n",
    "![Slice](https://www.learnbyexample.org/wp-content/uploads/python/String-Indexing.png)"
   ]
  },
  {
   "cell_type": "code",
   "execution_count": 6,
   "metadata": {},
   "outputs": [
    {
     "name": "stdout",
     "output_type": "stream",
     "text": [
      "A\n",
      "E\n",
      "I\n",
      "D\n"
     ]
    }
   ],
   "source": [
    "# Indexing\n",
    "S = 'ABCDEFGHI'\n",
    "print(S[0])    # Prints A\n",
    "print(S[4])    # Prints E\n",
    "\n",
    "# Negative Indexing\n",
    "S = 'ABCDEFGHI'\n",
    "print(S[-1])    # Prints I\n",
    "print(S[-6])    # Prints D"
   ]
  },
  {
   "cell_type": "markdown",
   "metadata": {},
   "source": [
    "### Slicing a String\n",
    "A segment of a string is called a slice and you can extract one by using a slice operator. A slice of a string is also a string.\n",
    "\n",
    "The slice operator [n:m] returns the part of the string from the “n-th” item to the “m-th” item, including the first but excluding the last."
   ]
  },
  {
   "cell_type": "code",
   "execution_count": 7,
   "metadata": {},
   "outputs": [
    {
     "name": "stdout",
     "output_type": "stream",
     "text": [
      "CDE\n",
      "FGH\n",
      "BDF\n"
     ]
    }
   ],
   "source": [
    "S = 'ABCDEFGHI'\n",
    "print(S[2:5])      # Prints CDE\n",
    "print(S[5:-1])     # Prints FGH\n",
    "print(S[1:6:2])    # Prints BDF"
   ]
  },
  {
   "cell_type": "markdown",
   "metadata": {},
   "source": [
    "### Modify a String\n",
    "It is tempting to use the [] operator on the left side of an assignment, in order to convert a character into a string. for example:"
   ]
  },
  {
   "cell_type": "code",
   "execution_count": 9,
   "metadata": {},
   "outputs": [
    {
     "ename": "TypeError",
     "evalue": "'str' object does not support item assignment",
     "output_type": "error",
     "traceback": [
      "\u001b[0;31m---------------------------------------------------------------------------\u001b[0m",
      "\u001b[0;31mTypeError\u001b[0m                                 Traceback (most recent call last)",
      "\u001b[0;32m<ipython-input-9-273ed94d5142>\u001b[0m in \u001b[0;36m<module>\u001b[0;34m\u001b[0m\n\u001b[1;32m      1\u001b[0m \u001b[0mS\u001b[0m \u001b[0;34m=\u001b[0m \u001b[0;34m'Hello, World!'\u001b[0m\u001b[0;34m\u001b[0m\u001b[0;34m\u001b[0m\u001b[0m\n\u001b[0;32m----> 2\u001b[0;31m \u001b[0mS\u001b[0m\u001b[0;34m[\u001b[0m\u001b[0;36m0\u001b[0m\u001b[0;34m]\u001b[0m \u001b[0;34m=\u001b[0m \u001b[0;34m'J'\u001b[0m\u001b[0;34m\u001b[0m\u001b[0;34m\u001b[0m\u001b[0m\n\u001b[0m\u001b[1;32m      3\u001b[0m \u001b[0;31m# Triggers TypeError: 'str' object does not support item assignment\u001b[0m\u001b[0;34m\u001b[0m\u001b[0;34m\u001b[0m\u001b[0;34m\u001b[0m\u001b[0m\n",
      "\u001b[0;31mTypeError\u001b[0m: 'str' object does not support item assignment"
     ]
    }
   ],
   "source": [
    "S = 'Hello, World!'\n",
    "S[0] = 'J'\n",
    "# Triggers TypeError: 'str' object does not support item assignment"
   ]
  },
  {
   "cell_type": "markdown",
   "metadata": {},
   "source": [
    "The reason for the error is that the strings are unchangeable (immutable) and because of which you cannot change the existing string. The best you can do is create a new string that is a variation of the original:"
   ]
  },
  {
   "cell_type": "code",
   "execution_count": 10,
   "metadata": {},
   "outputs": [
    {
     "name": "stdout",
     "output_type": "stream",
     "text": [
      "Jello, world!\n"
     ]
    }
   ],
   "source": [
    "S = 'Hello, world!'\n",
    "new_S = 'J' + S[1:]\n",
    "print(new_S)\n",
    "# Prints Jello, world!"
   ]
  },
  {
   "cell_type": "markdown",
   "metadata": {},
   "source": [
    "### String Concatenation\n",
    "You can concatenate strings using the concatenation operator + or the augmented assignment operator +="
   ]
  },
  {
   "cell_type": "code",
   "execution_count": 11,
   "metadata": {},
   "outputs": [
    {
     "name": "stdout",
     "output_type": "stream",
     "text": [
      "Hello, World!\n",
      "Hello, World!\n"
     ]
    }
   ],
   "source": [
    "# concatenation operator\n",
    "S = 'Hello,' + ' World!'\n",
    "print(S)\n",
    "# Hello, World!\n",
    "\n",
    "# augmented assignment operator\n",
    "S = 'Hello,'\n",
    "S += ' World!'\n",
    "print(S)\n",
    "# Prints Hello, World!"
   ]
  },
  {
   "cell_type": "markdown",
   "metadata": {},
   "source": [
    "In Python, two or more strings next to each other are automatically concatenated, known as Implicit concatenation."
   ]
  },
  {
   "cell_type": "code",
   "execution_count": 12,
   "metadata": {},
   "outputs": [
    {
     "name": "stdout",
     "output_type": "stream",
     "text": [
      "Hello, World!\n"
     ]
    }
   ],
   "source": [
    "S = 'Hello,' \" World!\"\n",
    "print(S)\n",
    "# Prints Hello, World!"
   ]
  },
  {
   "cell_type": "markdown",
   "metadata": {},
   "source": [
    "You can also put several strings within parentheses to join them together. This feature is useful when you want to break long strings."
   ]
  },
  {
   "cell_type": "code",
   "execution_count": 13,
   "metadata": {},
   "outputs": [
    {
     "name": "stdout",
     "output_type": "stream",
     "text": [
      "Put strings within parentheses to join them together.\n"
     ]
    }
   ],
   "source": [
    "S = ('Put strings within parentheses '\n",
    "    'to join them together.')\n",
    "print(S)\n",
    "# Put strings within parentheses to join them together."
   ]
  },
  {
   "cell_type": "code",
   "execution_count": 14,
   "metadata": {},
   "outputs": [],
   "source": [
    "# the hard way\n",
    "S = '--------------------'\n",
    "\n",
    "# the easy way\n",
    "S = '-' * 20"
   ]
  },
  {
   "cell_type": "markdown",
   "metadata": {},
   "source": [
    "### Find String Length\n",
    "To find the number of characters in a string, use len() built-in function."
   ]
  },
  {
   "cell_type": "code",
   "execution_count": 16,
   "metadata": {},
   "outputs": [
    {
     "name": "stdout",
     "output_type": "stream",
     "text": [
      "34\n"
     ]
    }
   ],
   "source": [
    "S = 'Supercalifragilisticexpialidocious'\n",
    "print(len(S))\n",
    "# Prints 34"
   ]
  },
  {
   "cell_type": "markdown",
   "metadata": {},
   "source": [
    "### Replace Text Within a String\n",
    "Sometimes you want to replace a text inside a string, then you can use the replace() method."
   ]
  },
  {
   "cell_type": "code",
   "execution_count": 17,
   "metadata": {},
   "outputs": [
    {
     "name": "stdout",
     "output_type": "stream",
     "text": [
      "Hello, Universe!\n"
     ]
    }
   ],
   "source": [
    "S = 'Hello, World!'\n",
    "x = S.replace('World', 'Universe')\n",
    "print(x)\n",
    "# Prints Hello, Universe!"
   ]
  },
  {
   "cell_type": "markdown",
   "metadata": {},
   "source": [
    "### Split and Join a String\n",
    "Use split() method to chop up a string into a list of substrings, around a specified delimiter."
   ]
  },
  {
   "cell_type": "code",
   "execution_count": 18,
   "metadata": {},
   "outputs": [
    {
     "name": "stdout",
     "output_type": "stream",
     "text": [
      "['red', 'green', 'blue', 'yellow']\n",
      "red\n"
     ]
    }
   ],
   "source": [
    "# Split the string on comma\n",
    "S = 'red,green,blue,yellow'\n",
    "x = S.split(',')\n",
    "print(x)\n",
    "# Prints ['red', 'green', 'blue', 'yellow']\n",
    "print(x[0])\n",
    "# Prints red"
   ]
  },
  {
   "cell_type": "markdown",
   "metadata": {},
   "source": [
    "And use join() method to join the list back into a string, with a specified delimiter in between."
   ]
  },
  {
   "cell_type": "code",
   "execution_count": 19,
   "metadata": {},
   "outputs": [
    {
     "name": "stdout",
     "output_type": "stream",
     "text": [
      "red,green,blue,yellow\n"
     ]
    }
   ],
   "source": [
    "# Join the list of substrings\n",
    "L = ['red', 'green', 'blue', 'yellow']\n",
    "S = ','.join(L)\n",
    "print(S)\n",
    "# Prints red,green,blue,yellow"
   ]
  },
  {
   "cell_type": "markdown",
   "metadata": {},
   "source": [
    "### String Case Conversion"
   ]
  },
  {
   "cell_type": "markdown",
   "metadata": {},
   "source": [
    "Python provides five methods to perform case conversion on the target string viz. lower(), upper(), capitalize(), swapcase() and title()"
   ]
  },
  {
   "cell_type": "code",
   "execution_count": 20,
   "metadata": {},
   "outputs": [
    {
     "name": "stdout",
     "output_type": "stream",
     "text": [
      "hello, world!\n",
      "HELLO, WORLD!\n",
      "Hello, world!\n",
      "hELLO, wORLD!\n",
      "Hello, World!\n"
     ]
    }
   ],
   "source": [
    "S = 'Hello, World!'\n",
    "print(S.lower())\n",
    "# Prints hello, world!\n",
    "\n",
    "S = 'Hello, World!'\n",
    "print(S.upper())\n",
    "# Prints HELLO, WORLD!\n",
    "\n",
    "S = 'Hello, World!'\n",
    "print(S.capitalize())\n",
    "# Prints Hello, world!\n",
    "\n",
    "S = 'Hello, World!'\n",
    "print(S.swapcase())\n",
    "# Prints hELLO, wORLD!\n",
    "\n",
    "S = 'hello, world!'\n",
    "print(S.title())\n",
    "# Prints Hello, World!"
   ]
  },
  {
   "cell_type": "markdown",
   "metadata": {},
   "source": [
    "### Check if Substring Contains in a String\n",
    "To check if a specific text is present in a string, use in operator. The in is a boolean operator, which takes two strings and returns True if the first appears as a substring in the second:"
   ]
  },
  {
   "cell_type": "code",
   "execution_count": 21,
   "metadata": {},
   "outputs": [
    {
     "name": "stdout",
     "output_type": "stream",
     "text": [
      "True\n"
     ]
    }
   ],
   "source": [
    "S = 'Hello, World!'\n",
    "print('Hello' in S)\n",
    "# Prints True"
   ]
  },
  {
   "cell_type": "markdown",
   "metadata": {},
   "source": [
    "To search for a specific text within a string, use find() method. It returns the lowest index in the string where substring is found."
   ]
  },
  {
   "cell_type": "code",
   "execution_count": 22,
   "metadata": {},
   "outputs": [
    {
     "name": "stdout",
     "output_type": "stream",
     "text": [
      "18\n"
     ]
    }
   ],
   "source": [
    "# Search for 'Foolish' within a string\n",
    "S = 'Stay Hungry, Stay Foolish'\n",
    "x = S.find('Foolish')\n",
    "print(x)\n",
    "# Prints 18"
   ]
  },
  {
   "cell_type": "markdown",
   "metadata": {},
   "source": [
    "### Iterate Through a String\n",
    "To iterate over the characters of a string, use a simple for loop."
   ]
  },
  {
   "cell_type": "code",
   "execution_count": 23,
   "metadata": {},
   "outputs": [
    {
     "name": "stdout",
     "output_type": "stream",
     "text": [
      "H e l l o ,   W o r l d ! "
     ]
    }
   ],
   "source": [
    "# Print each character in a string\n",
    "S = 'Hello, World!'\n",
    "for letter in S:\n",
    "    print(letter, end=' ')\n",
    "# H e l l o ,   W o r l d ! "
   ]
  },
  {
   "cell_type": "markdown",
   "metadata": {},
   "source": [
    "### Python Escape Sequence\n",
    "You can use quotes inside a string, as long as they don’t match the quotes surrounding the string."
   ]
  },
  {
   "cell_type": "code",
   "execution_count": 25,
   "metadata": {},
   "outputs": [],
   "source": [
    "S = \"We're open\"\t\t# Escape single quote\n",
    "S = \"I said 'Wow!'\"\t\t# Escape single quotes\n",
    "S = 'I said \"Wow!\"'\t\t# Escape double quotes"
   ]
  },
  {
   "cell_type": "markdown",
   "metadata": {},
   "source": [
    "This is fine for most of the time but what if you want to declare a string with both single and double quotes like:\n",
    "\n",
    "\n",
    "    \n",
    " ### Bob told me, “Sam said, ‘This won’t work.'”\n",
    "\n",
    "Python will raise a SyntaxError, because both quotation marks are special characters. The solution to avoid this problem is to use the backslash escape character \\.\n",
    "\n",
    "Prefixing a special character with \\ turns it into an ordinary character. This is called escaping.\n",
    "\n"
   ]
  },
  {
   "cell_type": "code",
   "execution_count": 27,
   "metadata": {},
   "outputs": [
    {
     "name": "stdout",
     "output_type": "stream",
     "text": [
      "Bob told me, \"Sam said, 'This won't work.'\"\n"
     ]
    }
   ],
   "source": [
    "S = \"Bob told me, \\\"Sam said, 'This won't work.'\\\"\"\n",
    "print(S)\n",
    "# Prints Bob told me, \"Sam said, 'This won't work.'\""
   ]
  },
  {
   "cell_type": "markdown",
   "metadata": {},
   "source": [
    "Backslash escape character is used in representing certain special characters like: \\n is a newline, \\t is a tab. These are known as escape sequences.\n",
    "\n"
   ]
  },
  {
   "cell_type": "code",
   "execution_count": 28,
   "metadata": {},
   "outputs": [
    {
     "name": "stdout",
     "output_type": "stream",
     "text": [
      "First line.\n",
      "\tSecond line.\n"
     ]
    }
   ],
   "source": [
    "S = str('First line.\\n\\tSecond line.')\n",
    "print(S)\n",
    "# First line.\n",
    "#     Second line."
   ]
  },
  {
   "cell_type": "markdown",
   "metadata": {},
   "source": [
    "A list of all valid escape sequences in Python:\n",
    "\n",
    "|Escape Sequence\t|Meaning|\n",
    "|--------|--------|\n",
    "|\\newline\t|Backslash and newline ignored|\n",
    "|\\\\\t|Backslash (\\)|\n",
    "|\\’\t|Single quote (‘)|\n",
    "|\\”\t|Double quote (“)|\n",
    "|\\a\t|ASCII Bell (BEL)|\n",
    "|\\b\t|ASCII Backspace (BS)|\n",
    "|\\f\t|ASCII Formfeed (FF)|\n",
    "|\\n\t|ASCII Linefeed (LF)|\n",
    "|\\r\t|ASCII Carriage Return (CR)|\n",
    "|\\t\t|ASCII Horizontal Tab (TAB)|\n",
    "|\\v\t|ASCII Vertical Tab (VT)|\n",
    "|\\ooo\t|Character with octal value ooo|\n",
    "|\\xhh\t|Character with hex value hh|\n"
   ]
  },
  {
   "cell_type": "markdown",
   "metadata": {},
   "source": [
    "### Raw String\n",
    "Suppose you have stored a file path inside a string. When you execute it, you will get a result like this:\n",
    "\n"
   ]
  },
  {
   "cell_type": "code",
   "execution_count": 29,
   "metadata": {},
   "outputs": [
    {
     "name": "stdout",
     "output_type": "stream",
     "text": [
      "C:\n",
      "ew\text.txt\n"
     ]
    }
   ],
   "source": [
    "S = 'C:\\new\\text.txt'\n",
    "print(S)\n",
    "# C:\n",
    "# ew\text.txt"
   ]
  },
  {
   "cell_type": "markdown",
   "metadata": {},
   "source": [
    "Here, \\n is interpreted as newline and \\t as tab.\n",
    "\n",
    "If you don’t want characters prefaced by \\ to be interpreted as special characters, you can declare the string as a raw string, by adding an r before the first quote."
   ]
  },
  {
   "cell_type": "code",
   "execution_count": 30,
   "metadata": {},
   "outputs": [
    {
     "name": "stdout",
     "output_type": "stream",
     "text": [
      "C:\\new\\text.txt\n"
     ]
    }
   ],
   "source": [
    "S = r'C:\\new\\text.txt'\n",
    "print(S)\n",
    "# C:\\new\\text.txt"
   ]
  },
  {
   "cell_type": "markdown",
   "metadata": {},
   "source": [
    "### String Formatting/String Interpolation\n",
    "In Python, there are three major ways to embed variables inside a string.\n",
    "\n",
    "- printf-style % String Formatting\n",
    "- str.format() Built-in Method\n",
    "- f-String Formatter"
   ]
  },
  {
   "cell_type": "code",
   "execution_count": 31,
   "metadata": {},
   "outputs": [
    {
     "name": "stdout",
     "output_type": "stream",
     "text": [
      "Bob is 25 years old.\n"
     ]
    }
   ],
   "source": [
    "# printf-style % string formatting\n",
    "S = '%s is %d years old.' % ('Bob', 25)\n",
    "print(S)\n",
    "# Prints Bob is 25 years old."
   ]
  },
  {
   "cell_type": "code",
   "execution_count": 32,
   "metadata": {},
   "outputs": [
    {
     "name": "stdout",
     "output_type": "stream",
     "text": [
      "Bob is 25 years old.\n"
     ]
    }
   ],
   "source": [
    "# format() Built-in Method\n",
    "S = '{1} is {0} years old.'.format(25, 'Bob')\n",
    "print(S)\n",
    "# Prints Bob is 25 years old."
   ]
  },
  {
   "cell_type": "code",
   "execution_count": 33,
   "metadata": {},
   "outputs": [
    {
     "name": "stdout",
     "output_type": "stream",
     "text": [
      "Bob is 25 years old.\n"
     ]
    }
   ],
   "source": [
    "# f-String Formatter\n",
    "name = 'Bob'\n",
    "age = 25\n",
    "S = f\"{name} is {age} years old.\"\n",
    "print(S)\n",
    "# Prints Bob is 25 years old."
   ]
  },
  {
   "cell_type": "markdown",
   "metadata": {},
   "source": [
    "# Python String Slicing"
   ]
  },
  {
   "cell_type": "markdown",
   "metadata": {},
   "source": [
    "To access a range of characters in a string, you need to slice a string. One way to do this is to use the simple slicing operator :\n",
    "\n",
    "With this operator you can specify where to start the slicing, where to end and specify the step.\n",
    "\n"
   ]
  },
  {
   "cell_type": "markdown",
   "metadata": {},
   "source": [
    "### Slicing a String"
   ]
  },
  {
   "cell_type": "markdown",
   "metadata": {},
   "source": [
    "If S is a string, the expression S [ start : stop : step ] returns the portion of the string from index start to index stop, at a step size step.\n",
    "\n"
   ]
  },
  {
   "cell_type": "markdown",
   "metadata": {},
   "source": [
    "![String Slice](https://www.learnbyexample.org/wp-content/uploads/python/Python-String-Slicing-Syntax.png)"
   ]
  },
  {
   "cell_type": "markdown",
   "metadata": {},
   "source": [
    "#### Basic Example\n",
    "Here is a basic example of string slicing."
   ]
  },
  {
   "cell_type": "code",
   "execution_count": 34,
   "metadata": {},
   "outputs": [
    {
     "name": "stdout",
     "output_type": "stream",
     "text": [
      "CDEFG\n"
     ]
    }
   ],
   "source": [
    "S = 'ABCDEFGHI'\n",
    "print(S[2:7])\t# CDEFG"
   ]
  },
  {
   "cell_type": "markdown",
   "metadata": {},
   "source": [
    "![Slice](https://www.learnbyexample.org/wp-content/uploads/python/Python-String-Slicing-Illustration.png)"
   ]
  },
  {
   "cell_type": "markdown",
   "metadata": {},
   "source": [
    "### Slice with Negative Indices\n",
    "You can also specify negative indices while slicing a string."
   ]
  },
  {
   "cell_type": "code",
   "execution_count": 35,
   "metadata": {},
   "outputs": [
    {
     "name": "stdout",
     "output_type": "stream",
     "text": [
      "CDEFG\n"
     ]
    }
   ],
   "source": [
    "S = 'ABCDEFGHI'\n",
    "print(S[-7:-2])\t# CDEFG"
   ]
  },
  {
   "cell_type": "markdown",
   "metadata": {},
   "source": [
    "![Slice](https://www.learnbyexample.org/wp-content/uploads/python/Python-String-Slicing-Negative-Indices.png)"
   ]
  },
  {
   "cell_type": "markdown",
   "metadata": {},
   "source": [
    "### Slice with Positive & Negative Indices\n",
    "You can specify both positive and negative indices at the same time."
   ]
  },
  {
   "cell_type": "code",
   "execution_count": 36,
   "metadata": {},
   "outputs": [
    {
     "name": "stdout",
     "output_type": "stream",
     "text": [
      "CD\n"
     ]
    }
   ],
   "source": [
    "S = 'ABCDEFGHI'\n",
    "print(S[2:-5])\t# CD"
   ]
  },
  {
   "cell_type": "markdown",
   "metadata": {},
   "source": [
    "### Specify Step of the Slicing\n",
    "You can specify the step of the slicing using step parameter. The step parameter is optional and by default 1."
   ]
  },
  {
   "cell_type": "code",
   "execution_count": 37,
   "metadata": {},
   "outputs": [
    {
     "name": "stdout",
     "output_type": "stream",
     "text": [
      "CEG\n"
     ]
    }
   ],
   "source": [
    "# Return every 2nd item between position 2 to 7\n",
    "S = 'ABCDEFGHI'\n",
    "print(S[2:7:2])\t# CEG"
   ]
  },
  {
   "cell_type": "markdown",
   "metadata": {},
   "source": [
    "![Slice](https://www.learnbyexample.org/wp-content/uploads/python/Python-String-Slicing-Specifying-Step-Size.png)"
   ]
  },
  {
   "cell_type": "markdown",
   "metadata": {},
   "source": [
    "### Negative Step Size\n",
    "You can even specify a negative step size."
   ]
  },
  {
   "cell_type": "code",
   "execution_count": 38,
   "metadata": {},
   "outputs": [
    {
     "name": "stdout",
     "output_type": "stream",
     "text": [
      "GEC\n"
     ]
    }
   ],
   "source": [
    "# Returns every 2nd item between position 6 to 1 in reverse order\n",
    "S = 'ABCDEFGHI'\n",
    "print(S[6:1:-2])    # GEC"
   ]
  },
  {
   "cell_type": "markdown",
   "metadata": {},
   "source": [
    "### Slice at Beginning & End\n",
    "Omitting the start index starts the slice from the index 0. Meaning, S[:stop] is equivalent to S[0:stop]"
   ]
  },
  {
   "cell_type": "code",
   "execution_count": 39,
   "metadata": {},
   "outputs": [
    {
     "name": "stdout",
     "output_type": "stream",
     "text": [
      "ABC\n"
     ]
    }
   ],
   "source": [
    "# Slice first three characters from the string\n",
    "S = 'ABCDEFGHI'\n",
    "print(S[:3])    # ABC"
   ]
  },
  {
   "cell_type": "markdown",
   "metadata": {},
   "source": [
    "Whereas, omitting the stop index extends the slice to the end of the string. Meaning, S[start:] is equivalent to S[start:len(S)]"
   ]
  },
  {
   "cell_type": "code",
   "execution_count": 40,
   "metadata": {},
   "outputs": [
    {
     "name": "stdout",
     "output_type": "stream",
     "text": [
      "GHI\n"
     ]
    }
   ],
   "source": [
    "# Slice last three characters from the string\n",
    "S = 'ABCDEFGHI'\n",
    "print(S[6:])    # GHI"
   ]
  },
  {
   "cell_type": "markdown",
   "metadata": {},
   "source": [
    "### Reverse a String\n",
    "You can reverse a string by omitting both start and stop indices and specifying a step as -1."
   ]
  },
  {
   "cell_type": "code",
   "execution_count": 41,
   "metadata": {},
   "outputs": [
    {
     "name": "stdout",
     "output_type": "stream",
     "text": [
      "IHGFEDCBA\n"
     ]
    }
   ],
   "source": [
    "S = 'ABCDEFGHI'\n",
    "print(S[::-1])    # IHGFEDCBA"
   ]
  },
  {
   "cell_type": "code",
   "execution_count": null,
   "metadata": {},
   "outputs": [],
   "source": []
  }
 ],
 "metadata": {
  "kernelspec": {
   "display_name": "Python 3",
   "language": "python",
   "name": "python3"
  },
  "language_info": {
   "codemirror_mode": {
    "name": "ipython",
    "version": 3
   },
   "file_extension": ".py",
   "mimetype": "text/x-python",
   "name": "python",
   "nbconvert_exporter": "python",
   "pygments_lexer": "ipython3",
   "version": "3.8.3"
  }
 },
 "nbformat": 4,
 "nbformat_minor": 4
}
