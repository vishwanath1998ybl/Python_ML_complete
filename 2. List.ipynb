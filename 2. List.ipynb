{
 "cells": [
  {
   "cell_type": "markdown",
   "metadata": {},
   "source": [
    "# Python List"
   ]
  },
  {
   "cell_type": "markdown",
   "metadata": {},
   "source": [
    "A list is a sequence of values (similar to an array in other programming languages but more versatile)\n",
    "\n",
    "The values in a list are called items or sometimes elements.\n",
    "\n",
    "The important properties of Python lists are as follows:\n",
    "\n",
    "- Lists are ordered – Lists remember the order of items inserted.\n",
    "- Accessed by index – Items in a list can be accessed using an index.\n",
    "- Lists can contain any sort of object – It can be numbers, strings, tuples and even other lists.\n",
    "- Lists are changeable (mutable) – You can change a list in-place, add new items, and delete or update existing items.\n"
   ]
  },
  {
   "cell_type": "markdown",
   "metadata": {},
   "source": [
    "### Create a List\n",
    "There are several ways to create a new list; the simplest is to enclose the values in square brackets []\n",
    "\n"
   ]
  },
  {
   "cell_type": "code",
   "execution_count": 1,
   "metadata": {},
   "outputs": [],
   "source": [
    "# A list of integers\n",
    "L = [1, 2, 3]\n",
    "\n",
    "# A list of strings\n",
    "L = ['red', 'green', 'blue']"
   ]
  },
  {
   "cell_type": "markdown",
   "metadata": {},
   "source": [
    "The items of a list don’t have to be the same type. The following list contains an integer, a string, a float, a complex number, and a boolean."
   ]
  },
  {
   "cell_type": "code",
   "execution_count": 3,
   "metadata": {},
   "outputs": [],
   "source": [
    "# A list of mixed datatypes\n",
    "L = [ 1, 'abc', 1.23, (3+4j), True]"
   ]
  },
  {
   "cell_type": "markdown",
   "metadata": {},
   "source": [
    "A list containing zero items is called an empty list and you can create one with empty\n",
    "brackets []\n",
    "\n"
   ]
  },
  {
   "cell_type": "code",
   "execution_count": 4,
   "metadata": {},
   "outputs": [],
   "source": [
    "# An empty list\n",
    "L = []"
   ]
  },
  {
   "cell_type": "markdown",
   "metadata": {},
   "source": [
    "### The list() Constructor\n",
    "You can convert other data types to lists using Python’s list() constructor."
   ]
  },
  {
   "cell_type": "code",
   "execution_count": 5,
   "metadata": {},
   "outputs": [
    {
     "name": "stdout",
     "output_type": "stream",
     "text": [
      "['a', 'b', 'c']\n"
     ]
    }
   ],
   "source": [
    "# Convert a string to a list\n",
    "L = list('abc')\n",
    "print(L)\n",
    "# Prints ['a', 'b', 'c']"
   ]
  },
  {
   "cell_type": "code",
   "execution_count": 6,
   "metadata": {},
   "outputs": [
    {
     "name": "stdout",
     "output_type": "stream",
     "text": [
      "[1, 2, 3]\n"
     ]
    }
   ],
   "source": [
    "# Convert a tuple to a list\n",
    "L = list((1, 2, 3))\n",
    "print(L)\n",
    "# Prints [1, 2, 3]"
   ]
  },
  {
   "cell_type": "markdown",
   "metadata": {},
   "source": [
    "### Nested List\n",
    "A list can contain sublists, which in turn can contain sublists themselves, and so on. This is known as nested list.\n",
    "\n",
    "You can use them to arrange data into hierarchical structures."
   ]
  },
  {
   "cell_type": "code",
   "execution_count": 7,
   "metadata": {},
   "outputs": [],
   "source": [
    "L = ['a', ['bb', ['ccc', 'ddd'], 'ee', 'ff'], 'g', 'h']"
   ]
  },
  {
   "cell_type": "markdown",
   "metadata": {},
   "source": [
    "### Access List Items by Index\n",
    "You can think of a list as a relationship between indexes and values. This relationship is called a mapping; each index maps to one of the values. The indexes for the values in a list are illustrated as below:\n",
    "\n"
   ]
  },
  {
   "cell_type": "markdown",
   "metadata": {},
   "source": [
    "![image](https://www.learnbyexample.org/wp-content/uploads/python/Python-List-Indexing.png)"
   ]
  },
  {
   "cell_type": "markdown",
   "metadata": {},
   "source": [
    "Note that the first element of a list is always at index zero.\n",
    "\n",
    "You can access individual items in a list using an index in square brackets."
   ]
  },
  {
   "cell_type": "code",
   "execution_count": 8,
   "metadata": {},
   "outputs": [
    {
     "name": "stdout",
     "output_type": "stream",
     "text": [
      "red\n",
      "blue\n"
     ]
    }
   ],
   "source": [
    "L = ['red', 'green', 'blue', 'yellow', 'black']\n",
    "\n",
    "print(L[0])\n",
    "# Prints red\n",
    "\n",
    "print(L[2])\n",
    "# Prints blue"
   ]
  },
  {
   "cell_type": "markdown",
   "metadata": {},
   "source": [
    "Python will raise an IndexError error, if you use an index that exceeds the number of items in your list.\n",
    "\n"
   ]
  },
  {
   "cell_type": "code",
   "execution_count": 9,
   "metadata": {},
   "outputs": [
    {
     "ename": "IndexError",
     "evalue": "list index out of range",
     "output_type": "error",
     "traceback": [
      "\u001b[0;31m---------------------------------------------------------------------------\u001b[0m",
      "\u001b[0;31mIndexError\u001b[0m                                Traceback (most recent call last)",
      "\u001b[0;32m<ipython-input-9-96656d87f969>\u001b[0m in \u001b[0;36m<module>\u001b[0;34m\u001b[0m\n\u001b[1;32m      1\u001b[0m \u001b[0mL\u001b[0m \u001b[0;34m=\u001b[0m \u001b[0;34m[\u001b[0m\u001b[0;34m'red'\u001b[0m\u001b[0;34m,\u001b[0m \u001b[0;34m'green'\u001b[0m\u001b[0;34m,\u001b[0m \u001b[0;34m'blue'\u001b[0m\u001b[0;34m,\u001b[0m \u001b[0;34m'yellow'\u001b[0m\u001b[0;34m,\u001b[0m \u001b[0;34m'black'\u001b[0m\u001b[0;34m]\u001b[0m\u001b[0;34m\u001b[0m\u001b[0;34m\u001b[0m\u001b[0m\n\u001b[0;32m----> 2\u001b[0;31m \u001b[0mprint\u001b[0m\u001b[0;34m(\u001b[0m\u001b[0mL\u001b[0m\u001b[0;34m[\u001b[0m\u001b[0;36m10\u001b[0m\u001b[0;34m]\u001b[0m\u001b[0;34m)\u001b[0m\u001b[0;34m\u001b[0m\u001b[0;34m\u001b[0m\u001b[0m\n\u001b[0m\u001b[1;32m      3\u001b[0m \u001b[0;31m# Triggers IndexError: list index out of range\u001b[0m\u001b[0;34m\u001b[0m\u001b[0;34m\u001b[0m\u001b[0;34m\u001b[0m\u001b[0m\n",
      "\u001b[0;31mIndexError\u001b[0m: list index out of range"
     ]
    }
   ],
   "source": [
    "L = ['red', 'green', 'blue', 'yellow', 'black']\n",
    "print(L[10])\n",
    "# Triggers IndexError: list index out of range"
   ]
  },
  {
   "cell_type": "markdown",
   "metadata": {},
   "source": [
    "### Negative List Indexing\n",
    "You can access a list by negative indexing as well. Negative indexes count backward from the end of the list. So, L[-1] refers to the last item, L[-2] is the second-last, and so on.\n",
    "\n",
    "The negative indexes for the items in a list are illustrated as below:"
   ]
  },
  {
   "cell_type": "markdown",
   "metadata": {},
   "source": [
    "![image](https://www.learnbyexample.org/wp-content/uploads/python/Python-Negative-List-Indexing.png)"
   ]
  },
  {
   "cell_type": "code",
   "execution_count": 10,
   "metadata": {},
   "outputs": [
    {
     "name": "stdout",
     "output_type": "stream",
     "text": [
      "black\n",
      "yellow\n"
     ]
    }
   ],
   "source": [
    "L = ['red', 'green', 'blue', 'yellow', 'black']\n",
    "\n",
    "print(L[-1])\n",
    "# Prints black\n",
    "\n",
    "print(L[-2])\n",
    "# Prints yellow"
   ]
  },
  {
   "cell_type": "markdown",
   "metadata": {},
   "source": [
    "### Access Nested List Items\n",
    "Similarly, you can access individual items in a nested list using multiple indexes. The first index determines which list to use, and the second indicates the value within that list.\n",
    "\n",
    "The indexes for the items in a nested list are illustrated as below:"
   ]
  },
  {
   "cell_type": "markdown",
   "metadata": {},
   "source": [
    "![image](https://www.learnbyexample.org/wp-content/uploads/python/Python-Nested-List-Indexing.png)"
   ]
  },
  {
   "cell_type": "code",
   "execution_count": 11,
   "metadata": {},
   "outputs": [
    {
     "name": "stdout",
     "output_type": "stream",
     "text": [
      "['eee', 'fff']\n",
      "eee\n"
     ]
    }
   ],
   "source": [
    "L = ['a', 'b', ['cc', 'dd', ['eee', 'fff']], 'g', 'h']\n",
    "\n",
    "print(L[2][2])\n",
    "# Prints ['eee', 'fff']\n",
    "\n",
    "print(L[2][2][0])\n",
    "# Prints eee"
   ]
  },
  {
   "cell_type": "markdown",
   "metadata": {},
   "source": [
    "### Slicing a List\n",
    "A segment of a list is called a slice and you can extract one by using a slice operator. A slice of a list is also a list.\n",
    "\n",
    "The slice operator [n:m] returns the part of the list from the “n-th” item to the “m-th” item, including the first but excluding the last.\n",
    "\n"
   ]
  },
  {
   "cell_type": "code",
   "execution_count": 12,
   "metadata": {},
   "outputs": [
    {
     "name": "stdout",
     "output_type": "stream",
     "text": [
      "['c', 'd', 'e']\n",
      "['a', 'b']\n",
      "['d', 'e']\n"
     ]
    }
   ],
   "source": [
    "L = ['a', 'b', 'c', 'd', 'e', 'f']\n",
    "\n",
    "print(L[2:5])\n",
    "# Prints ['c', 'd', 'e']\n",
    "\n",
    "print(L[0:2])\n",
    "# Prints ['a', 'b']\n",
    "\n",
    "print(L[3:-1])\n",
    "# Prints ['d', 'e']"
   ]
  },
  {
   "cell_type": "markdown",
   "metadata": {},
   "source": [
    "### Change Item Value\n",
    "You can replace an existing element with a new value by assigning the new value to the index."
   ]
  },
  {
   "cell_type": "code",
   "execution_count": 13,
   "metadata": {},
   "outputs": [
    {
     "name": "stdout",
     "output_type": "stream",
     "text": [
      "['orange', 'green', 'blue']\n",
      "['orange', 'green', 'violet']\n"
     ]
    }
   ],
   "source": [
    "L = ['red', 'green', 'blue']\n",
    "\n",
    "L[0] = 'orange'\n",
    "print(L)\n",
    "# Prints ['orange', 'green', 'blue']\n",
    "\n",
    "L[-1] = 'violet'\n",
    "print(L)\n",
    "# Prints ['orange', 'green', 'violet']"
   ]
  },
  {
   "cell_type": "markdown",
   "metadata": {},
   "source": [
    "### Add items to a list\n",
    "To add new values to a list, use append() method. This method adds items only to the end of the list."
   ]
  },
  {
   "cell_type": "code",
   "execution_count": 14,
   "metadata": {},
   "outputs": [
    {
     "name": "stdout",
     "output_type": "stream",
     "text": [
      "['red', 'green', 'yellow', 'blue']\n"
     ]
    }
   ],
   "source": [
    "L = ['red', 'green', 'yellow']\n",
    "L.append('blue')\n",
    "print(L)\n",
    "# Prints ['red', 'green', 'yellow', 'blue']"
   ]
  },
  {
   "cell_type": "markdown",
   "metadata": {},
   "source": [
    "If you want to insert an item at a specific position in a list, use insert() method. Note that all of the values in the list after the inserted value will be moved down one index."
   ]
  },
  {
   "cell_type": "code",
   "execution_count": 15,
   "metadata": {},
   "outputs": [
    {
     "name": "stdout",
     "output_type": "stream",
     "text": [
      "['red', 'blue', 'green', 'yellow']\n"
     ]
    }
   ],
   "source": [
    "L = ['red', 'green', 'yellow']\n",
    "L.insert(1,'blue')\n",
    "print(L)\n",
    "# Prints ['red', 'blue', 'green', 'yellow']"
   ]
  },
  {
   "cell_type": "markdown",
   "metadata": {},
   "source": [
    "### Combine Lists\n",
    "You can merge one list into another by using extend() method. It takes a list as an argument and appends all of the elements."
   ]
  },
  {
   "cell_type": "code",
   "execution_count": 16,
   "metadata": {},
   "outputs": [
    {
     "name": "stdout",
     "output_type": "stream",
     "text": [
      "['red', 'green', 'yellow', 1, 2, 3]\n"
     ]
    }
   ],
   "source": [
    "L = ['red', 'green', 'yellow']\n",
    "L.extend([1,2,3])\n",
    "print(L)\n",
    "# Prints ['red', 'green', 'yellow', 1, 2, 3]"
   ]
  },
  {
   "cell_type": "markdown",
   "metadata": {},
   "source": [
    "Alternatively, you can use the concatenation operator + or the augmented assignment operator +=\n",
    "\n"
   ]
  },
  {
   "cell_type": "code",
   "execution_count": 17,
   "metadata": {},
   "outputs": [
    {
     "name": "stdout",
     "output_type": "stream",
     "text": [
      "['red', 'green', 'blue', 1, 2, 3]\n",
      "['red', 'green', 'blue', 1, 2, 3]\n"
     ]
    }
   ],
   "source": [
    "# concatenation operator\n",
    "L = ['red', 'green', 'blue']\n",
    "L = L + [1,2,3]\n",
    "print(L)\n",
    "# Prints ['red', 'green', 'blue', 1, 2, 3]\n",
    "\n",
    "# augmented assignment operator\n",
    "L = ['red', 'green', 'blue']\n",
    "L += [1,2,3]\n",
    "print(L)\n",
    "# Prints ['red', 'green', 'blue', 1, 2, 3]"
   ]
  },
  {
   "cell_type": "markdown",
   "metadata": {},
   "source": [
    "### Remove items from a list\n",
    "There are several ways to remove items from a list.\n",
    "\n",
    "### Remove an Item by Index\n",
    "If you know the index of the item you want, you can use pop() method. It modifies the list and returns the removed item.\n",
    "\n",
    "If no index is specified, pop() removes and returns the last item in the list."
   ]
  },
  {
   "cell_type": "code",
   "execution_count": 18,
   "metadata": {},
   "outputs": [
    {
     "name": "stdout",
     "output_type": "stream",
     "text": [
      "['red', 'blue']\n",
      "green\n"
     ]
    }
   ],
   "source": [
    "L = ['red', 'green', 'blue']\n",
    "x = L.pop(1)\n",
    "print(L)\n",
    "# Prints ['red', 'blue']\n",
    "\n",
    "# removed item\n",
    "print(x)\n",
    "# Prints green"
   ]
  },
  {
   "cell_type": "markdown",
   "metadata": {},
   "source": [
    "If you don’t need the removed value, use the del statement.\n",
    "\n"
   ]
  },
  {
   "cell_type": "code",
   "execution_count": 19,
   "metadata": {},
   "outputs": [
    {
     "name": "stdout",
     "output_type": "stream",
     "text": [
      "['red', 'blue']\n"
     ]
    }
   ],
   "source": [
    "L = ['red', 'green', 'blue']\n",
    "del L[1]\n",
    "print(L)\n",
    "# Prints ['red', 'blue']"
   ]
  },
  {
   "cell_type": "markdown",
   "metadata": {},
   "source": [
    "### Remove an Item by Value\n",
    "If you’re not sure where the item is in the list, use remove() method to delete it by value."
   ]
  },
  {
   "cell_type": "code",
   "execution_count": 20,
   "metadata": {},
   "outputs": [
    {
     "name": "stdout",
     "output_type": "stream",
     "text": [
      "['green', 'blue']\n"
     ]
    }
   ],
   "source": [
    "L = ['red', 'green', 'blue']\n",
    "L.remove('red')\n",
    "print(L)\n",
    "# Prints ['green', 'blue']"
   ]
  },
  {
   "cell_type": "markdown",
   "metadata": {},
   "source": [
    "But keep in mind that if more than one instance of the given item is present in the list, then this method removes only the first instance.\n",
    "\n"
   ]
  },
  {
   "cell_type": "code",
   "execution_count": 21,
   "metadata": {},
   "outputs": [
    {
     "name": "stdout",
     "output_type": "stream",
     "text": [
      "['green', 'blue', 'red']\n"
     ]
    }
   ],
   "source": [
    "L = ['red', 'green', 'blue', 'red']\n",
    "L.remove('red')\n",
    "print(L)\n",
    "# Prints ['green', 'blue', 'red']"
   ]
  },
  {
   "cell_type": "markdown",
   "metadata": {},
   "source": [
    "Remove Multiple Items\n",
    "To remove more than one items, use the del keyword with a slice index.\n",
    "\n"
   ]
  },
  {
   "cell_type": "code",
   "execution_count": 22,
   "metadata": {},
   "outputs": [
    {
     "name": "stdout",
     "output_type": "stream",
     "text": [
      "['red', 'black']\n"
     ]
    }
   ],
   "source": [
    "L = ['red', 'green', 'blue', 'yellow', 'black']\n",
    "del L[1:4]\n",
    "print(L)\n",
    "# Prints ['red', 'black']"
   ]
  },
  {
   "cell_type": "markdown",
   "metadata": {},
   "source": [
    "### Remove all Items\n",
    "Use clear() method to remove all items from the list.\n",
    "\n"
   ]
  },
  {
   "cell_type": "code",
   "execution_count": 23,
   "metadata": {},
   "outputs": [
    {
     "name": "stdout",
     "output_type": "stream",
     "text": [
      "[]\n"
     ]
    }
   ],
   "source": [
    "L = ['red', 'green', 'blue']\n",
    "L.clear()\n",
    "print(L)\n",
    "# Prints []"
   ]
  },
  {
   "cell_type": "markdown",
   "metadata": {},
   "source": [
    "### List Replication\n",
    "The replication operator * repeats a list a given number of times."
   ]
  },
  {
   "cell_type": "code",
   "execution_count": 24,
   "metadata": {},
   "outputs": [
    {
     "name": "stdout",
     "output_type": "stream",
     "text": [
      "['red', 'red', 'red']\n"
     ]
    }
   ],
   "source": [
    "L = ['red']\n",
    "L = L * 3\n",
    "print(L)\n",
    "# Prints ['red', 'red', 'red']"
   ]
  },
  {
   "cell_type": "markdown",
   "metadata": {},
   "source": [
    "### Find List Length\n",
    "To find the number of items in a list, use len() method."
   ]
  },
  {
   "cell_type": "code",
   "execution_count": 25,
   "metadata": {},
   "outputs": [
    {
     "name": "stdout",
     "output_type": "stream",
     "text": [
      "3\n"
     ]
    }
   ],
   "source": [
    "L = ['red', 'green', 'blue']\n",
    "print(len(L))\n",
    "# Prints 3"
   ]
  },
  {
   "cell_type": "markdown",
   "metadata": {},
   "source": [
    "### Check if item exists in a list\n",
    "To determine whether a value is or isn’t in a list, you can use in and not in operators with if statement."
   ]
  },
  {
   "cell_type": "code",
   "execution_count": 26,
   "metadata": {},
   "outputs": [
    {
     "name": "stdout",
     "output_type": "stream",
     "text": [
      "yes\n",
      "yes\n"
     ]
    }
   ],
   "source": [
    "# Check for presence\n",
    "L = ['red', 'green', 'blue']\n",
    "if 'red' in L:\n",
    "    print('yes')\n",
    "\n",
    "# Check for absence\n",
    "L = ['red', 'green', 'blue']\n",
    "if 'yellow' not in L:\n",
    "    print('yes')"
   ]
  },
  {
   "cell_type": "markdown",
   "metadata": {},
   "source": [
    "### Iterate through a List\n",
    "The most common way to iterate through a list is with a for loop.\n",
    "\n"
   ]
  },
  {
   "cell_type": "code",
   "execution_count": 28,
   "metadata": {},
   "outputs": [
    {
     "name": "stdout",
     "output_type": "stream",
     "text": [
      "red\n",
      "green\n",
      "blue\n"
     ]
    }
   ],
   "source": [
    "L = ['red', 'green', 'blue']\n",
    "for item in L:\n",
    "    print(item)\n",
    "# Prints red\n",
    "# Prints green\n",
    "# Prints blue"
   ]
  },
  {
   "cell_type": "markdown",
   "metadata": {},
   "source": [
    "This works well if you only need to read the items of the list. But if you want to update them, you need the indexes. A common way to do that is to combine the range() and len() functions."
   ]
  },
  {
   "cell_type": "code",
   "execution_count": 29,
   "metadata": {},
   "outputs": [
    {
     "name": "stdout",
     "output_type": "stream",
     "text": [
      "[2, 4, 6, 8]\n"
     ]
    }
   ],
   "source": [
    "# Loop through the list and double each item\n",
    "L = [1, 2, 3, 4]\n",
    "for i in range(len(L)):\n",
    "    L[i] = L[i] * 2\n",
    "\n",
    "print(L)\n",
    "# Prints [2, 4, 6, 8]"
   ]
  },
  {
   "cell_type": "markdown",
   "metadata": {},
   "source": [
    "### Python List Methods\n",
    "Python has a set of built-in methods that you can call on list objects."
   ]
  },
  {
   "cell_type": "markdown",
   "metadata": {},
   "source": [
    "|Method\t|Description|\n",
    "|--------|-----------|\n",
    "|append()\t|Adds an item to the end of the list|\n",
    "|insert()\t|Inserts an item at a given position|\n",
    "|extend()\t|Extends the list by appending all the items from the iterable|\n",
    "|remove()\t|Removes first instance of the specified item|\n",
    "|pop()\t|Removes the item at the given position in the list|\n",
    "|clear()\t|Removes all items from the list|\n",
    "|copy()\t|Returns a shallow copy of the list|\n",
    "|count()\t|Returns the count of specified item in the list|\n",
    "|index()\t|Returns the index of first instance of the specified item|\n",
    "|reverse()\t|Reverses the items of the list in place|\n",
    "|sort()\t|Sorts the items of the list in place|\n"
   ]
  },
  {
   "cell_type": "markdown",
   "metadata": {},
   "source": [
    "### Built-in Functions with List\n",
    "Python also has a set of built-in functions that you can use with list objects."
   ]
  },
  {
   "cell_type": "markdown",
   "metadata": {},
   "source": [
    "|Method\t|Description|\n",
    "|-------|-----------|\n",
    "|all()\t|Returns True if all list items are true|\n",
    "|any()\t|Returns True if any list item is true|\n",
    "|enumerate()\t|Takes a list and returns an enumerate object|\n",
    "|len()\t|Returns the number of items in the list|\n",
    "|list()\t|Converts an iterable (tuple, string, set etc.) to a list|\n",
    "|max()\t|Returns the largest item of the list|\n",
    "|min()\t|Returns the smallest item of the list|\n",
    "|sorted()\t|Returns a sorted list|\n",
    "|sum()\t|Sums items of the list|"
   ]
  },
  {
   "cell_type": "markdown",
   "metadata": {},
   "source": [
    "# Python Nested List"
   ]
  },
  {
   "cell_type": "markdown",
   "metadata": {},
   "source": [
    "A list can contain any sort object, even another list (sublist), which in turn can contain sublists themselves, and so on. This is known as nested list.\n",
    "\n",
    "You can use them to arrange data into hierarchical structures."
   ]
  },
  {
   "cell_type": "markdown",
   "metadata": {},
   "source": [
    "### Create a Nested List"
   ]
  },
  {
   "cell_type": "code",
   "execution_count": 31,
   "metadata": {},
   "outputs": [],
   "source": [
    "L = ['a', ['bb', ['ccc', 'ddd'], 'ee', 'ff'], 'g', 'h']"
   ]
  },
  {
   "cell_type": "markdown",
   "metadata": {},
   "source": [
    "### Access Nested List Items by Index\n",
    "You can access individual items in a nested list using multiple indexes.\n",
    "\n",
    "The indexes for the items in a nested list are illustrated as below:\n",
    "\n"
   ]
  },
  {
   "cell_type": "markdown",
   "metadata": {},
   "source": [
    "![image](https://www.learnbyexample.org/wp-content/uploads/python/Python-Nested-List-Indexing.png)"
   ]
  },
  {
   "cell_type": "code",
   "execution_count": 32,
   "metadata": {},
   "outputs": [
    {
     "name": "stdout",
     "output_type": "stream",
     "text": [
      "['cc', 'dd', ['eee', 'fff']]\n",
      "['eee', 'fff']\n",
      "eee\n"
     ]
    }
   ],
   "source": [
    "L = ['a', 'b', ['cc', 'dd', ['eee', 'fff']], 'g', 'h']\n",
    "\n",
    "print(L[2])\n",
    "# Prints ['cc', 'dd', ['eee', 'fff']]\n",
    "\n",
    "print(L[2][2])\n",
    "# Prints ['eee', 'fff']\n",
    "\n",
    "print(L[2][2][0])\n",
    "# Prints eee"
   ]
  },
  {
   "cell_type": "markdown",
   "metadata": {},
   "source": [
    "### Negative List Indexing In a Nested List\n",
    "You can access a nested list by negative indexing as well.\n",
    "\n",
    "Negative indexes count backward from the end of the list. So, L[-1] refers to the last item, L[-2] is the second-last, and so on."
   ]
  },
  {
   "cell_type": "markdown",
   "metadata": {},
   "source": [
    "![image](https://www.learnbyexample.org/wp-content/uploads/python/Python-Nested-List-Negative-Indexing.png)"
   ]
  },
  {
   "cell_type": "code",
   "execution_count": 34,
   "metadata": {},
   "outputs": [
    {
     "name": "stdout",
     "output_type": "stream",
     "text": [
      "['cc', 'dd', ['eee', 'fff']]\n",
      "['eee', 'fff']\n",
      "eee\n"
     ]
    }
   ],
   "source": [
    "L = ['a', 'b', ['cc', 'dd', ['eee', 'fff']], 'g', 'h']\n",
    "\n",
    "print(L[-3])\n",
    "# Prints ['cc', 'dd', ['eee', 'fff']]\n",
    "\n",
    "print(L[-3][-1])\n",
    "# Prints ['eee', 'fff']\n",
    "\n",
    "print(L[-3][-1][-2])\n",
    "# Prints eee"
   ]
  },
  {
   "cell_type": "markdown",
   "metadata": {},
   "source": [
    "### Change Nested List Item Value\n",
    "You can change the value of a specific item in a nested list by referring to its index number."
   ]
  },
  {
   "cell_type": "code",
   "execution_count": 36,
   "metadata": {},
   "outputs": [
    {
     "name": "stdout",
     "output_type": "stream",
     "text": [
      "['a', ['bb', 0], 'd']\n"
     ]
    }
   ],
   "source": [
    "L = ['a', ['bb', 'cc'], 'd']\n",
    "L[1][1] = 0\n",
    "print(L)\n",
    "# Prints ['a', ['bb', 0], 'd']"
   ]
  },
  {
   "cell_type": "markdown",
   "metadata": {},
   "source": [
    "### Add items to a Nested list\n",
    "To add new values to the end of the nested list, use append() method."
   ]
  },
  {
   "cell_type": "code",
   "execution_count": 37,
   "metadata": {},
   "outputs": [
    {
     "name": "stdout",
     "output_type": "stream",
     "text": [
      "['a', ['bb', 'cc', 'xx'], 'd']\n"
     ]
    }
   ],
   "source": [
    "L = ['a', ['bb', 'cc'], 'd']\n",
    "L[1].append('xx')\n",
    "print(L)\n",
    "# Prints ['a', ['bb', 'cc', 'xx'], 'd']"
   ]
  },
  {
   "cell_type": "markdown",
   "metadata": {},
   "source": [
    "### Add items to a Nested list\n",
    "To add new values to the end of the nested list, use append() method.\n",
    "\n"
   ]
  },
  {
   "cell_type": "code",
   "execution_count": 39,
   "metadata": {},
   "outputs": [
    {
     "name": "stdout",
     "output_type": "stream",
     "text": [
      "['a', ['bb', 'cc', 'xx'], 'd']\n"
     ]
    }
   ],
   "source": [
    "L = ['a', ['bb', 'cc'], 'd']\n",
    "L[1].append('xx')\n",
    "print(L)\n",
    "# Prints ['a', ['bb', 'cc', 'xx'], 'd']"
   ]
  },
  {
   "cell_type": "code",
   "execution_count": 40,
   "metadata": {},
   "outputs": [
    {
     "name": "stdout",
     "output_type": "stream",
     "text": [
      "['a', ['xx', 'bb', 'cc'], 'd']\n"
     ]
    }
   ],
   "source": [
    "L = ['a', ['bb', 'cc'], 'd']\n",
    "L[1].insert(0,'xx')\n",
    "print(L)\n",
    "# Prints ['a', ['xx', 'bb', 'cc'], 'd']"
   ]
  },
  {
   "cell_type": "code",
   "execution_count": 41,
   "metadata": {},
   "outputs": [
    {
     "name": "stdout",
     "output_type": "stream",
     "text": [
      "['a', ['bb', 'cc', 1, 2, 3], 'd']\n"
     ]
    }
   ],
   "source": [
    "L = ['a', ['bb', 'cc'], 'd']\n",
    "L[1].extend([1,2,3])\n",
    "print(L)\n",
    "# Prints ['a', ['bb', 'cc', 1, 2, 3], 'd']"
   ]
  },
  {
   "cell_type": "markdown",
   "metadata": {},
   "source": [
    "### Python List Slicing"
   ]
  },
  {
   "cell_type": "markdown",
   "metadata": {},
   "source": [
    "To access a range of items in a list, you need to slice a list. One way to do this is to use the simple slicing operator :\n",
    "\n",
    "With this operator you can specify where to start the slicing, where to end and specify the step.\n",
    "\n",
    "Slicing a List\n",
    "If L is a list, the expression L [ start : stop : step ] returns the portion of the list from index start to index stop, at a step size step.\n",
    "\n",
    "Syntax\n"
   ]
  },
  {
   "cell_type": "markdown",
   "metadata": {},
   "source": [
    "![image](https://www.learnbyexample.org/wp-content/uploads/python/Python-List-Slicing-Syntax.png)"
   ]
  },
  {
   "cell_type": "code",
   "execution_count": 47,
   "metadata": {},
   "outputs": [
    {
     "name": "stdout",
     "output_type": "stream",
     "text": [
      "['c', 'd', 'e', 'f', 'g']\n"
     ]
    }
   ],
   "source": [
    "L = ['a', 'b', 'c', 'd', 'e', 'f', 'g', 'h', 'i']\n",
    "print(L[2:7])\n",
    "# Prints ['c', 'd', 'e', 'f', 'g']"
   ]
  },
  {
   "cell_type": "markdown",
   "metadata": {},
   "source": [
    "![image](https://www.learnbyexample.org/wp-content/uploads/python/Python-List-Slicing-Illustration.png)"
   ]
  },
  {
   "cell_type": "markdown",
   "metadata": {},
   "source": [
    "### Slice with Negative Indices\n",
    "You can also specify negative indices while slicing a list."
   ]
  },
  {
   "cell_type": "code",
   "execution_count": 49,
   "metadata": {},
   "outputs": [
    {
     "name": "stdout",
     "output_type": "stream",
     "text": [
      "['c', 'd', 'e', 'f', 'g']\n"
     ]
    }
   ],
   "source": [
    "L = ['a', 'b', 'c', 'd', 'e', 'f', 'g', 'h', 'i']\n",
    "print(L[-7:-2])\n",
    "# Prints ['c', 'd', 'e', 'f', 'g']"
   ]
  },
  {
   "cell_type": "markdown",
   "metadata": {},
   "source": [
    "![image](https://www.learnbyexample.org/wp-content/uploads/python/Python-List-Slicing-Negative-Indices.png)"
   ]
  },
  {
   "cell_type": "markdown",
   "metadata": {},
   "source": [
    "### Slice with Positive & Negative Indices\n",
    "\n",
    "You can specify both positive and negative indices at the same time.\n"
   ]
  },
  {
   "cell_type": "code",
   "execution_count": 50,
   "metadata": {},
   "outputs": [
    {
     "name": "stdout",
     "output_type": "stream",
     "text": [
      "['c', 'd']\n"
     ]
    }
   ],
   "source": [
    "L = ['a', 'b', 'c', 'd', 'e', 'f', 'g', 'h', 'i']\n",
    "print(L[2:-5])\n",
    "# Prints ['c', 'd']"
   ]
  },
  {
   "cell_type": "markdown",
   "metadata": {},
   "source": [
    "### Specify Step of the Slicing\n",
    "\n",
    "You can specify the step of the slicing using step parameter. The step parameter is optional and by default 1."
   ]
  },
  {
   "cell_type": "code",
   "execution_count": 51,
   "metadata": {},
   "outputs": [
    {
     "name": "stdout",
     "output_type": "stream",
     "text": [
      "['c', 'e', 'g']\n"
     ]
    }
   ],
   "source": [
    "# Return every 2nd item between position 2 to 7\n",
    "L = ['a', 'b', 'c', 'd', 'e', 'f', 'g', 'h', 'i']\n",
    "print(L[2:7:2])\n",
    "# Prints ['c', 'e', 'g']"
   ]
  },
  {
   "cell_type": "markdown",
   "metadata": {},
   "source": [
    "![image](https://www.learnbyexample.org/wp-content/uploads/python/Python-List-Slicing-Specifying-Step-Size.png)"
   ]
  },
  {
   "cell_type": "code",
   "execution_count": 52,
   "metadata": {},
   "outputs": [
    {
     "name": "stdout",
     "output_type": "stream",
     "text": [
      "['g', 'e', 'c']\n"
     ]
    }
   ],
   "source": [
    "# Return every 2nd item between position 6 to 1\n",
    "L = ['a', 'b', 'c', 'd', 'e', 'f', 'g', 'h', 'i']\n",
    "print(L[6:1:-2])\n",
    "# Prints ['g', 'e', 'c']"
   ]
  },
  {
   "cell_type": "markdown",
   "metadata": {},
   "source": [
    "### Slice at Beginning & End\n",
    "\n",
    "Omitting the start index starts the slice from the index 0. Meaning, L[:stop] is equivalent to L[0:stop]"
   ]
  },
  {
   "cell_type": "code",
   "execution_count": 53,
   "metadata": {},
   "outputs": [
    {
     "name": "stdout",
     "output_type": "stream",
     "text": [
      "['a', 'b', 'c']\n"
     ]
    }
   ],
   "source": [
    "# Slice the first three items from the list\n",
    "L = ['a', 'b', 'c', 'd', 'e', 'f', 'g', 'h', 'i']\n",
    "print(L[:3])\n",
    "# Prints ['a', 'b', 'c']"
   ]
  },
  {
   "cell_type": "markdown",
   "metadata": {},
   "source": [
    "Whereas, omitting the stop index extends the slice to the end of the list. Meaning, L[start:] is equivalent to L[start:len(L)]"
   ]
  },
  {
   "cell_type": "code",
   "execution_count": 54,
   "metadata": {},
   "outputs": [
    {
     "name": "stdout",
     "output_type": "stream",
     "text": [
      "['g', 'h', 'i']\n"
     ]
    }
   ],
   "source": [
    "# Slice the last three items from the list\n",
    "L = ['a', 'b', 'c', 'd', 'e', 'f', 'g', 'h', 'i']\n",
    "print(L[6:])\n",
    "# Prints ['g', 'h', 'i']"
   ]
  },
  {
   "cell_type": "markdown",
   "metadata": {},
   "source": [
    "### Reverse a List\n",
    "\n",
    "You can reverse a list by omitting both start and stop indices and specifying a step as -1."
   ]
  },
  {
   "cell_type": "code",
   "execution_count": 55,
   "metadata": {},
   "outputs": [
    {
     "name": "stdout",
     "output_type": "stream",
     "text": [
      "['e', 'd', 'c', 'b', 'a']\n"
     ]
    }
   ],
   "source": [
    "L = ['a', 'b', 'c', 'd', 'e']\n",
    "print(L[::-1])\n",
    "# Prints ['e', 'd', 'c', 'b', 'a']"
   ]
  },
  {
   "cell_type": "markdown",
   "metadata": {},
   "source": [
    "### Modify Multiple List Values\n",
    "\n",
    "You can modify multiple list items at once with slice assignment. This assignment replaces the specified slice of a list with the items of assigned iterable.\n",
    "\n"
   ]
  },
  {
   "cell_type": "code",
   "execution_count": 56,
   "metadata": {},
   "outputs": [
    {
     "name": "stdout",
     "output_type": "stream",
     "text": [
      "['a', 1, 2, 3, 'e']\n"
     ]
    }
   ],
   "source": [
    "# Modify multiple list items\n",
    "L = ['a', 'b', 'c', 'd', 'e']\n",
    "L[1:4] = [1, 2, 3]\n",
    "print(L)\n",
    "# Prints ['a', 1, 2, 3, 'e']"
   ]
  },
  {
   "cell_type": "code",
   "execution_count": 57,
   "metadata": {},
   "outputs": [
    {
     "name": "stdout",
     "output_type": "stream",
     "text": [
      "['a', 1, 2, 3, 'c', 'd', 'e']\n"
     ]
    }
   ],
   "source": [
    "# Replace multiple elements in place of a single element\n",
    "L = ['a', 'b', 'c', 'd', 'e']\n",
    "L[1:2] = [1, 2, 3]\n",
    "print(L)\n",
    "# Prints ['a', 1, 2, 3, 'c', 'd', 'e']"
   ]
  },
  {
   "cell_type": "markdown",
   "metadata": {},
   "source": [
    "### Insert Multiple List Items"
   ]
  },
  {
   "cell_type": "code",
   "execution_count": 58,
   "metadata": {},
   "outputs": [
    {
     "name": "stdout",
     "output_type": "stream",
     "text": [
      "[1, 2, 3, 'a', 'b', 'c']\n",
      "['a', 'b', 'c', 1, 2, 3]\n"
     ]
    }
   ],
   "source": [
    "# Insert at the start\n",
    "L = ['a', 'b', 'c']\n",
    "L[:0] = [1, 2, 3]\n",
    "print(L)\n",
    "# Prints [1, 2, 3, 'a', 'b', 'c']\n",
    "\n",
    "# Insert at the end\n",
    "L = ['a', 'b', 'c']\n",
    "L[len(L):] = [1, 2, 3]\n",
    "print(L)\n",
    "# Prints ['a', 'b', 'c', 1, 2, 3]"
   ]
  },
  {
   "cell_type": "markdown",
   "metadata": {},
   "source": [
    "You can insert items into the middle of list by keeping both the start and stop indices of the slice same.\n",
    "\n"
   ]
  },
  {
   "cell_type": "code",
   "execution_count": 59,
   "metadata": {},
   "outputs": [
    {
     "name": "stdout",
     "output_type": "stream",
     "text": [
      "['a', 1, 2, 3, 'b', 'c']\n"
     ]
    }
   ],
   "source": [
    "# Insert in the middle\n",
    "L = ['a', 'b', 'c']\n",
    "L[1:1] = [1, 2, 3]\n",
    "print(L)\n",
    "# Prints ['a', 1, 2, 3, 'b', 'c']"
   ]
  },
  {
   "cell_type": "markdown",
   "metadata": {},
   "source": [
    "### Delete Multiple List Items"
   ]
  },
  {
   "cell_type": "code",
   "execution_count": 60,
   "metadata": {},
   "outputs": [
    {
     "name": "stdout",
     "output_type": "stream",
     "text": [
      "['a']\n"
     ]
    }
   ],
   "source": [
    "L = ['a', 'b', 'c', 'd', 'e']\n",
    "L[1:5] = []\n",
    "print(L)\n",
    "# Prints ['a']"
   ]
  },
  {
   "cell_type": "code",
   "execution_count": 61,
   "metadata": {},
   "outputs": [
    {
     "name": "stdout",
     "output_type": "stream",
     "text": [
      "['a']\n"
     ]
    }
   ],
   "source": [
    "L = ['a', 'b', 'c', 'd', 'e']\n",
    "del L[1:5]\n",
    "print(L)\n",
    "# Prints ['a']"
   ]
  },
  {
   "cell_type": "markdown",
   "metadata": {},
   "source": [
    "### Clone or Copy a List"
   ]
  },
  {
   "cell_type": "markdown",
   "metadata": {},
   "source": [
    "When you execute new_List = old_List, you don’t actually have two lists. The assignment just copies the reference to the list, not the actual list. So, both new_List and old_List refer to the same list after the assignment.\n",
    "\n",
    "You can use slicing operator to actually copy the list (also known as a shallow copy).\n",
    "\n"
   ]
  },
  {
   "cell_type": "code",
   "execution_count": 62,
   "metadata": {},
   "outputs": [
    {
     "name": "stdout",
     "output_type": "stream",
     "text": [
      "['a', 'b', 'c', 'd', 'e']\n",
      "False\n"
     ]
    }
   ],
   "source": [
    "L1 = ['a', 'b', 'c', 'd', 'e']\n",
    "L2 = L1[:]\n",
    "print(L2)\n",
    "# Prints ['a', 'b', 'c', 'd', 'e']\n",
    "print(L2 is L1)\n",
    "# Prints False"
   ]
  },
  {
   "cell_type": "code",
   "execution_count": null,
   "metadata": {},
   "outputs": [],
   "source": []
  }
 ],
 "metadata": {
  "kernelspec": {
   "display_name": "Python 3",
   "language": "python",
   "name": "python3"
  },
  "language_info": {
   "codemirror_mode": {
    "name": "ipython",
    "version": 3
   },
   "file_extension": ".py",
   "mimetype": "text/x-python",
   "name": "python",
   "nbconvert_exporter": "python",
   "pygments_lexer": "ipython3",
   "version": "3.8.3"
  }
 },
 "nbformat": 4,
 "nbformat_minor": 4
}
