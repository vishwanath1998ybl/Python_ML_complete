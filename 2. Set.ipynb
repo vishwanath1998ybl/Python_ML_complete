{
 "cells": [
  {
   "cell_type": "markdown",
   "metadata": {},
   "source": [
    "# Python Set\n",
    "\n",
    "Python set is an unordered collection of unique items. They are commonly used for computing mathematical operations such as union, intersection, difference, and symmetric difference."
   ]
  },
  {
   "cell_type": "markdown",
   "metadata": {},
   "source": [
    "![image](https://www.learnbyexample.org/wp-content/uploads/python/Python-Set-Operatioons.png)"
   ]
  },
  {
   "cell_type": "markdown",
   "metadata": {},
   "source": [
    "The important properties of Python sets are as follows:\n",
    "\n",
    "- Sets are unordered – Items stored in a set aren’t kept in any particular order.\n",
    "- Set items are unique – Duplicate items are not allowed.\n",
    "- Sets are unindexed – You cannot access set items by referring to an index.\n",
    "- Sets are changeable (mutable) – They can be changed in place, can grow and shrink on demand."
   ]
  },
  {
   "cell_type": "markdown",
   "metadata": {},
   "source": [
    "### Create a Set\n",
    "You can create a set by placing a comma-separated sequence of items in curly braces {}."
   ]
  },
  {
   "cell_type": "code",
   "execution_count": 1,
   "metadata": {},
   "outputs": [],
   "source": [
    "# A set of strings\n",
    "S = {'red', 'green', 'blue'}\n",
    "\n",
    "# A set of mixed datatypes\n",
    "S = {1, 'abc', 1.23, (3+4j), True}"
   ]
  },
  {
   "cell_type": "markdown",
   "metadata": {},
   "source": [
    "Sets don’t allow duplicates. They are automatically removed during the creation of a set."
   ]
  },
  {
   "cell_type": "code",
   "execution_count": 2,
   "metadata": {},
   "outputs": [
    {
     "name": "stdout",
     "output_type": "stream",
     "text": [
      "{'green', 'red', 'blue'}\n"
     ]
    }
   ],
   "source": [
    "S = {'red', 'green', 'blue', 'red'}\n",
    "print(S)\n",
    "# Prints {'blue', 'green', 'red'}"
   ]
  },
  {
   "cell_type": "markdown",
   "metadata": {},
   "source": [
    "A set itself is mutable (changeable), but it cannot contain mutable objects. Therefore, immutable objects like numbers, strings, tuples can be a set item, but lists and dictionaries are mutable, so they cannot be."
   ]
  },
  {
   "cell_type": "code",
   "execution_count": 3,
   "metadata": {},
   "outputs": [],
   "source": [
    "S = {1, 'abc', ('a', 'b'), True}"
   ]
  },
  {
   "cell_type": "code",
   "execution_count": 4,
   "metadata": {},
   "outputs": [
    {
     "ename": "TypeError",
     "evalue": "unhashable type: 'list'",
     "output_type": "error",
     "traceback": [
      "\u001b[0;31m---------------------------------------------------------------------------\u001b[0m",
      "\u001b[0;31mTypeError\u001b[0m                                 Traceback (most recent call last)",
      "\u001b[0;32m<ipython-input-4-3dfea873c4b7>\u001b[0m in \u001b[0;36m<module>\u001b[0;34m\u001b[0m\n\u001b[0;32m----> 1\u001b[0;31m \u001b[0mS\u001b[0m \u001b[0;34m=\u001b[0m \u001b[0;34m{\u001b[0m\u001b[0;34m[\u001b[0m\u001b[0;36m1\u001b[0m\u001b[0;34m,\u001b[0m \u001b[0;36m2\u001b[0m\u001b[0;34m]\u001b[0m\u001b[0;34m,\u001b[0m \u001b[0;34m{\u001b[0m\u001b[0;34m'a'\u001b[0m\u001b[0;34m:\u001b[0m\u001b[0;36m1\u001b[0m\u001b[0;34m,\u001b[0m \u001b[0;34m'b'\u001b[0m\u001b[0;34m:\u001b[0m\u001b[0;36m2\u001b[0m\u001b[0;34m}\u001b[0m\u001b[0;34m}\u001b[0m\u001b[0;34m\u001b[0m\u001b[0;34m\u001b[0m\u001b[0m\n\u001b[0m\u001b[1;32m      2\u001b[0m \u001b[0;31m# Triggers TypeError: unhashable type: 'list'\u001b[0m\u001b[0;34m\u001b[0m\u001b[0;34m\u001b[0m\u001b[0;34m\u001b[0m\u001b[0m\n",
      "\u001b[0;31mTypeError\u001b[0m: unhashable type: 'list'"
     ]
    }
   ],
   "source": [
    "S = {[1, 2], {'a':1, 'b':2}}\n",
    "# Triggers TypeError: unhashable type: 'list'"
   ]
  },
  {
   "cell_type": "markdown",
   "metadata": {},
   "source": [
    "### Set constructor\n",
    "You can also create a set using a type constructor called set().\n",
    "\n"
   ]
  },
  {
   "cell_type": "code",
   "execution_count": 5,
   "metadata": {},
   "outputs": [
    {
     "name": "stdout",
     "output_type": "stream",
     "text": [
      "{'a', 'c', 'b'}\n",
      "{0, 1, 2, 3}\n",
      "{1, 2, 3}\n"
     ]
    }
   ],
   "source": [
    "# Set of items in an iterable\n",
    "S = set('abc')\n",
    "print(S)\n",
    "# Prints {'a', 'b', 'c'}\n",
    "\n",
    "# Set of successive integers\n",
    "S = set(range(0, 4))\n",
    "print(S)\n",
    "# Prints {0, 1, 2, 3}\n",
    "\n",
    "# Convert list into set\n",
    "S = set([1, 2, 3])\n",
    "print(S)\n",
    "# Prints {1, 2, 3}"
   ]
  },
  {
   "cell_type": "markdown",
   "metadata": {},
   "source": [
    "### Add Items to a Set\n",
    "You can add a single item to a set using add() method."
   ]
  },
  {
   "cell_type": "code",
   "execution_count": 6,
   "metadata": {},
   "outputs": [
    {
     "name": "stdout",
     "output_type": "stream",
     "text": [
      "{'yellow', 'green', 'red', 'blue'}\n"
     ]
    }
   ],
   "source": [
    "S = {'red', 'green', 'blue'}\n",
    "S.add('yellow')\n",
    "print(S)\n",
    "# Prints {'blue', 'green', 'yellow', 'red'}"
   ]
  },
  {
   "cell_type": "markdown",
   "metadata": {},
   "source": [
    "You can add multiple items to a set using update() method."
   ]
  },
  {
   "cell_type": "code",
   "execution_count": 7,
   "metadata": {},
   "outputs": [
    {
     "name": "stdout",
     "output_type": "stream",
     "text": [
      "{'yellow', 'blue', 'orange', 'green', 'red'}\n"
     ]
    }
   ],
   "source": [
    "S = {'red', 'green', 'blue'}\n",
    "S.update(['yellow', 'orange'])\n",
    "print(S)\n",
    "# Prints {'blue', 'orange', 'green', 'yellow', 'red'}"
   ]
  },
  {
   "cell_type": "markdown",
   "metadata": {},
   "source": [
    "### Remove Items from a Set"
   ]
  },
  {
   "cell_type": "code",
   "execution_count": 8,
   "metadata": {},
   "outputs": [
    {
     "name": "stdout",
     "output_type": "stream",
     "text": [
      "{'green', 'blue'}\n",
      "{'green', 'blue'}\n"
     ]
    }
   ],
   "source": [
    "# with remove() method\n",
    "S = {'red', 'green', 'blue'}\n",
    "S.remove('red')\n",
    "print(S)\n",
    "# Prints {'blue', 'green'}\n",
    "\n",
    "# with discard() method\n",
    "S = {'red', 'green', 'blue'}\n",
    "S.discard('red')\n",
    "print(S)\n",
    "# Prints {'blue', 'green'}"
   ]
  },
  {
   "cell_type": "markdown",
   "metadata": {},
   "source": [
    "remove() vs discard()\n",
    "Both methods work exactly the same. The only difference is that If specified item is not present in a set:\n",
    "\n",
    "- remove() method raises KeyError\n",
    "- discard() method does nothing"
   ]
  },
  {
   "cell_type": "markdown",
   "metadata": {},
   "source": [
    "The pop() method removes random item from a set and returns it."
   ]
  },
  {
   "cell_type": "code",
   "execution_count": 9,
   "metadata": {},
   "outputs": [
    {
     "name": "stdout",
     "output_type": "stream",
     "text": [
      "{'red', 'blue'}\n",
      "green\n"
     ]
    }
   ],
   "source": [
    "S = {'red', 'green', 'blue'}\n",
    "x = S.pop()\n",
    "print(S)\n",
    "# Prints {'green', 'red'}\n",
    "\n",
    "# removed item\n",
    "print(x)\n",
    "# Prints blue"
   ]
  },
  {
   "cell_type": "markdown",
   "metadata": {},
   "source": [
    "Use clear() method to remove all items from the set."
   ]
  },
  {
   "cell_type": "code",
   "execution_count": 10,
   "metadata": {},
   "outputs": [
    {
     "name": "stdout",
     "output_type": "stream",
     "text": [
      "set()\n"
     ]
    }
   ],
   "source": [
    "S = {'red', 'green', 'blue'}\n",
    "S.clear()\n",
    "print(S)\n",
    "# Prints set()"
   ]
  },
  {
   "cell_type": "markdown",
   "metadata": {},
   "source": [
    "### Find Set Size"
   ]
  },
  {
   "cell_type": "code",
   "execution_count": 11,
   "metadata": {},
   "outputs": [
    {
     "name": "stdout",
     "output_type": "stream",
     "text": [
      "3\n"
     ]
    }
   ],
   "source": [
    "S = {'red', 'green', 'blue'}\n",
    "print(len(S))\n",
    "# Prints 3"
   ]
  },
  {
   "cell_type": "markdown",
   "metadata": {},
   "source": [
    "### Iterate Through a Set\n",
    "To iterate over the items of a set, use a simple for loop."
   ]
  },
  {
   "cell_type": "code",
   "execution_count": 12,
   "metadata": {},
   "outputs": [
    {
     "name": "stdout",
     "output_type": "stream",
     "text": [
      "green\n",
      "red\n",
      "blue\n"
     ]
    }
   ],
   "source": [
    "S = {'red', 'green', 'blue'}\n",
    "for item in S:\n",
    "    print(item)\n",
    "# Prints blue green red"
   ]
  },
  {
   "cell_type": "markdown",
   "metadata": {},
   "source": [
    "## Check if Item Exists in a Set\n",
    "To check if a specific item is present in a set, you can use in and not in operators with if statement."
   ]
  },
  {
   "cell_type": "code",
   "execution_count": 13,
   "metadata": {},
   "outputs": [
    {
     "name": "stdout",
     "output_type": "stream",
     "text": [
      "yes\n",
      "yes\n"
     ]
    }
   ],
   "source": [
    "# Check for presence\n",
    "S = {'red', 'green', 'blue'}\n",
    "if 'red' in S:\n",
    "    print('yes')\n",
    "\n",
    "# Check for absence\n",
    "S = {'red', 'green', 'blue'}\n",
    "if 'yellow' not in S:\n",
    "    print('yes')"
   ]
  },
  {
   "cell_type": "markdown",
   "metadata": {},
   "source": [
    "### Set Operations\n",
    "Sets are commonly used for computing mathematical operations such as intersection, union, difference, and symmetric difference.\n",
    "\n",
    "#### Set Union\n",
    "You can perform union on two or more sets using union() method or  |  operator."
   ]
  },
  {
   "cell_type": "markdown",
   "metadata": {},
   "source": [
    "![image](https://www.learnbyexample.org/wp-content/uploads/python/Set-Union.png)"
   ]
  },
  {
   "cell_type": "markdown",
   "metadata": {},
   "source": [
    "Union of the sets A and B is the set of all items in either A or B"
   ]
  },
  {
   "cell_type": "code",
   "execution_count": 14,
   "metadata": {},
   "outputs": [
    {
     "name": "stdout",
     "output_type": "stream",
     "text": [
      "{'green', 'orange', 'red', 'yellow', 'blue'}\n",
      "{'green', 'orange', 'red', 'yellow', 'blue'}\n"
     ]
    }
   ],
   "source": [
    "A = {'red', 'green', 'blue'}\n",
    "B = {'yellow', 'red', 'orange'}\n",
    "\n",
    "# by operator\n",
    "print(A | B)\n",
    "# Prints {'blue', 'green', 'yellow', 'orange', 'red'}\n",
    "\n",
    "# by method\n",
    "print(A.union(B))\n",
    "# Prints {'blue', 'green', 'yellow', 'orange', 'red'}"
   ]
  },
  {
   "cell_type": "markdown",
   "metadata": {},
   "source": [
    "### Set Intersection\n",
    "You can perform intersection on two or more sets using intersection() method or  &  operator.\n",
    "\n",
    "![image](https://www.learnbyexample.org/wp-content/uploads/python/Set-Intersection.png)\n",
    "\n",
    "Intersection of the sets A and B is the set of items common to both A and B."
   ]
  },
  {
   "cell_type": "code",
   "execution_count": 15,
   "metadata": {},
   "outputs": [
    {
     "name": "stdout",
     "output_type": "stream",
     "text": [
      "{'red'}\n",
      "{'red'}\n"
     ]
    }
   ],
   "source": [
    "A = {'red', 'green', 'blue'}\n",
    "B = {'yellow', 'red', 'orange'}\n",
    "\n",
    "# by operator\n",
    "print(A & B)\n",
    "# Prints {'red'}\n",
    "\n",
    "# by method\n",
    "print(A.intersection(B))\n",
    "# Prints {'red'}"
   ]
  },
  {
   "cell_type": "markdown",
   "metadata": {},
   "source": [
    "### Set Difference\n",
    "\n",
    "You can compute the difference between two or more sets using difference() method or  -  operator.\n",
    "\n",
    "![image](https://www.learnbyexample.org/wp-content/uploads/python/Set-Difference.png)\n",
    "\n",
    "Set Difference of A and B is the set of all items that are in A but not in B."
   ]
  },
  {
   "cell_type": "code",
   "execution_count": 16,
   "metadata": {},
   "outputs": [
    {
     "name": "stdout",
     "output_type": "stream",
     "text": [
      "{'green', 'blue'}\n",
      "{'green', 'blue'}\n"
     ]
    }
   ],
   "source": [
    "A = {'red', 'green', 'blue'}\n",
    "B = {'yellow', 'red', 'orange'}\n",
    "\n",
    "# by operator\n",
    "print(A - B)\n",
    "# Prints {'blue', 'green'}\n",
    "\n",
    "# by method\n",
    "print(A.difference(B))\n",
    "# Prints {'blue', 'green'}"
   ]
  },
  {
   "cell_type": "markdown",
   "metadata": {},
   "source": [
    "### Set Symmetric Difference\n",
    "\n",
    "You can compute symmetric difference between two or more sets using symmetric_difference() method or  ^  operator.\n",
    "\n",
    "![image](https://www.learnbyexample.org/wp-content/uploads/python/Set-Symmetric-Difference.png)\n",
    "\n",
    "Symmetric difference of sets A and B is the set of all elements in either A or B, but not both."
   ]
  },
  {
   "cell_type": "code",
   "execution_count": 17,
   "metadata": {},
   "outputs": [
    {
     "name": "stdout",
     "output_type": "stream",
     "text": [
      "{'yellow', 'blue', 'orange', 'green'}\n",
      "{'yellow', 'blue', 'orange', 'green'}\n"
     ]
    }
   ],
   "source": [
    "A = {'red', 'green', 'blue'}\n",
    "B = {'yellow', 'red', 'orange'}\n",
    "\n",
    "# by operator\n",
    "print(A ^ B)\n",
    "# Prints {'orange', 'blue', 'green', 'yellow'}\n",
    "\n",
    "# by method\n",
    "print(A.symmetric_difference(B))\n",
    "# Prints {'orange', 'blue', 'green', 'yellow'}"
   ]
  },
  {
   "cell_type": "markdown",
   "metadata": {},
   "source": [
    "### Other Set Operations\n",
    "Below is a list of all set operations available in Python."
   ]
  },
  {
   "cell_type": "markdown",
   "metadata": {},
   "source": [
    "|Method\t|Description|\n",
    "|-------|------------|\n",
    "|union()\t|Return a new set containing the union of two or more sets|\n",
    "|update()\t|Modify this set with the union of this set and other sets|\n",
    "|intersection()\t|Returns a new set which is the intersection of two or more sets|\n",
    "|intersection_update()\t|Removes the items from this set that are not present in other sets|\n",
    "|difference()\t|Returns a new set containing the difference between two or more sets|\n",
    "|difference_update()\t|Removes the items from this set that are also included in another set|\n",
    "|symmetric_difference()\t|Returns a new set with the symmetric differences of two or more sets|\n",
    "|symmetric_difference_update()\t|Modify this set with the symmetric difference of this set and other set|\n",
    "|isdisjoint()\t|Determines whether or not two sets have any elements in common|\n",
    "|issubset()\t|Determines whether one set is a subset of the other|\n",
    "|issuperset()\t|Determines whether one set is a superset of the other|\n"
   ]
  },
  {
   "cell_type": "markdown",
   "metadata": {},
   "source": [
    "### Python Frozenset"
   ]
  },
  {
   "cell_type": "markdown",
   "metadata": {},
   "source": [
    "Python provides another built-in type called a frozenset. Frozenset is just like set, only immutable (unchangeable).\n",
    "\n",
    "You can create a frozenset using frozenset() method. It freezes the given sequence and makes it unchangeable."
   ]
  },
  {
   "cell_type": "code",
   "execution_count": 18,
   "metadata": {},
   "outputs": [
    {
     "name": "stdout",
     "output_type": "stream",
     "text": [
      "frozenset({'green', 'red', 'blue'})\n"
     ]
    }
   ],
   "source": [
    "S = frozenset({'red', 'green', 'blue'})\n",
    "print(S)\n",
    "# Prints frozenset({'green', 'red', 'blue'})"
   ]
  },
  {
   "cell_type": "markdown",
   "metadata": {},
   "source": [
    "As frozensets are unchangeable, you can perform non-modifying operations on them."
   ]
  },
  {
   "cell_type": "code",
   "execution_count": 19,
   "metadata": {},
   "outputs": [
    {
     "name": "stdout",
     "output_type": "stream",
     "text": [
      "3\n",
      "frozenset({'yellow', 'green', 'red', 'blue'})\n"
     ]
    }
   ],
   "source": [
    "# finding size\n",
    "S = frozenset({'red', 'green', 'blue'})\n",
    "print(len(S))\n",
    "# Prints 3\n",
    "\n",
    "# performing union\n",
    "S = frozenset({'red', 'green', 'blue'})\n",
    "print(S | {'yellow'})\n",
    "# Prints frozenset({'blue', 'green', 'yellow', 'red'})"
   ]
  },
  {
   "cell_type": "markdown",
   "metadata": {},
   "source": [
    "However, methods that attempt to modify a frozenset will raise error."
   ]
  },
  {
   "cell_type": "code",
   "execution_count": null,
   "metadata": {},
   "outputs": [],
   "source": []
  }
 ],
 "metadata": {
  "kernelspec": {
   "display_name": "Python 3",
   "language": "python",
   "name": "python3"
  },
  "language_info": {
   "codemirror_mode": {
    "name": "ipython",
    "version": 3
   },
   "file_extension": ".py",
   "mimetype": "text/x-python",
   "name": "python",
   "nbconvert_exporter": "python",
   "pygments_lexer": "ipython3",
   "version": "3.8.3"
  }
 },
 "nbformat": 4,
 "nbformat_minor": 4
}
