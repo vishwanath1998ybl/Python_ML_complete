{
 "cells": [
  {
   "cell_type": "markdown",
   "metadata": {},
   "source": [
    "### Reading and Writing CSV Files in Python"
   ]
  },
  {
   "cell_type": "markdown",
   "metadata": {},
   "source": [
    "A CSV file (Comma Separated Values file) is a delimited text file that uses a comma , to separate values. It is used to store tabular data, such as a spreadsheet or database.\n",
    "\n",
    "Python’s Built-in csv library makes it easy to read, write, and process data from and to CSV files."
   ]
  },
  {
   "cell_type": "markdown",
   "metadata": {},
   "source": [
    "### Open a CSV File\n",
    "When you want to work with a CSV file, the first thing to do is to open it. You can open a file using open() built-in function specifying its name (same as a text file)."
   ]
  },
  {
   "cell_type": "code",
   "execution_count": null,
   "metadata": {},
   "outputs": [],
   "source": [
    "f = open('myfile.csv')"
   ]
  },
  {
   "cell_type": "markdown",
   "metadata": {},
   "source": [
    "When you specify the filename only, it is assumed that the file is located in the same folder as Python. If it is somewhere else, you can specify the exact path where the file is located."
   ]
  },
  {
   "cell_type": "code",
   "execution_count": null,
   "metadata": {},
   "outputs": [],
   "source": [
    "f = open(r'C:\\Python33\\Scripts\\myfile.csv')"
   ]
  },
  {
   "cell_type": "markdown",
   "metadata": {},
   "source": [
    "Remember! While specifying the exact path, characters prefaced by \\ (like \\n \\r \\t etc.) are interpreted as special characters. You can escape them using:\n",
    "\n",
    "raw strings like r'C:\\new\\text.txt'\n",
    "\n",
    "double backslashes like 'C:\\\\new\\\\text.txt'"
   ]
  },
  {
   "cell_type": "markdown",
   "metadata": {},
   "source": [
    "### Specify File Mode\n",
    "Here are five different modes you can use to open the file:"
   ]
  },
  {
   "cell_type": "markdown",
   "metadata": {},
   "source": [
    "|Character\t|Mode\t|Description|\n",
    "|-----------|--------|----------|\n",
    "|‘r’\t|Read (default)\t|Open a file for read only|\n",
    "|‘w’\t|Write\t|Open a file for write only (overwrite)|\n",
    "|‘a’\t|Append\t|Open a file for write only (append)|\n",
    "|‘r+’\t|Read+Write\t|open a file for both reading and writing|\n",
    "|‘x’\t|Create\t|Create a new file|\n"
   ]
  },
  {
   "cell_type": "code",
   "execution_count": null,
   "metadata": {},
   "outputs": [],
   "source": [
    "# Open a file for reading\n",
    "f = open('myfile.csv')\n",
    "\n",
    "# Open a file for writing\n",
    "f = open('myfile.csv', 'w')\n",
    "\n",
    "# Open a file for reading and writing\n",
    "f = open('myfile.csv', 'r+')"
   ]
  },
  {
   "cell_type": "markdown",
   "metadata": {},
   "source": [
    "Because read mode ‘r’ and text mode ‘t’ are default modes, you do not need to specify them.\n",
    "\n"
   ]
  },
  {
   "cell_type": "markdown",
   "metadata": {},
   "source": [
    "### Close a CSV File\n",
    "It’s a good practice to close the file once you are finished with it. You don’t want an open file running around taking up resources!\n",
    "\n",
    "Use the close() function to close an open file.\n",
    "\n"
   ]
  },
  {
   "cell_type": "code",
   "execution_count": null,
   "metadata": {},
   "outputs": [],
   "source": [
    "f = open('myfile.csv')\n",
    "f.close()\n",
    "\n",
    "# check closed status\n",
    "print(f.closed)\n",
    "# Prints True"
   ]
  },
  {
   "cell_type": "markdown",
   "metadata": {},
   "source": [
    "There are two approaches to ensure that a file is closed properly, even in cases of error.\n",
    "\n",
    "The first approach is to use the with keyword, which Python recommends, as it automatically takes care of closing the file once it leaves the with block (even in cases of error)."
   ]
  },
  {
   "cell_type": "code",
   "execution_count": null,
   "metadata": {},
   "outputs": [],
   "source": [
    "with open('myfile.csv') as f:\n",
    "    print(f.read())"
   ]
  },
  {
   "cell_type": "markdown",
   "metadata": {},
   "source": [
    "The second approach is to use the try-finally block:"
   ]
  },
  {
   "cell_type": "code",
   "execution_count": null,
   "metadata": {},
   "outputs": [],
   "source": [
    "f = open('myfile.csv')\n",
    "try:\n",
    "    # File operations goes here\n",
    "finally:\n",
    "    f.close()"
   ]
  },
  {
   "cell_type": "markdown",
   "metadata": {},
   "source": [
    "### Read a CSV File\n",
    "Suppose you have the following CSV file."
   ]
  },
  {
   "cell_type": "markdown",
   "metadata": {},
   "source": [
    "myfile.csv\n",
    "\n",
    "name,age,job,city\n",
    "\n",
    "Bob,25,Manager,Seattle\n",
    "\n",
    "Sam,30,Developer,New York"
   ]
  },
  {
   "cell_type": "markdown",
   "metadata": {},
   "source": [
    "You can read its contents by importing the csv module and using its reader() method. The reader() method splits each row on a specified delimiter and returns the list of strings."
   ]
  },
  {
   "cell_type": "code",
   "execution_count": 5,
   "metadata": {},
   "outputs": [
    {
     "name": "stdout",
     "output_type": "stream",
     "text": [
      "['name', 'age', 'job', 'city']\n",
      "['Bob', '25', 'Manager', 'Seattle']\n",
      "['Sam', '30', 'Developer', 'New York']\n"
     ]
    }
   ],
   "source": [
    "import csv\n",
    "\n",
    "with open('myfile.csv') as f:\n",
    "    reader = csv.reader(f)\n",
    "    for row in reader:\n",
    "        print(row)\n",
    "\n",
    "# Prints:\n",
    "# ['name', 'age', 'job', 'city']\n",
    "# ['Bob', '25', 'Manager', 'Seattle']\n",
    "# ['Sam', '30', 'Developer', 'New York']"
   ]
  },
  {
   "cell_type": "markdown",
   "metadata": {},
   "source": [
    "### Write to a CSV File\n",
    "To write an existing file, you must first open the file in one of the writing modes (‘w’, ‘a’ or ‘r+’) first. Then, use a writer object and its writerow() method to pass the data as a list of strings."
   ]
  },
  {
   "cell_type": "code",
   "execution_count": 6,
   "metadata": {},
   "outputs": [],
   "source": [
    "import csv\n",
    "\n",
    "with open('myfile.csv', 'w') as f:\n",
    "    writer = csv.writer(f)\n",
    "    writer.writerow(['Bob', '25', 'Manager', 'Seattle'])\n",
    "    writer.writerow(['Sam', '30', 'Developer', 'New York'])"
   ]
  },
  {
   "cell_type": "markdown",
   "metadata": {},
   "source": [
    "myfile.csv\n",
    "\n",
    "Bob,25,Manager,Seattle\n",
    "\n",
    "Sam,30,Developer,New York"
   ]
  },
  {
   "cell_type": "code",
   "execution_count": null,
   "metadata": {},
   "outputs": [],
   "source": []
  }
 ],
 "metadata": {
  "kernelspec": {
   "display_name": "Python 3",
   "language": "python",
   "name": "python3"
  },
  "language_info": {
   "codemirror_mode": {
    "name": "ipython",
    "version": 3
   },
   "file_extension": ".py",
   "mimetype": "text/x-python",
   "name": "python",
   "nbconvert_exporter": "python",
   "pygments_lexer": "ipython3",
   "version": "3.8.3"
  }
 },
 "nbformat": 4,
 "nbformat_minor": 4
}
