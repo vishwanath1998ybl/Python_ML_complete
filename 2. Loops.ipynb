{
 "cells": [
  {
   "cell_type": "markdown",
   "metadata": {},
   "source": [
    "# Python While Loop"
   ]
  },
  {
   "cell_type": "markdown",
   "metadata": {},
   "source": [
    "A while loop is used when you want to perform a task indefinitely, until a particular condition is met. It’s a condition-controlled loop.\n",
    "\n"
   ]
  },
  {
   "cell_type": "markdown",
   "metadata": {},
   "source": [
    "#### Syntax\n",
    "Here’s the syntax of the while statement:"
   ]
  },
  {
   "cell_type": "markdown",
   "metadata": {},
   "source": [
    "![image](https://www.learnbyexample.org/wp-content/uploads/python/Python-while-Loop-Syntax.png)"
   ]
  },
  {
   "cell_type": "markdown",
   "metadata": {},
   "source": [
    "#### Basic Examples\n",
    "Any non-zero value or nonempty container is considered TRUE; whereas Zero, None, and empty container is considered FALSE."
   ]
  },
  {
   "cell_type": "code",
   "execution_count": 1,
   "metadata": {},
   "outputs": [
    {
     "name": "stdout",
     "output_type": "stream",
     "text": [
      "6\n",
      "5\n",
      "4\n",
      "3\n",
      "2\n",
      "1\n"
     ]
    }
   ],
   "source": [
    "# Iterate until x becomes 0\n",
    "x = 6\n",
    "while x:\n",
    "    print(x)\n",
    "    x -= 1\n",
    "# Prints 6 5 4 3 2 1"
   ]
  },
  {
   "cell_type": "code",
   "execution_count": 2,
   "metadata": {},
   "outputs": [
    {
     "name": "stdout",
     "output_type": "stream",
     "text": [
      "blue\n",
      "green\n",
      "red\n"
     ]
    }
   ],
   "source": [
    "# Iterate until list is empty\n",
    "L = ['red', 'green', 'blue']\n",
    "while L:\n",
    "    print(L.pop())\n",
    "# Prints blue green red"
   ]
  },
  {
   "cell_type": "code",
   "execution_count": 3,
   "metadata": {},
   "outputs": [
    {
     "name": "stdout",
     "output_type": "stream",
     "text": [
      "blue\n",
      "lue\n",
      "ue\n",
      "e\n"
     ]
    }
   ],
   "source": [
    "# Iterate until string is empty\n",
    "x = 'blue'\n",
    "while x:\n",
    "    print(x)\n",
    "    x = x[1:]\n",
    "# Prints blue\n",
    "# Prints lue\n",
    "# Prints ue\n",
    "# Prints e"
   ]
  },
  {
   "cell_type": "markdown",
   "metadata": {},
   "source": [
    "If the condition is false at the start, the while loop will never be executed at all."
   ]
  },
  {
   "cell_type": "code",
   "execution_count": 4,
   "metadata": {},
   "outputs": [],
   "source": [
    "# Exit condition is false at the start\n",
    "x = 0\n",
    "while x:\n",
    "    print(x)\n",
    "    x -= 1"
   ]
  },
  {
   "cell_type": "markdown",
   "metadata": {},
   "source": [
    "### Break in while Loop\n",
    "Python break statement is used to exit the loop immediately. It simply jumps out of the loop altogether, and the program continues after the loop."
   ]
  },
  {
   "cell_type": "code",
   "execution_count": 5,
   "metadata": {},
   "outputs": [
    {
     "name": "stdout",
     "output_type": "stream",
     "text": [
      "6\n",
      "5\n",
      "4\n"
     ]
    }
   ],
   "source": [
    "# Exit when x becomes 3\n",
    "x = 6\n",
    "while x:\n",
    "    print(x)\n",
    "    x -= 1\n",
    "    if x == 3:\n",
    "        break\n",
    "# Prints 6 5 4"
   ]
  },
  {
   "cell_type": "markdown",
   "metadata": {},
   "source": [
    "### Continue in while Loop\n",
    "The continue statement skips the current iteration of a loop and continues with the next iteration."
   ]
  },
  {
   "cell_type": "code",
   "execution_count": 7,
   "metadata": {},
   "outputs": [
    {
     "name": "stdout",
     "output_type": "stream",
     "text": [
      "4\n",
      "2\n",
      "0\n"
     ]
    }
   ],
   "source": [
    "# Skip odd numbers\n",
    "x = 6\n",
    "while x:\n",
    "\tx -= 1\n",
    "\tif x % 2 != 0:\n",
    "\t\tcontinue\n",
    "\tprint(x)\n",
    "# Prints 4 2 0"
   ]
  },
  {
   "cell_type": "markdown",
   "metadata": {},
   "source": [
    "### Else in While Loop\n",
    "Python allows an optional else clause at the end of a while loop. The else clause will be executed when the loop terminates normally (the condition becomes false).\n",
    "\n"
   ]
  },
  {
   "cell_type": "code",
   "execution_count": 8,
   "metadata": {},
   "outputs": [
    {
     "name": "stdout",
     "output_type": "stream",
     "text": [
      "6\n",
      "5\n",
      "4\n",
      "3\n",
      "2\n",
      "1\n",
      "Done!\n"
     ]
    }
   ],
   "source": [
    "x = 6\n",
    "while x:\n",
    "    print(x)\n",
    "    x -= 1\n",
    "else:\n",
    "    print('Done!')\n",
    "# Prints 6 5 4 3 2 1\n",
    "# Prints Done!"
   ]
  },
  {
   "cell_type": "code",
   "execution_count": 9,
   "metadata": {},
   "outputs": [
    {
     "name": "stdout",
     "output_type": "stream",
     "text": [
      "Done!\n"
     ]
    }
   ],
   "source": [
    "x = 0\n",
    "while x:\n",
    "    print(x)\n",
    "    x -= 1\n",
    "else:\n",
    "    print('Done!')\n",
    "# Prints Done!"
   ]
  },
  {
   "cell_type": "code",
   "execution_count": 10,
   "metadata": {},
   "outputs": [
    {
     "name": "stdout",
     "output_type": "stream",
     "text": [
      "6\n",
      "5\n",
      "4\n"
     ]
    }
   ],
   "source": [
    "x = 6\n",
    "while x:\n",
    "    print(x)\n",
    "    x -= 1\n",
    "    if x == 3:\n",
    "        break\n",
    "else:\n",
    "    print('Done!')\n",
    "# Prints 6 5 4"
   ]
  },
  {
   "cell_type": "markdown",
   "metadata": {},
   "source": [
    "### Infinte Loop (while true)\n",
    "The condition must eventually become false. Otherwise, the loop will execute forever, creating an infinite/endless loop."
   ]
  },
  {
   "cell_type": "code",
   "execution_count": null,
   "metadata": {},
   "outputs": [],
   "source": [
    "# Infinte loop with while statement\n",
    "while True:\n",
    "    print('Press Ctrl+C to stop me!')"
   ]
  },
  {
   "cell_type": "code",
   "execution_count": 12,
   "metadata": {},
   "outputs": [
    {
     "name": "stdout",
     "output_type": "stream",
     "text": [
      "Enter name:aman\n",
      "Hello aman\n",
      "Enter name:ram\n",
      "Hello ram\n",
      "Enter name:raju\n",
      "Hello raju\n",
      "Enter name:stop\n"
     ]
    }
   ],
   "source": [
    "# Loop runs until the user enters 'stop'\n",
    "while True:\n",
    "    name = input('Enter name:')\n",
    "    if name == 'stop': break\n",
    "    print('Hello', name)\n",
    "\n",
    "# Output: \n",
    "# Enter name:Bob\n",
    "# Hello Bob\n",
    "# Enter name:Sam\n",
    "# Hello Sam\n",
    "# Enter name:stop"
   ]
  },
  {
   "cell_type": "markdown",
   "metadata": {},
   "source": [
    "# Python for Loop"
   ]
  },
  {
   "cell_type": "markdown",
   "metadata": {},
   "source": [
    "The for statement in Python is a bit different from what you usually use in other programming languages.\n",
    "\n",
    "Rather than iterating over a numeric progression, Python’s for statement iterates over the items of any iterable (list, tuple, dictionary, set, or string). The items are iterated in the order that they appear in the iterable.\n",
    "\n"
   ]
  },
  {
   "cell_type": "markdown",
   "metadata": {},
   "source": [
    "Syntax\n",
    "Here’s the syntax of the for statement:\n",
    "\n",
    "![image](https://www.learnbyexample.org/wp-content/uploads/python/Python-for-Loop-Syntax.png)"
   ]
  },
  {
   "cell_type": "code",
   "execution_count": 13,
   "metadata": {},
   "outputs": [
    {
     "name": "stdout",
     "output_type": "stream",
     "text": [
      "red\n",
      "green\n",
      "blue\n",
      "yellow\n"
     ]
    }
   ],
   "source": [
    "# Iterate through a list\n",
    "colors = ['red', 'green', 'blue', 'yellow']\n",
    "for x in colors:\n",
    "    print(x)\n",
    "# Prints red green blue yellow"
   ]
  },
  {
   "cell_type": "code",
   "execution_count": 14,
   "metadata": {},
   "outputs": [
    {
     "name": "stdout",
     "output_type": "stream",
     "text": [
      "p\n",
      "y\n",
      "t\n",
      "h\n",
      "o\n",
      "n\n"
     ]
    }
   ],
   "source": [
    "# Iterate through a string\n",
    "S = 'python'\n",
    "for x in S:\n",
    "    print(x)\n",
    "# Prints p y t h o n"
   ]
  },
  {
   "cell_type": "markdown",
   "metadata": {},
   "source": [
    "### Break in for Loop\n",
    "Python break statement is used to exit the loop immediately. It simply jumps out of the loop altogether, and the program continues after the loop.\n",
    "\n"
   ]
  },
  {
   "cell_type": "code",
   "execution_count": 15,
   "metadata": {},
   "outputs": [
    {
     "name": "stdout",
     "output_type": "stream",
     "text": [
      "red\n",
      "green\n"
     ]
    }
   ],
   "source": [
    "# Break the loop at 'blue'\n",
    "colors = ['red', 'green', 'blue', 'yellow']\n",
    "for x in colors:\n",
    "    if x == 'blue':\n",
    "        break\n",
    "    print(x)\n",
    "# Prints red green"
   ]
  },
  {
   "cell_type": "markdown",
   "metadata": {},
   "source": [
    "### Continue in for Loop\n",
    "The continue statement skips the current iteration of a loop and continues with the next iteration."
   ]
  },
  {
   "cell_type": "code",
   "execution_count": 17,
   "metadata": {},
   "outputs": [
    {
     "name": "stdout",
     "output_type": "stream",
     "text": [
      "red\n",
      "green\n",
      "yellow\n"
     ]
    }
   ],
   "source": [
    "# Skip 'blue'\n",
    "colors = ['red', 'green', 'blue', 'yellow']\n",
    "for x in colors:\n",
    "    if x == 'blue':\n",
    "        continue\n",
    "    print(x)\n",
    "# Prints red green yellow"
   ]
  },
  {
   "cell_type": "markdown",
   "metadata": {},
   "source": [
    "### Else in for Loop\n",
    "Python allows an optional else clause at the end of a for loop. The else clause will be executed if the loop terminates naturally (through exhaustion).\n",
    "\n"
   ]
  },
  {
   "cell_type": "code",
   "execution_count": 18,
   "metadata": {},
   "outputs": [
    {
     "name": "stdout",
     "output_type": "stream",
     "text": [
      "red\n",
      "green\n",
      "blue\n",
      "yellow\n",
      "Done!\n"
     ]
    }
   ],
   "source": [
    "colors = ['red', 'green', 'blue', 'yellow']\n",
    "for x in colors:\n",
    "    print(x)\n",
    "else:\n",
    "    print('Done!')\n",
    "# Prints red green blue yellow\n",
    "# Prints Done!"
   ]
  },
  {
   "cell_type": "markdown",
   "metadata": {},
   "source": [
    "If the loop terminates prematurely with break, the else clause won’t be executed."
   ]
  },
  {
   "cell_type": "code",
   "execution_count": 19,
   "metadata": {},
   "outputs": [
    {
     "name": "stdout",
     "output_type": "stream",
     "text": [
      "red\n",
      "green\n"
     ]
    }
   ],
   "source": [
    "colors = ['red', 'green', 'blue', 'yellow']\n",
    "for x in colors:\n",
    "    if x == 'blue':\n",
    "        break\n",
    "    print(x)\n",
    "else:\n",
    "    print('Done!')\n",
    "# Prints red green"
   ]
  },
  {
   "cell_type": "markdown",
   "metadata": {},
   "source": [
    "### range() function in for loop\n",
    "If you need to execute a group of statements for a specified number of times, use built-in function range().\n",
    "\n",
    "The range(start,stop,step) function generates a sequence of numbers from 0 up to (but not including) specified number.\n",
    "\n"
   ]
  },
  {
   "cell_type": "code",
   "execution_count": 20,
   "metadata": {},
   "outputs": [
    {
     "name": "stdout",
     "output_type": "stream",
     "text": [
      "0\n",
      "1\n",
      "2\n",
      "3\n",
      "4\n",
      "5\n",
      "6\n"
     ]
    }
   ],
   "source": [
    "# Generate a sequence of numbers from 0 6\n",
    "for x in range(7):\n",
    "    print(x)\n",
    "# Prints 0 1 2 3 4 5 6"
   ]
  },
  {
   "cell_type": "markdown",
   "metadata": {},
   "source": [
    "range() provides a simple way to repeat an action a specific number of times."
   ]
  },
  {
   "cell_type": "code",
   "execution_count": 21,
   "metadata": {},
   "outputs": [
    {
     "name": "stdout",
     "output_type": "stream",
     "text": [
      "Hello!\n",
      "Hello!\n",
      "Hello!\n"
     ]
    }
   ],
   "source": [
    "# Print 'Hello!' three times\n",
    "for x in range(3):\n",
    "    print('Hello!')\n",
    "# Prints Hello!\n",
    "# Prints Hello!\n",
    "# Prints Hello!"
   ]
  },
  {
   "cell_type": "markdown",
   "metadata": {},
   "source": [
    "The range starts from 0 by default. But, you can start the range at another number by specifying start parameter.\n",
    "\n"
   ]
  },
  {
   "cell_type": "code",
   "execution_count": 22,
   "metadata": {},
   "outputs": [
    {
     "name": "stdout",
     "output_type": "stream",
     "text": [
      "2\n",
      "3\n",
      "4\n",
      "5\n",
      "6\n"
     ]
    }
   ],
   "source": [
    "# Generate a sequence of numbers from 2 to 6\n",
    "for x in range(2, 7):\n",
    "    print(x)\n",
    "# Prints 2 3 4 5 6"
   ]
  },
  {
   "cell_type": "markdown",
   "metadata": {},
   "source": [
    "You can generate a range of negative numbers as well."
   ]
  },
  {
   "cell_type": "code",
   "execution_count": 23,
   "metadata": {},
   "outputs": [
    {
     "name": "stdout",
     "output_type": "stream",
     "text": [
      "-5\n",
      "-4\n",
      "-3\n",
      "-2\n",
      "-1\n"
     ]
    }
   ],
   "source": [
    "for x in range(-5,0):\n",
    "    print(x)\n",
    "# Prints -5 -4 -3 -2 -1"
   ]
  },
  {
   "cell_type": "markdown",
   "metadata": {},
   "source": [
    "The range increments by 1 by default. But, you can specify a different increment by adding a step parameter.\n",
    "\n"
   ]
  },
  {
   "cell_type": "code",
   "execution_count": 24,
   "metadata": {},
   "outputs": [
    {
     "name": "stdout",
     "output_type": "stream",
     "text": [
      "2\n",
      "4\n",
      "6\n"
     ]
    }
   ],
   "source": [
    "# Increment the range with 2\n",
    "for x in range(2, 7, 2):\n",
    "    print(x)\n",
    "# Prints 2 4 6"
   ]
  },
  {
   "cell_type": "markdown",
   "metadata": {},
   "source": [
    "### Nested for Loop\n",
    "A loop inside another loop is called a nested loop."
   ]
  },
  {
   "cell_type": "code",
   "execution_count": 25,
   "metadata": {},
   "outputs": [
    {
     "name": "stdout",
     "output_type": "stream",
     "text": [
      "1\n",
      "2\n",
      "3\n",
      "4\n",
      "5\n",
      "6\n",
      "7\n",
      "8\n",
      "9\n"
     ]
    }
   ],
   "source": [
    "# Flatten a nested list\n",
    "list = [[1, 2, 3],[4, 5, 6],[7, 8, 9]]   \n",
    "for sublist in list:\n",
    "    for number in sublist:\n",
    "        print(number)\n",
    "# Prints 1 2 3 4 5 6 7 8 9"
   ]
  },
  {
   "cell_type": "markdown",
   "metadata": {},
   "source": [
    "### Access Index in for Loop\n",
    "To iterate over the indices of a sequence, you can combine range() and len() as follows:"
   ]
  },
  {
   "cell_type": "code",
   "execution_count": 26,
   "metadata": {},
   "outputs": [
    {
     "name": "stdout",
     "output_type": "stream",
     "text": [
      "0 red\n",
      "1 green\n",
      "2 blue\n"
     ]
    }
   ],
   "source": [
    "colors = ['red', 'green', 'blue']\n",
    "for index in range(len(colors)):\n",
    "    print(index, colors[index])\n",
    "# Prints 0 red\n",
    "# Prints 1 green\n",
    "# Prints 2 blue"
   ]
  },
  {
   "cell_type": "code",
   "execution_count": 27,
   "metadata": {},
   "outputs": [
    {
     "name": "stdout",
     "output_type": "stream",
     "text": [
      "0 red\n",
      "1 green\n",
      "2 blue\n"
     ]
    }
   ],
   "source": [
    "colors = ['red', 'green', 'blue']\n",
    "for index, value in enumerate(colors):\n",
    "    print(index, value)\n",
    "# Prints 0 red\n",
    "# Prints 1 green\n",
    "# Prints 2 blue"
   ]
  },
  {
   "cell_type": "markdown",
   "metadata": {},
   "source": [
    "### Unpacking in a for loop\n",
    "Below for loop does a multiple assignment (unpack the current tuple) each time through the loop."
   ]
  },
  {
   "cell_type": "code",
   "execution_count": 29,
   "metadata": {},
   "outputs": [
    {
     "name": "stdout",
     "output_type": "stream",
     "text": [
      "1 2\n",
      "3 4\n",
      "5 6\n"
     ]
    }
   ],
   "source": [
    "# Tuple unpacking\n",
    "T = [(1, 2), (3, 4), (5, 6)]\n",
    "for (a, b) in T:\n",
    "    print(a, b)\n",
    "# Prints 1 2\n",
    "# Prints 3 4\n",
    "# Prints 5 6"
   ]
  },
  {
   "cell_type": "code",
   "execution_count": 30,
   "metadata": {},
   "outputs": [
    {
     "name": "stdout",
     "output_type": "stream",
     "text": [
      "name Bob\n",
      "age 25\n"
     ]
    }
   ],
   "source": [
    "# Dictionary unpacking\n",
    "D = {'name': 'Bob', 'age': 25}\n",
    "for x, y in D.items():\n",
    "\tprint(x, y)\n",
    "# Prints age 25\n",
    "# Prints name Bob"
   ]
  },
  {
   "cell_type": "markdown",
   "metadata": {},
   "source": [
    "### Modify a List While Iterating\n",
    "Don’t alter mutable objects while looping on them. It may create an infinite loop.\n",
    "\n"
   ]
  },
  {
   "cell_type": "code",
   "execution_count": null,
   "metadata": {},
   "outputs": [],
   "source": [
    "# infinite loop\n",
    "colors = ['red', 'green', 'blue']\n",
    "for x in colors:\n",
    "    if x == 'red':\n",
    "        colors.insert(0, 'orange')\n",
    "        print(colors)"
   ]
  },
  {
   "cell_type": "code",
   "execution_count": 33,
   "metadata": {},
   "outputs": [
    {
     "name": "stdout",
     "output_type": "stream",
     "text": [
      "['orange', 'red', 'green', 'blue']\n"
     ]
    }
   ],
   "source": [
    "colors = ['red', 'green', 'blue']\n",
    "for x in colors[:]:\n",
    "\tif x == 'red':\n",
    "\t\tcolors.insert(0, 'orange')\n",
    "print(colors)\n",
    "# Prints ['orange', 'red', 'green', 'blue']"
   ]
  },
  {
   "cell_type": "markdown",
   "metadata": {},
   "source": [
    "### Looping Through Multiple Lists\n"
   ]
  },
  {
   "cell_type": "code",
   "execution_count": 34,
   "metadata": {},
   "outputs": [
    {
     "name": "stdout",
     "output_type": "stream",
     "text": [
      "Bob 25\n",
      "Sam 35\n",
      "Max 30\n"
     ]
    }
   ],
   "source": [
    "# Loop through two lists at once\n",
    "name = ['Bob', 'Sam', 'Max']\n",
    "age = [25, 35, 30]\n",
    "for x, y in zip(name, age):\n",
    "    print(x, y)\n",
    "# Prints Bob 25\n",
    "# Prints Sam 35\n",
    "# Prints Max 30"
   ]
  },
  {
   "cell_type": "code",
   "execution_count": null,
   "metadata": {},
   "outputs": [],
   "source": []
  }
 ],
 "metadata": {
  "kernelspec": {
   "display_name": "Python 3",
   "language": "python",
   "name": "python3"
  },
  "language_info": {
   "codemirror_mode": {
    "name": "ipython",
    "version": 3
   },
   "file_extension": ".py",
   "mimetype": "text/x-python",
   "name": "python",
   "nbconvert_exporter": "python",
   "pygments_lexer": "ipython3",
   "version": "3.8.3"
  }
 },
 "nbformat": 4,
 "nbformat_minor": 4
}
