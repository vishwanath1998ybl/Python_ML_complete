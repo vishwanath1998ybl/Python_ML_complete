{
 "cells": [
  {
   "cell_type": "markdown",
   "metadata": {},
   "source": [
    "# Python Exceptions (Try…Except)"
   ]
  },
  {
   "cell_type": "markdown",
   "metadata": {},
   "source": [
    "When executing Python code, different errors may occur: coding errors made by the programmer, errors due to wrong input, or other unforeseeable things.\n",
    "\n",
    "When an error occurs, Python’s default exception-handling behavior kicks in: it stops the program and prints an error message.\n",
    "\n",
    "If you don’t want this default behavior, you need to handle these exceptions."
   ]
  },
  {
   "cell_type": "markdown",
   "metadata": {},
   "source": [
    "### The try and except Block"
   ]
  },
  {
   "cell_type": "markdown",
   "metadata": {},
   "source": [
    "In Python, exceptions are handled using the try and except block."
   ]
  },
  {
   "cell_type": "markdown",
   "metadata": {},
   "source": [
    "![image](https://www.learnbyexample.org/wp-content/uploads/python/Python-try-except-Syntax.png)"
   ]
  },
  {
   "cell_type": "markdown",
   "metadata": {},
   "source": [
    "Python executes the try block as a normal part of the program.\n",
    "\n",
    "When an error occurs during its execution, the rest of the block is skipped and except block is executed.\n",
    "\n"
   ]
  },
  {
   "cell_type": "markdown",
   "metadata": {},
   "source": [
    "#### Basic Examples\n",
    "In below example, the try block will generate an exception, because a number is divided by zero.\n",
    "\n",
    "Hence, the except block will be executed."
   ]
  },
  {
   "cell_type": "code",
   "execution_count": 1,
   "metadata": {},
   "outputs": [
    {
     "name": "stdout",
     "output_type": "stream",
     "text": [
      "Something went wrong.\n"
     ]
    }
   ],
   "source": [
    "try:\n",
    "    x = 1/0\n",
    "except:\n",
    "    print('Something went wrong.')\n",
    "# Prints Something went wrong."
   ]
  },
  {
   "cell_type": "markdown",
   "metadata": {},
   "source": [
    "Python don’t just handle exceptions if they occur immediately in the try block, but also if they occur inside functions that are called in the try block."
   ]
  },
  {
   "cell_type": "code",
   "execution_count": 2,
   "metadata": {},
   "outputs": [
    {
     "name": "stdout",
     "output_type": "stream",
     "text": [
      "division by zero\n"
     ]
    }
   ],
   "source": [
    "def this_fails():\n",
    "    x = 1/0\n",
    "\n",
    "try:\n",
    "    this_fails()\n",
    "except Exception as e:\n",
    "    print(e)\n",
    "# Prints division by zero"
   ]
  },
  {
   "cell_type": "markdown",
   "metadata": {},
   "source": [
    "### Catch Multiple Exceptions\n",
    "You can define as many except blocks as you want, to catch and handle specific exceptions."
   ]
  },
  {
   "cell_type": "code",
   "execution_count": 3,
   "metadata": {},
   "outputs": [
    {
     "name": "stdout",
     "output_type": "stream",
     "text": [
      "Attempt to divide by zero\n"
     ]
    }
   ],
   "source": [
    "# Print one message for ZeroDivisionError and another for all other errors\n",
    "try:\n",
    "\tx = 1/0\n",
    "except ZeroDivisionError:\n",
    "\tprint('Attempt to divide by zero')\n",
    "except:\n",
    "\tprint('Something else went wrong')\n",
    "# Prints Attempt to divide by zero"
   ]
  },
  {
   "cell_type": "markdown",
   "metadata": {},
   "source": [
    "If you want to execute the same block of code for multiple exceptions, specify all the exceptions in a parenthesized tuple."
   ]
  },
  {
   "cell_type": "code",
   "execution_count": 4,
   "metadata": {},
   "outputs": [
    {
     "name": "stdout",
     "output_type": "stream",
     "text": [
      "ZeroDivisionError or ValueError is raised\n"
     ]
    }
   ],
   "source": [
    "# Execute same block of code for multiple exceptions\n",
    "try:\n",
    "    x = 1/0\n",
    "except (ZeroDivisionError, ValueError):\n",
    "    print('ZeroDivisionError or ValueError is raised')\n",
    "except:\n",
    "    print('Something else went wrong')\n",
    "# Prints ZeroDivisionError or ValueError is raised"
   ]
  },
  {
   "cell_type": "markdown",
   "metadata": {},
   "source": [
    "### The Else Clause\n",
    "The try…except block has an optional else clause.\n",
    "\n",
    "The else clause is executed only if no exceptions are raised."
   ]
  },
  {
   "cell_type": "markdown",
   "metadata": {},
   "source": [
    "![image](https://www.learnbyexample.org/wp-content/uploads/python/Python-try-except-else-Syntax.png)"
   ]
  },
  {
   "cell_type": "code",
   "execution_count": 5,
   "metadata": {},
   "outputs": [
    {
     "name": "stdout",
     "output_type": "stream",
     "text": [
      "Nothing went wrong\n"
     ]
    }
   ],
   "source": [
    "try:\n",
    "    x = 1/1\n",
    "except:\n",
    "    print('Something went wrong')\n",
    "else:\n",
    "    print('Nothing went wrong')\n",
    "# Prints Nothing went wrong"
   ]
  },
  {
   "cell_type": "markdown",
   "metadata": {},
   "source": [
    "### The Finally Clause"
   ]
  },
  {
   "cell_type": "markdown",
   "metadata": {},
   "source": [
    "The try…except block has another optional finally clause.\n",
    "\n",
    "A finally clause is always executed, whether an exception has occurred or not."
   ]
  },
  {
   "cell_type": "markdown",
   "metadata": {},
   "source": [
    "![image](https://www.learnbyexample.org/wp-content/uploads/python/Python-Exception-try-except-else-finally-Syntax.png)"
   ]
  },
  {
   "cell_type": "code",
   "execution_count": 6,
   "metadata": {},
   "outputs": [
    {
     "name": "stdout",
     "output_type": "stream",
     "text": [
      "Something went wrong\n",
      "Always execute this\n"
     ]
    }
   ],
   "source": [
    "# finally clause is always executed\n",
    "try:\n",
    "\tx = 1/0\n",
    "except:\n",
    "\tprint('Something went wrong')\n",
    "finally:\n",
    "\tprint('Always execute this')\n",
    "# Prints Something went wrong\n",
    "# Prints Always execute this"
   ]
  },
  {
   "cell_type": "markdown",
   "metadata": {},
   "source": [
    "Use finally clause to define clean-up actions that must be executed under all circumstances e.g. closing a file."
   ]
  },
  {
   "cell_type": "code",
   "execution_count": 8,
   "metadata": {},
   "outputs": [
    {
     "name": "stdout",
     "output_type": "stream",
     "text": [
      "Hello\n"
     ]
    }
   ],
   "source": [
    "# Exception handling during file manipulation\n",
    "f = open('myfile.txt')\n",
    "try:\n",
    "\tprint(f.read())\n",
    "except:\n",
    "\tprint(\"Something went wrong\")\n",
    "finally:\n",
    "\tf. close()"
   ]
  },
  {
   "cell_type": "markdown",
   "metadata": {},
   "source": [
    "### Raising an Exception\n",
    "If you want to raise an exception when a certain condition occurs, use raise keyword.\n",
    "\n"
   ]
  },
  {
   "cell_type": "code",
   "execution_count": 9,
   "metadata": {},
   "outputs": [
    {
     "ename": "NameError",
     "evalue": "An exception occured!",
     "output_type": "error",
     "traceback": [
      "\u001b[0;31m---------------------------------------------------------------------------\u001b[0m",
      "\u001b[0;31mNameError\u001b[0m                                 Traceback (most recent call last)",
      "\u001b[0;32m<ipython-input-9-a92effba1133>\u001b[0m in \u001b[0;36m<module>\u001b[0;34m\u001b[0m\n\u001b[1;32m      1\u001b[0m \u001b[0;31m# Raise built-in exception 'NameError'\u001b[0m\u001b[0;34m\u001b[0m\u001b[0;34m\u001b[0m\u001b[0;34m\u001b[0m\u001b[0m\n\u001b[0;32m----> 2\u001b[0;31m \u001b[0;32mraise\u001b[0m \u001b[0mNameError\u001b[0m\u001b[0;34m(\u001b[0m\u001b[0;34m'An exception occured!'\u001b[0m\u001b[0;34m)\u001b[0m\u001b[0;34m\u001b[0m\u001b[0;34m\u001b[0m\u001b[0m\n\u001b[0m\u001b[1;32m      3\u001b[0m \u001b[0;34m\u001b[0m\u001b[0m\n\u001b[1;32m      4\u001b[0m \u001b[0;31m# Output:\u001b[0m\u001b[0;34m\u001b[0m\u001b[0;34m\u001b[0m\u001b[0;34m\u001b[0m\u001b[0m\n\u001b[1;32m      5\u001b[0m \u001b[0;31m# Traceback (most recent call last):\u001b[0m\u001b[0;34m\u001b[0m\u001b[0;34m\u001b[0m\u001b[0;34m\u001b[0m\u001b[0m\n",
      "\u001b[0;31mNameError\u001b[0m: An exception occured!"
     ]
    }
   ],
   "source": [
    "# Raise built-in exception 'NameError'\n",
    "raise NameError('An exception occured!')\n",
    "\n",
    "# Output:\n",
    "# Traceback (most recent call last):\n",
    "#   File \"<stdin>\", line 1, in <module>\n",
    "# NameError: An exception occured!"
   ]
  },
  {
   "cell_type": "markdown",
   "metadata": {},
   "source": [
    "### User-defined Exceptions\n",
    "You can create your own exceptions by creating a new exception class like this:"
   ]
  },
  {
   "cell_type": "code",
   "execution_count": 10,
   "metadata": {},
   "outputs": [
    {
     "ename": "InputError",
     "evalue": "Custom exception",
     "output_type": "error",
     "traceback": [
      "\u001b[0;31m---------------------------------------------------------------------------\u001b[0m",
      "\u001b[0;31mInputError\u001b[0m                                Traceback (most recent call last)",
      "\u001b[0;32m<ipython-input-10-5568038ed098>\u001b[0m in \u001b[0;36m<module>\u001b[0;34m\u001b[0m\n\u001b[1;32m      3\u001b[0m     \u001b[0;32mpass\u001b[0m\u001b[0;34m\u001b[0m\u001b[0;34m\u001b[0m\u001b[0m\n\u001b[1;32m      4\u001b[0m \u001b[0;34m\u001b[0m\u001b[0m\n\u001b[0;32m----> 5\u001b[0;31m \u001b[0;32mraise\u001b[0m \u001b[0mInputError\u001b[0m\u001b[0;34m(\u001b[0m\u001b[0;34m'Custom exception'\u001b[0m\u001b[0;34m)\u001b[0m\u001b[0;34m\u001b[0m\u001b[0;34m\u001b[0m\u001b[0m\n\u001b[0m\u001b[1;32m      6\u001b[0m \u001b[0;34m\u001b[0m\u001b[0m\n\u001b[1;32m      7\u001b[0m \u001b[0;31m# Output:\u001b[0m\u001b[0;34m\u001b[0m\u001b[0;34m\u001b[0m\u001b[0;34m\u001b[0m\u001b[0m\n",
      "\u001b[0;31mInputError\u001b[0m: Custom exception"
     ]
    }
   ],
   "source": [
    "# Create and raise Custom exception 'InputError'\n",
    "class InputError(Exception):\n",
    "    pass\n",
    "\n",
    "raise InputError('Custom exception')\n",
    "\n",
    "# Output:\n",
    "# Traceback (most recent call last):\n",
    "#   File \"<stdin>\", line 4, in <module>\n",
    "# InputError: Custom exception"
   ]
  },
  {
   "cell_type": "code",
   "execution_count": null,
   "metadata": {},
   "outputs": [],
   "source": []
  }
 ],
 "metadata": {
  "kernelspec": {
   "display_name": "Python 3",
   "language": "python",
   "name": "python3"
  },
  "language_info": {
   "codemirror_mode": {
    "name": "ipython",
    "version": 3
   },
   "file_extension": ".py",
   "mimetype": "text/x-python",
   "name": "python",
   "nbconvert_exporter": "python",
   "pygments_lexer": "ipython3",
   "version": "3.8.3"
  }
 },
 "nbformat": 4,
 "nbformat_minor": 4
}
