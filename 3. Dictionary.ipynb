{
 "cells": [
  {
   "cell_type": "markdown",
   "metadata": {},
   "source": [
    "### Python Dictionary"
   ]
  },
  {
   "cell_type": "markdown",
   "metadata": {},
   "source": [
    "Dictionaries are Python’s implementation of a data structure, generally known as associative arrays, hashes, or hashmaps.\n",
    "\n",
    "You can think of a dictionary as a mapping between a set of indexes (known as keys) and a set of values. Each key maps to a value. The association of a key and a value is called a key:value pair or sometimes an item.\n",
    "\n",
    "As an example, we’ll build a dictionary that stores employee record."
   ]
  },
  {
   "cell_type": "markdown",
   "metadata": {},
   "source": [
    "![image](https://www.learnbyexample.org/wp-content/uploads/python/Dictionary-Key-Value-Pairs-Illustration.png)"
   ]
  },
  {
   "cell_type": "markdown",
   "metadata": {},
   "source": [
    "### Create a Dictionary\n",
    "You can create a dictionary by placing a comma-separated list of key:value pairs in curly braces {}. Each key is separated from its associated value by a colon :"
   ]
  },
  {
   "cell_type": "code",
   "execution_count": 3,
   "metadata": {},
   "outputs": [
    {
     "name": "stdout",
     "output_type": "stream",
     "text": [
      "{'name': 'Bob', 'age': 25, 'job': 'Dev'}\n"
     ]
    }
   ],
   "source": [
    "# Create a dictionary with a list of two-item tuples\n",
    "L = [('name', 'Bob'),\n",
    "     ('age', 25),\n",
    "     ('job', 'Dev')]\n",
    "\n",
    "D = dict(L)\n",
    "print(D)\n",
    "# Prints {'name': 'Bob', 'age': 25, 'job': 'Dev'}"
   ]
  },
  {
   "cell_type": "code",
   "execution_count": 4,
   "metadata": {},
   "outputs": [
    {
     "name": "stdout",
     "output_type": "stream",
     "text": [
      "{'name': 'Bob', 'age': 25, 'job': 'Dev'}\n"
     ]
    }
   ],
   "source": [
    "# Create a dictionary with a tuple of two-item lists\n",
    "T = (['name', 'Bob'],\n",
    "     ['age', 25],\n",
    "     ['job', 'Dev'])\n",
    "\n",
    "D = dict(T)\n",
    "print(D)\n",
    "# Prints {'name': 'Bob', 'age': 25, 'job': 'Dev'}"
   ]
  },
  {
   "cell_type": "markdown",
   "metadata": {},
   "source": [
    "When the keys are simple strings, it is sometimes easier to specify key:value pairs using keyword arguments."
   ]
  },
  {
   "cell_type": "code",
   "execution_count": 5,
   "metadata": {},
   "outputs": [
    {
     "name": "stdout",
     "output_type": "stream",
     "text": [
      "{'name': 'Bob', 'age': 25, 'job': 'Dev'}\n"
     ]
    }
   ],
   "source": [
    "D = dict(name = 'Bob',\n",
    "         age = 25,\n",
    "         job = 'Dev')\n",
    "\n",
    "print(D)\n",
    "# Prints {'name': 'Bob', 'age': 25, 'job': 'Dev'}"
   ]
  },
  {
   "cell_type": "markdown",
   "metadata": {},
   "source": [
    "### Other Ways to Create Dictionaries\n",
    "There are lots of other ways to create a dictionary.\n",
    "\n",
    "You can use dict() function along with the zip() function, to combine separate lists of keys and values obtained dynamically at runtime."
   ]
  },
  {
   "cell_type": "code",
   "execution_count": 6,
   "metadata": {},
   "outputs": [
    {
     "name": "stdout",
     "output_type": "stream",
     "text": [
      "{'name': 'Bob', 'age': 25, 'job': 'Dev'}\n"
     ]
    }
   ],
   "source": [
    "# Create a dictionary with list of zipped keys/values\n",
    "keys = ['name', 'age', 'job']\n",
    "values = ['Bob', 25, 'Dev']\n",
    "\n",
    "D = dict(zip(keys, values))\n",
    "\n",
    "print(D)\n",
    "# Prints {'name': 'Bob', 'age': 25, 'job': 'Dev'}"
   ]
  },
  {
   "cell_type": "markdown",
   "metadata": {},
   "source": [
    "You’ll often want to create a dictionary with default values for each key. The fromkeys() method offers a way to do this.\n",
    "\n"
   ]
  },
  {
   "cell_type": "code",
   "execution_count": 7,
   "metadata": {},
   "outputs": [
    {
     "name": "stdout",
     "output_type": "stream",
     "text": [
      "{'a': 0, 'b': 0, 'c': 0}\n"
     ]
    }
   ],
   "source": [
    "# Initialize dictionary with default value '0' for each key\n",
    "keys = ['a', 'b', 'c']\n",
    "defaultValue = 0\n",
    "\n",
    "D = dict.fromkeys(keys,defaultValue)\n",
    "\n",
    "print(D)\n",
    "# Prints {'a': 0, 'b': 0, 'c': 0}"
   ]
  },
  {
   "cell_type": "markdown",
   "metadata": {},
   "source": [
    "There is one more way to create a dictionary based on existing dictionary, called Dictionary comprehension."
   ]
  },
  {
   "cell_type": "markdown",
   "metadata": {},
   "source": [
    "### Important Properties of a Dictionary"
   ]
  },
  {
   "cell_type": "markdown",
   "metadata": {},
   "source": [
    "Dictionaries are pretty straightforward, but here are a few points you should be aware of when using them.\n",
    "\n",
    "### Keys must be unique:\n",
    "A key can appear in a dictionary only once.\n",
    "\n",
    "Even if you specify a key more than once during the creation of a dictionary, the last value for that key becomes the associated value.\n",
    "\n"
   ]
  },
  {
   "cell_type": "code",
   "execution_count": 8,
   "metadata": {},
   "outputs": [
    {
     "name": "stdout",
     "output_type": "stream",
     "text": [
      "{'name': 'Jane', 'age': 25}\n"
     ]
    }
   ],
   "source": [
    "D = {'name': 'Bob',\n",
    "     'age': 25,\n",
    "     'name': 'Jane'}\n",
    "print(D)\n",
    "# Prints {'name': 'Jane', 'age': 25}"
   ]
  },
  {
   "cell_type": "markdown",
   "metadata": {},
   "source": [
    "Notice that the first occurrence of ‘name’ is replaced by the second one.\n",
    "\n",
    "Key must be immutable type:\n",
    "You can use any object of immutable type as dictionary keys – such as numbers, strings, booleans or tuples.\n",
    "\n"
   ]
  },
  {
   "cell_type": "code",
   "execution_count": 9,
   "metadata": {},
   "outputs": [],
   "source": [
    "D = {(2,2): 25,\n",
    "     True: 'a',\n",
    "     'name': 'Bob'}"
   ]
  },
  {
   "cell_type": "markdown",
   "metadata": {},
   "source": [
    "An exception is raised when mutable object is used as a key."
   ]
  },
  {
   "cell_type": "code",
   "execution_count": 10,
   "metadata": {},
   "outputs": [
    {
     "ename": "TypeError",
     "evalue": "unhashable type: 'list'",
     "output_type": "error",
     "traceback": [
      "\u001b[0;31m---------------------------------------------------------------------------\u001b[0m",
      "\u001b[0;31mTypeError\u001b[0m                                 Traceback (most recent call last)",
      "\u001b[0;32m<ipython-input-10-e0a593cc7096>\u001b[0m in \u001b[0;36m<module>\u001b[0;34m\u001b[0m\n\u001b[1;32m      1\u001b[0m \u001b[0;31m# TypeError: unhashable type: 'list'\u001b[0m\u001b[0;34m\u001b[0m\u001b[0;34m\u001b[0m\u001b[0;34m\u001b[0m\u001b[0m\n\u001b[0;32m----> 2\u001b[0;31m D = {[2,2]: 25,\n\u001b[0m\u001b[1;32m      3\u001b[0m      'name': 'Bob'}\n",
      "\u001b[0;31mTypeError\u001b[0m: unhashable type: 'list'"
     ]
    }
   ],
   "source": [
    "# TypeError: unhashable type: 'list'\n",
    "D = {[2,2]: 25,\n",
    "     'name': 'Bob'}"
   ]
  },
  {
   "cell_type": "markdown",
   "metadata": {},
   "source": [
    "### Value can be of any type:\n",
    "There are no restrictions on dictionary values. A dictionary value can be any type of object and can appear in a dictionary multiple times.\n",
    "\n"
   ]
  },
  {
   "cell_type": "code",
   "execution_count": 11,
   "metadata": {},
   "outputs": [],
   "source": [
    "# values of different datatypes\n",
    "D = {'a':[1,2,3],\n",
    "     'b':{1,2,3}}\n",
    "\n",
    "# duplicate values\n",
    "D = {'a':[1,2],\n",
    "     'b':[1,2],\n",
    "     'c':[1,2]}"
   ]
  },
  {
   "cell_type": "markdown",
   "metadata": {},
   "source": [
    "### Access Dictionary Items\n",
    "The order of key:value pairs is not always the same. In fact, if you write the same example on another PC, you may get a different result. In general, the order of items in a dictionary is unpredictable.\n",
    "\n",
    "But this is not a problem because the items of a dictionary are not indexed with integer indices. Instead, you use the keys to access the corresponding values."
   ]
  },
  {
   "cell_type": "markdown",
   "metadata": {},
   "source": [
    "You can fetch a value from a dictionary by referring to its key in square brackets []."
   ]
  },
  {
   "cell_type": "code",
   "execution_count": 12,
   "metadata": {},
   "outputs": [
    {
     "name": "stdout",
     "output_type": "stream",
     "text": [
      "Bob\n"
     ]
    }
   ],
   "source": [
    "D = {'name': 'Bob',\n",
    "     'age': 25,\n",
    "     'job': 'Dev'}\n",
    "\n",
    "print(D['name'])\n",
    "# Prints Bob"
   ]
  },
  {
   "cell_type": "markdown",
   "metadata": {},
   "source": [
    "If you refer to a key that is not in the dictionary, you’ll get an exception."
   ]
  },
  {
   "cell_type": "code",
   "execution_count": 13,
   "metadata": {},
   "outputs": [
    {
     "ename": "KeyError",
     "evalue": "'salary'",
     "output_type": "error",
     "traceback": [
      "\u001b[0;31m---------------------------------------------------------------------------\u001b[0m",
      "\u001b[0;31mKeyError\u001b[0m                                  Traceback (most recent call last)",
      "\u001b[0;32m<ipython-input-13-fe8642fb7ca0>\u001b[0m in \u001b[0;36m<module>\u001b[0;34m\u001b[0m\n\u001b[0;32m----> 1\u001b[0;31m \u001b[0mprint\u001b[0m\u001b[0;34m(\u001b[0m\u001b[0mD\u001b[0m\u001b[0;34m[\u001b[0m\u001b[0;34m'salary'\u001b[0m\u001b[0;34m]\u001b[0m\u001b[0;34m)\u001b[0m\u001b[0;34m\u001b[0m\u001b[0;34m\u001b[0m\u001b[0m\n\u001b[0m\u001b[1;32m      2\u001b[0m \u001b[0;31m# Triggers KeyError: 'salary'\u001b[0m\u001b[0;34m\u001b[0m\u001b[0;34m\u001b[0m\u001b[0;34m\u001b[0m\u001b[0m\n",
      "\u001b[0;31mKeyError\u001b[0m: 'salary'"
     ]
    }
   ],
   "source": [
    "print(D['salary'])\n",
    "# Triggers KeyError: 'salary'"
   ]
  },
  {
   "cell_type": "markdown",
   "metadata": {},
   "source": [
    "To avoid such exception, you can use the special dictionary get() method. This method returns the value for key if key is in the dictionary, else None, so that this method never raises a KeyError.\n",
    "\n"
   ]
  },
  {
   "cell_type": "code",
   "execution_count": 14,
   "metadata": {},
   "outputs": [
    {
     "name": "stdout",
     "output_type": "stream",
     "text": [
      "Bob\n",
      "None\n"
     ]
    }
   ],
   "source": [
    "# When key is present\n",
    "print(D.get('name'))\n",
    "# Prints Bob\n",
    "\n",
    "# When key is absent\n",
    "print(D.get('salary'))\n",
    "# Prints None"
   ]
  },
  {
   "cell_type": "markdown",
   "metadata": {},
   "source": [
    "### Add or Update Dictionary Items\n",
    "Adding or updating dictionary items is easy. Just refer to the item by its key and assign a value. If the key is already present in the dictionary, its value is replaced by the new one."
   ]
  },
  {
   "cell_type": "code",
   "execution_count": 15,
   "metadata": {},
   "outputs": [
    {
     "name": "stdout",
     "output_type": "stream",
     "text": [
      "{'name': 'Sam', 'age': 25, 'job': 'Dev'}\n"
     ]
    }
   ],
   "source": [
    "D = {'name': 'Bob',\n",
    "     'age': 25,\n",
    "     'job': 'Dev'}\n",
    "\n",
    "D['name'] = 'Sam'\n",
    "print(D)\n",
    "# Prints {'name': 'Sam', 'age': 25, 'job': 'Dev'}"
   ]
  },
  {
   "cell_type": "markdown",
   "metadata": {},
   "source": [
    "If the key is new, it is added to the dictionary with its value.\n",
    "\n"
   ]
  },
  {
   "cell_type": "code",
   "execution_count": 16,
   "metadata": {},
   "outputs": [
    {
     "name": "stdout",
     "output_type": "stream",
     "text": [
      "{'name': 'Bob', 'age': 25, 'job': 'Dev', 'city': 'New York'}\n"
     ]
    }
   ],
   "source": [
    "D = {'name': 'Bob',\n",
    "     'age': 25,\n",
    "     'job': 'Dev'}\n",
    "\n",
    "D['city'] = 'New York'\n",
    "print(D)\n",
    "# Prints {'name': 'Bob', 'age': 25, 'job': 'Dev', 'city': 'New York'}"
   ]
  },
  {
   "cell_type": "markdown",
   "metadata": {},
   "source": [
    "### Merge Two Dictionaries\n",
    "Use the built-in update() method to merge the keys and values of one dictionary into another. Note that this method blindly overwrites values of the same key if there’s a clash."
   ]
  },
  {
   "cell_type": "code",
   "execution_count": 17,
   "metadata": {},
   "outputs": [
    {
     "name": "stdout",
     "output_type": "stream",
     "text": [
      "{'name': 'Bob', 'age': 30, 'job': 'Dev', 'city': 'New York', 'email': 'bob@web.com'}\n"
     ]
    }
   ],
   "source": [
    "D1 = {'name': 'Bob',\n",
    "      'age': 25,\n",
    "      'job': 'Dev'}\n",
    "\n",
    "D2 = {'age': 30,\n",
    "      'city': 'New York',\n",
    "      'email': 'bob@web.com'}\n",
    "\n",
    "D1.update(D2)\n",
    "print(D1)\n",
    "# Prints {'name': 'Bob', 'age': 30, 'job': 'Dev',\n",
    "#         'city': 'New York', 'email': 'bob@web.com'}"
   ]
  },
  {
   "cell_type": "markdown",
   "metadata": {},
   "source": [
    "### Remove Dictionary Items\n",
    "There are several ways to remove items from a dictionary.\n",
    "\n",
    "### Remove an Item by Key\n",
    "If you know the key of the item you want, you can use pop() method. It removes the key and returns its value."
   ]
  },
  {
   "cell_type": "code",
   "execution_count": 18,
   "metadata": {},
   "outputs": [
    {
     "name": "stdout",
     "output_type": "stream",
     "text": [
      "{'name': 'Bob', 'job': 'Dev'}\n",
      "25\n"
     ]
    }
   ],
   "source": [
    "D = {'name': 'Bob',\n",
    "     'age': 25,\n",
    "     'job': 'Dev'}\n",
    "\n",
    "x = D.pop('age')\n",
    "print(D)\n",
    "# Prints {'name': 'Bob', 'job': 'Dev'}\n",
    "\n",
    "# get removed value\n",
    "print(x)\n",
    "# Prints 25"
   ]
  },
  {
   "cell_type": "markdown",
   "metadata": {},
   "source": [
    "If you don’t need the removed value, use the del statement."
   ]
  },
  {
   "cell_type": "code",
   "execution_count": 19,
   "metadata": {},
   "outputs": [
    {
     "name": "stdout",
     "output_type": "stream",
     "text": [
      "{'name': 'Bob', 'job': 'Dev'}\n"
     ]
    }
   ],
   "source": [
    "D = {'name': 'Bob',\n",
    "     'age': 25,\n",
    "     'job': 'Dev'}\n",
    "\n",
    "del D['age']\n",
    "print(D)\n",
    "# Prints {'name': 'Bob', 'job': 'Dev'}"
   ]
  },
  {
   "cell_type": "markdown",
   "metadata": {},
   "source": [
    "### Remove Last Inserted Item\n",
    "The popitem() method removes and returns the last inserted item.\n",
    "\n"
   ]
  },
  {
   "cell_type": "code",
   "execution_count": 21,
   "metadata": {},
   "outputs": [
    {
     "name": "stdout",
     "output_type": "stream",
     "text": [
      "{'name': 'Bob', 'age': 25}\n",
      "('job', 'Dev')\n"
     ]
    }
   ],
   "source": [
    "D = {'name': 'Bob',\n",
    "     'age': 25,\n",
    "     'job': 'Dev'}\n",
    "\n",
    "x = D.popitem()\n",
    "print(D)\n",
    "# Prints {'name': 'Bob', 'age': 25}\n",
    "\n",
    "# get removed pair\n",
    "print(x)\n",
    "# Prints ('job', 'Dev')"
   ]
  },
  {
   "cell_type": "markdown",
   "metadata": {},
   "source": [
    "### Remove all Items\n",
    "To delete all keys and values from a dictionary, use clear() method."
   ]
  },
  {
   "cell_type": "code",
   "execution_count": 22,
   "metadata": {},
   "outputs": [
    {
     "name": "stdout",
     "output_type": "stream",
     "text": [
      "{}\n"
     ]
    }
   ],
   "source": [
    "D = {'name': 'Bob',\n",
    "     'age': 25,\n",
    "     'job': 'Dev'}\n",
    "\n",
    "D.clear()\n",
    "print(D)\n",
    "# Prints {}"
   ]
  },
  {
   "cell_type": "markdown",
   "metadata": {},
   "source": [
    "### Get All Keys, Values and Key:Value Pairs\n",
    "There are three dictionary methods that return all of the dictionary’s keys, values and key-value pairs: keys(), values(), and items(). These methods are useful in loops that need to step through dictionary entries one by one.\n",
    "\n",
    "All the three methods return iterable object. If you want a true list from these methods, wrap them in a list() function."
   ]
  },
  {
   "cell_type": "code",
   "execution_count": 23,
   "metadata": {},
   "outputs": [
    {
     "name": "stdout",
     "output_type": "stream",
     "text": [
      "['name', 'age', 'job']\n",
      "['Bob', 25, 'Dev']\n",
      "[('name', 'Bob'), ('age', 25), ('job', 'Dev')]\n"
     ]
    }
   ],
   "source": [
    "D = {'name': 'Bob',\n",
    "     'age': 25,\n",
    "     'job': 'Dev'}\n",
    "\n",
    "# get all keys\n",
    "print(list(D.keys()))\n",
    "# Prints ['name', 'age', 'job']\n",
    "\n",
    "# get all values\n",
    "print(list(D.values()))\n",
    "# Prints ['Bob', 25, 'Dev']\n",
    "\n",
    "# get all pairs\n",
    "print(list(D.items()))\n",
    "# Prints [('name', 'Bob'), ('age', 25), ('job', 'Dev')]"
   ]
  },
  {
   "cell_type": "markdown",
   "metadata": {},
   "source": [
    "### Iterate Through a Dictionary\n",
    "If you use a dictionary in a for loop, it traverses the keys of the dictionary by default."
   ]
  },
  {
   "cell_type": "code",
   "execution_count": 24,
   "metadata": {},
   "outputs": [
    {
     "name": "stdout",
     "output_type": "stream",
     "text": [
      "name\n",
      "age\n",
      "job\n"
     ]
    }
   ],
   "source": [
    "D = {'name': 'Bob',\n",
    "     'age': 25,\n",
    "     'job': 'Dev'}\n",
    "\n",
    "for x in D:\n",
    "    print(x)\n",
    "# Prints name age job"
   ]
  },
  {
   "cell_type": "markdown",
   "metadata": {},
   "source": [
    "To iterate over the values of a dictionary, index from key to value inside the for loop."
   ]
  },
  {
   "cell_type": "code",
   "execution_count": 25,
   "metadata": {},
   "outputs": [
    {
     "name": "stdout",
     "output_type": "stream",
     "text": [
      "Bob\n",
      "25\n",
      "Dev\n"
     ]
    }
   ],
   "source": [
    "D = {'name': 'Bob',\n",
    "     'age': 25,\n",
    "     'job': 'Dev'}\n",
    "\n",
    "for x in D:\n",
    "    print(D[x])\n",
    "# Prints Bob 25 Dev"
   ]
  },
  {
   "cell_type": "markdown",
   "metadata": {},
   "source": [
    "### Check if a Key or Value Exists\n",
    "If you want to know whether a key exists in a dictionary, use in and not in operators with if statement."
   ]
  },
  {
   "cell_type": "code",
   "execution_count": 26,
   "metadata": {},
   "outputs": [
    {
     "name": "stdout",
     "output_type": "stream",
     "text": [
      "True\n",
      "False\n"
     ]
    }
   ],
   "source": [
    "D = {'name': 'Bob',\n",
    "     'age': 25,\n",
    "     'job': 'Dev'}\n",
    "\n",
    "print('name' in D)\n",
    "# Prints True\n",
    "print('salary' in D)\n",
    "# Prints False"
   ]
  },
  {
   "cell_type": "markdown",
   "metadata": {},
   "source": [
    "To check if a certain value exists in a dictionary, you can use method values(), which returns the values as a list, and then use the in operator.\n",
    "\n"
   ]
  },
  {
   "cell_type": "code",
   "execution_count": 27,
   "metadata": {},
   "outputs": [
    {
     "name": "stdout",
     "output_type": "stream",
     "text": [
      "True\n",
      "False\n"
     ]
    }
   ],
   "source": [
    "D = {'name': 'Bob',\n",
    "     'age': 25,\n",
    "     'job': 'Dev'}\n",
    "\n",
    "print('Bob' in D.values())\n",
    "# Prints True\n",
    "print('Sam' in D.values())\n",
    "# Prints False"
   ]
  },
  {
   "cell_type": "markdown",
   "metadata": {},
   "source": [
    "### Find Dictionary Length\n",
    "To find how many key:value pairs a dictionary has, use len() method.\n",
    "\n"
   ]
  },
  {
   "cell_type": "code",
   "execution_count": 28,
   "metadata": {},
   "outputs": [
    {
     "name": "stdout",
     "output_type": "stream",
     "text": [
      "3\n"
     ]
    }
   ],
   "source": [
    "D = {'name': 'Bob',\n",
    "     'age': 25,\n",
    "     'job': 'Dev'}\n",
    "\n",
    "print(len(D))\n",
    "# Prints 3"
   ]
  },
  {
   "cell_type": "markdown",
   "metadata": {},
   "source": [
    "### Python Dictionary Methods\n",
    "Python has a set of built-in methods that you can invoke on dictionary objects."
   ]
  },
  {
   "cell_type": "markdown",
   "metadata": {},
   "source": [
    "|Method\t|Description|\n",
    "|-------|----------|\n",
    "|clear()\t|Removes all items from the dictionary|\n",
    "|copy()\t|Returns a shallow copy of the dictionary|\n",
    "|fromkeys()\t|Creates a new dictionary with the specified keys and values|\n",
    "|get()\t|Returns the value of the specified key|\n",
    "|items()\t|Returns a list of key:value pair|\n",
    "|keys()\t|Returns a list of all keys from dictionary|\n",
    "|pop()\t|Removes and returns single dictionary item with specified key.|\n",
    "|popitem()\t|Removes and returns last inserted key:value pair from the dictionary.|\n",
    "|setdefault()\t|Returns the value of the specified key, if present. Else, inserts the key with a specified value.|\n",
    "|update()\t|Updates the dictionary with the specified key:value pairs|\n",
    "|values()\t|Returns a list of all values from dictionary|"
   ]
  },
  {
   "cell_type": "markdown",
   "metadata": {},
   "source": [
    "### Python Nested Dictionary"
   ]
  },
  {
   "cell_type": "markdown",
   "metadata": {},
   "source": [
    "A dictionary can contain another dictionary, which in turn can contain dictionaries themselves, and so on to arbitrary depth. This is known as nested dictionary.\n",
    "\n",
    "Nested dictionaries are one of many ways to represent structured information (similar to ‘records’ or ‘structs’ in other languages).\n",
    "\n"
   ]
  },
  {
   "cell_type": "markdown",
   "metadata": {},
   "source": [
    "### Create a Nested Dictionary\n",
    "A nested dictionary is created the same way a normal dictionary is created. The only difference is that each value is another dictionary.\n",
    "\n",
    "Let’s build a dictionary that stores employee record."
   ]
  },
  {
   "cell_type": "code",
   "execution_count": 30,
   "metadata": {},
   "outputs": [],
   "source": [
    "D = {'emp1': {'name': 'Bob', 'job': 'Mgr'},\n",
    "     'emp2': {'name': 'Kim', 'job': 'Dev'},\n",
    "     'emp3': {'name': 'Sam', 'job': 'Dev'}}"
   ]
  },
  {
   "cell_type": "markdown",
   "metadata": {},
   "source": [
    "### The dict() Constructor\n",
    "There are several ways to create a nested dictionary using a type constructor called dict().\n",
    "\n",
    "To create a nested dictionary, simply pass dictionary key:value pair as keyword arguments to dict() Constructor.\n",
    "\n"
   ]
  },
  {
   "cell_type": "code",
   "execution_count": 31,
   "metadata": {},
   "outputs": [
    {
     "name": "stdout",
     "output_type": "stream",
     "text": [
      "{'emp1': {'name': 'Bob', 'job': 'Mgr'}, 'emp2': {'name': 'Kim', 'job': 'Dev'}, 'emp3': {'name': 'Sam', 'job': 'Dev'}}\n"
     ]
    }
   ],
   "source": [
    "D = dict(emp1 = {'name': 'Bob', 'job': 'Mgr'},\n",
    "         emp2 = {'name': 'Kim', 'job': 'Dev'},\n",
    "         emp3 = {'name': 'Sam', 'job': 'Dev'})\n",
    "\n",
    "print(D)\n",
    "# Prints {'emp1': {'name': 'Bob', 'job': 'Mgr'},\n",
    "#         'emp2': {'name': 'Kim', 'job': 'Dev'},\n",
    "#         'emp3': {'name': 'Sam', 'job': 'Dev'}}"
   ]
  },
  {
   "cell_type": "markdown",
   "metadata": {},
   "source": [
    "You can use dict() function along with the zip() function, to combine separate lists of keys and values obtained dynamically at runtime."
   ]
  },
  {
   "cell_type": "code",
   "execution_count": 32,
   "metadata": {},
   "outputs": [
    {
     "name": "stdout",
     "output_type": "stream",
     "text": [
      "{'emp1': {'name': 'Bob', 'job': 'Mgr'}, 'emp2': {'name': 'Kim', 'job': 'Dev'}, 'emp3': {'name': 'Sam', 'job': 'Dev'}}\n"
     ]
    }
   ],
   "source": [
    "IDs = ['emp1','emp2','emp3']\n",
    "\n",
    "EmpInfo = [{'name': 'Bob', 'job': 'Mgr'},\n",
    "           {'name': 'Kim', 'job': 'Dev'},\n",
    "           {'name': 'Sam', 'job': 'Dev'}]\n",
    "\n",
    "D = dict(zip(IDs, EmpInfo))\n",
    "\n",
    "print(D)\n",
    "# Prints {'emp1': {'name': 'Bob', 'job': 'Mgr'},\n",
    "#         'emp2': {'name': 'Kim', 'job': 'Dev'},\n",
    "#         'emp3': {'name': 'Sam', 'job': 'Dev'}}"
   ]
  },
  {
   "cell_type": "markdown",
   "metadata": {},
   "source": [
    "You’ll often want to create a dictionary with default values for each key. The fromkeys() method offers a way to do this."
   ]
  },
  {
   "cell_type": "code",
   "execution_count": 33,
   "metadata": {},
   "outputs": [
    {
     "name": "stdout",
     "output_type": "stream",
     "text": [
      "{'emp1': {'name': '', 'job': ''}, 'emp2': {'name': '', 'job': ''}, 'emp3': {'name': '', 'job': ''}}\n"
     ]
    }
   ],
   "source": [
    "IDs = ['emp1','emp2','emp3']\n",
    "Defaults = {'name': '', 'job': ''}\n",
    "\n",
    "D = dict.fromkeys(IDs, Defaults)\n",
    "\n",
    "print(D)\n",
    "# Prints {'emp1': {'name': '', 'job': ''},\n",
    "#         'emp2': {'name': '', 'job': ''},\n",
    "#         'emp3': {'name': '', 'job': ''}}"
   ]
  },
  {
   "cell_type": "markdown",
   "metadata": {},
   "source": [
    "### Access Nested Dictionary Items\n",
    "You can access individual items in a nested dictionary by specifying key in multiple square brackets.\n",
    "\n"
   ]
  },
  {
   "cell_type": "code",
   "execution_count": 34,
   "metadata": {},
   "outputs": [
    {
     "name": "stdout",
     "output_type": "stream",
     "text": [
      "Bob\n",
      "Dev\n"
     ]
    }
   ],
   "source": [
    "D = {'emp1': {'name': 'Bob', 'job': 'Mgr'},\n",
    "     'emp2': {'name': 'Kim', 'job': 'Dev'},\n",
    "     'emp3': {'name': 'Sam', 'job': 'Dev'}}\n",
    "\n",
    "print(D['emp1']['name'])\n",
    "# Prints Bob\n",
    "\n",
    "print(D['emp2']['job'])\n",
    "# Prints Dev"
   ]
  },
  {
   "cell_type": "markdown",
   "metadata": {},
   "source": [
    "If you refer to a key that is not in the nested dictionary, an exception is raised."
   ]
  },
  {
   "cell_type": "code",
   "execution_count": 35,
   "metadata": {},
   "outputs": [
    {
     "ename": "KeyError",
     "evalue": "'salary'",
     "output_type": "error",
     "traceback": [
      "\u001b[0;31m---------------------------------------------------------------------------\u001b[0m",
      "\u001b[0;31mKeyError\u001b[0m                                  Traceback (most recent call last)",
      "\u001b[0;32m<ipython-input-35-b74b49fcdd3b>\u001b[0m in \u001b[0;36m<module>\u001b[0;34m\u001b[0m\n\u001b[0;32m----> 1\u001b[0;31m \u001b[0mprint\u001b[0m\u001b[0;34m(\u001b[0m\u001b[0mD\u001b[0m\u001b[0;34m[\u001b[0m\u001b[0;34m'emp1'\u001b[0m\u001b[0;34m]\u001b[0m\u001b[0;34m[\u001b[0m\u001b[0;34m'salary'\u001b[0m\u001b[0;34m]\u001b[0m\u001b[0;34m)\u001b[0m\u001b[0;34m\u001b[0m\u001b[0;34m\u001b[0m\u001b[0m\n\u001b[0m\u001b[1;32m      2\u001b[0m \u001b[0;31m# Triggers KeyError: 'salary'\u001b[0m\u001b[0;34m\u001b[0m\u001b[0;34m\u001b[0m\u001b[0;34m\u001b[0m\u001b[0m\n",
      "\u001b[0;31mKeyError\u001b[0m: 'salary'"
     ]
    }
   ],
   "source": [
    "print(D['emp1']['salary'])\n",
    "# Triggers KeyError: 'salary'"
   ]
  },
  {
   "cell_type": "markdown",
   "metadata": {},
   "source": [
    "To avoid such exception, you can use the special dictionary get() method. This method returns the value for key if key is in the dictionary, else None, so that this method never raises a KeyError."
   ]
  },
  {
   "cell_type": "code",
   "execution_count": 36,
   "metadata": {},
   "outputs": [
    {
     "name": "stdout",
     "output_type": "stream",
     "text": [
      "Bob\n",
      "None\n"
     ]
    }
   ],
   "source": [
    "# key present\n",
    "print(D['emp1'].get('name'))\n",
    "# Prints Bob\n",
    "\n",
    "# key absent\n",
    "print(D['emp1'].get('salary'))\n",
    "# PrintsNone"
   ]
  },
  {
   "cell_type": "markdown",
   "metadata": {},
   "source": [
    "### Change Nested Dictionary Items\n",
    "To change the value of a specific item in a nested dictionary, refer to its key.\n",
    "\n"
   ]
  },
  {
   "cell_type": "code",
   "execution_count": 37,
   "metadata": {},
   "outputs": [
    {
     "name": "stdout",
     "output_type": "stream",
     "text": [
      "{'name': 'Max', 'job': 'Janitor'}\n"
     ]
    }
   ],
   "source": [
    "D = {'emp1': {'name': 'Bob', 'job': 'Mgr'},\n",
    "     'emp2': {'name': 'Kim', 'job': 'Dev'},\n",
    "     'emp3': {'name': 'Sam', 'job': 'Dev'}}\n",
    "\n",
    "D['emp3']['name'] = 'Max'\n",
    "D['emp3']['job'] = 'Janitor'\n",
    "\n",
    "print(D['emp3'])\n",
    "# Prints {'name': 'Max', 'job': 'Janitor'}"
   ]
  },
  {
   "cell_type": "markdown",
   "metadata": {},
   "source": [
    "### Add or Update Nested Dictionary Items"
   ]
  },
  {
   "cell_type": "markdown",
   "metadata": {},
   "source": [
    "Adding or updating nested dictionary items is easy. Just refer to the item by its key and assign a value. If the key is already present in the dictionary, its value is replaced by the new one.\n",
    "\n"
   ]
  },
  {
   "cell_type": "code",
   "execution_count": 38,
   "metadata": {},
   "outputs": [
    {
     "name": "stdout",
     "output_type": "stream",
     "text": [
      "{'emp1': {'name': 'Bob', 'job': 'Mgr'}, 'emp2': {'name': 'Kim', 'job': 'Dev'}, 'emp3': {'name': 'Max', 'job': 'Janitor'}}\n"
     ]
    }
   ],
   "source": [
    "D = {'emp1': {'name': 'Bob', 'job': 'Mgr'},\n",
    "     'emp2': {'name': 'Kim', 'job': 'Dev'},\n",
    "     'emp3': {'name': 'Sam', 'job': 'Dev'}}\n",
    "\n",
    "D['emp3'] = {'name': 'Max', 'job': 'Janitor'}\n",
    "\n",
    "print(D)\n",
    "# Prints {'emp1': {'name': 'Bob', 'job': 'Mgr'},\n",
    "#         'emp2': {'name': 'Kim', 'job': 'Dev'},\n",
    "#         'emp3': {'name': 'Max', 'job': 'Janitor'}}"
   ]
  },
  {
   "cell_type": "markdown",
   "metadata": {},
   "source": [
    "If the key is new, it is added to the dictionary with its value.\n",
    "\n"
   ]
  },
  {
   "cell_type": "code",
   "execution_count": 39,
   "metadata": {},
   "outputs": [
    {
     "name": "stdout",
     "output_type": "stream",
     "text": [
      "{'emp1': {'name': 'Bob', 'job': 'Mgr'}, 'emp2': {'name': 'Kim', 'job': 'Dev'}, 'emp3': {'name': 'Sam', 'job': 'Dev'}, 'emp4': {'name': 'Max', 'job': 'Janitor'}}\n"
     ]
    }
   ],
   "source": [
    "D = {'emp1': {'name': 'Bob', 'job': 'Mgr'},\n",
    "     'emp2': {'name': 'Kim', 'job': 'Dev'},\n",
    "     'emp3': {'name': 'Sam', 'job': 'Dev'}}\n",
    "\n",
    "D['emp4'] = {'name': 'Max', 'job': 'Janitor'}\n",
    "\n",
    "print(D)\n",
    "# Prints {'emp1': {'name': 'Bob', 'job': 'Mgr'},\n",
    "#         'emp2': {'name': 'Kim', 'job': 'Dev'},\n",
    "#         'emp3': {'name': 'Sam', 'job': 'Dev'},\n",
    "#         'emp4': {'name': 'Max', 'job': 'Janitor'}}"
   ]
  },
  {
   "cell_type": "markdown",
   "metadata": {},
   "source": [
    "### Merge Two Nested Dictionaries"
   ]
  },
  {
   "cell_type": "markdown",
   "metadata": {},
   "source": [
    "Use the built-in update() method to merge the keys and values of one nested dictionary into another. Note that this method blindly overwrites values of the same key if there’s a clash."
   ]
  },
  {
   "cell_type": "code",
   "execution_count": 40,
   "metadata": {},
   "outputs": [
    {
     "name": "stdout",
     "output_type": "stream",
     "text": [
      "{'emp1': {'name': 'Bob', 'job': 'Mgr'}, 'emp2': {'name': 'Sam', 'job': 'Dev'}, 'emp3': {'name': 'Max', 'job': 'Janitor'}}\n"
     ]
    }
   ],
   "source": [
    "D1 = {'emp1': {'name': 'Bob', 'job': 'Mgr'},\n",
    "      'emp2': {'name': 'Kim', 'job': 'Dev'}}\n",
    "\n",
    "D2 = {'emp2': {'name': 'Sam', 'job': 'Dev'},\n",
    "      'emp3': {'name': 'Max', 'job': 'Janitor'}}\n",
    "\n",
    "D1.update(D2)\n",
    "\n",
    "print(D1)\n",
    "# Prints {'emp1': {'name': 'Bob', 'job': 'Mgr'},\n",
    "#         'emp2': {'name': 'Sam', 'job': 'Dev'},\n",
    "#         'emp3': {'name': 'Max', 'job': 'Janitor'}}"
   ]
  },
  {
   "cell_type": "markdown",
   "metadata": {},
   "source": [
    "Here the ’emp2′ record is updated while ’emp3′ is added to the dictionary."
   ]
  },
  {
   "cell_type": "markdown",
   "metadata": {},
   "source": [
    "### Remove Nested Dictionary Items\n",
    "There are several ways to remove items from a nested dictionary.\n",
    "\n"
   ]
  },
  {
   "cell_type": "markdown",
   "metadata": {},
   "source": [
    "### Remove an Item by Key\n",
    "If you know the key of the item you want, you can use pop() method. It removes the key and returns its value.\n",
    "\n"
   ]
  },
  {
   "cell_type": "code",
   "execution_count": 41,
   "metadata": {},
   "outputs": [
    {
     "name": "stdout",
     "output_type": "stream",
     "text": [
      "{'emp1': {'name': 'Bob', 'job': 'Mgr'}, 'emp2': {'name': 'Kim', 'job': 'Dev'}}\n",
      "{'name': 'Sam', 'job': 'Dev'}\n"
     ]
    }
   ],
   "source": [
    "D = {'emp1': {'name': 'Bob', 'job': 'Mgr'},\n",
    "     'emp2': {'name': 'Kim', 'job': 'Dev'},\n",
    "     'emp3': {'name': 'Sam', 'job': 'Dev'}}\n",
    "\n",
    "x = D.pop('emp3')\n",
    "\n",
    "print(D)\n",
    "# Prints {'emp1': {'name': 'Bob', 'job': 'Mgr'},\n",
    "#         'emp2': {'name': 'Kim', 'job': 'Dev'}}\n",
    "\n",
    "# get removed value\n",
    "print(x)\n",
    "# Prints {'name': 'Sam', 'job': 'Dev'}"
   ]
  },
  {
   "cell_type": "markdown",
   "metadata": {},
   "source": [
    "If you don’t need the removed value, use the del statement."
   ]
  },
  {
   "cell_type": "code",
   "execution_count": 42,
   "metadata": {},
   "outputs": [
    {
     "name": "stdout",
     "output_type": "stream",
     "text": [
      "{'emp1': {'name': 'Bob', 'job': 'Mgr'}, 'emp2': {'name': 'Kim', 'job': 'Dev'}}\n"
     ]
    }
   ],
   "source": [
    "D = {'emp1': {'name': 'Bob', 'job': 'Mgr'},\n",
    "     'emp2': {'name': 'Kim', 'job': 'Dev'},\n",
    "     'emp3': {'name': 'Sam', 'job': 'Dev'}}\n",
    "\n",
    "del D['emp3']\n",
    "\n",
    "print(D)\n",
    "# Prints {'emp1': {'name': 'Bob', 'job': 'Mgr'},\n",
    "#         'emp2': {'name': 'Kim', 'job': 'Dev'}}"
   ]
  },
  {
   "cell_type": "markdown",
   "metadata": {},
   "source": [
    "### Remove Last Inserted Item\n",
    "The popitem() method removes and returns the last inserted item as a tuple.\n",
    "\n"
   ]
  },
  {
   "cell_type": "code",
   "execution_count": 43,
   "metadata": {},
   "outputs": [
    {
     "name": "stdout",
     "output_type": "stream",
     "text": [
      "{'emp1': {'name': 'Bob', 'job': 'Mgr'}, 'emp2': {'name': 'Kim', 'job': 'Dev'}}\n",
      "('emp3', {'name': 'Sam', 'job': 'Dev'})\n"
     ]
    }
   ],
   "source": [
    "D = {'emp1': {'name': 'Bob', 'job': 'Mgr'},\n",
    "     'emp2': {'name': 'Kim', 'job': 'Dev'},\n",
    "     'emp3': {'name': 'Sam', 'job': 'Dev'}}\n",
    "\n",
    "x = D.popitem()\n",
    "\n",
    "print(D)\n",
    "# Prints {'emp1': {'name': 'Bob', 'job': 'Mgr'},\n",
    "#         'emp2': {'name': 'Kim', 'job': 'Dev'}}\n",
    "\n",
    "# get removed pair\n",
    "print(x)\n",
    "# Prints ('emp3', {'name': 'Sam', 'job': 'Dev'})"
   ]
  },
  {
   "cell_type": "markdown",
   "metadata": {},
   "source": [
    "### Iterate Through a Nested Dictionary\n",
    "You can iterate over all values in a nested dictionary using nested for loop."
   ]
  },
  {
   "cell_type": "code",
   "execution_count": 44,
   "metadata": {},
   "outputs": [
    {
     "name": "stdout",
     "output_type": "stream",
     "text": [
      "\n",
      "Employee ID: emp1\n",
      "name: Bob\n",
      "job: Mgr\n",
      "\n",
      "Employee ID: emp2\n",
      "name: Kim\n",
      "job: Dev\n",
      "\n",
      "Employee ID: emp3\n",
      "name: Sam\n",
      "job: Dev\n"
     ]
    }
   ],
   "source": [
    "D = {'emp1': {'name': 'Bob', 'job': 'Mgr'},\n",
    "     'emp2': {'name': 'Kim', 'job': 'Dev'},\n",
    "     'emp3': {'name': 'Sam', 'job': 'Dev'}}\n",
    "\n",
    "for id, info in D.items():\n",
    "    print(\"\\nEmployee ID:\", id)\n",
    "    for key in info:\n",
    "        print(key + ':', info[key])\n",
    "\n",
    "# Prints Employee ID: emp1\n",
    "#        name: Bob\n",
    "#        job: Mgr\n",
    "\n",
    "#        Employee ID: emp2\n",
    "#        name: Kim\n",
    "#        job: Dev\n",
    "\n",
    "#        Employee ID: emp3\n",
    "#        name: Sam\n",
    "#        job: Dev"
   ]
  },
  {
   "cell_type": "markdown",
   "metadata": {},
   "source": [
    "# Python Dictionary Comprehension"
   ]
  },
  {
   "cell_type": "markdown",
   "metadata": {},
   "source": [
    "A comprehension is a compact way of creating a Python data structure from iterators.\n",
    "\n",
    "With comprehensions, you can combine loops and conditional tests with a less verbose syntax.\n",
    "\n",
    "Comprehension is considered more Pythonic and often useful in a variety of scenarios."
   ]
  },
  {
   "cell_type": "markdown",
   "metadata": {},
   "source": [
    "## What is Dictionary Comprehension?"
   ]
  },
  {
   "cell_type": "markdown",
   "metadata": {},
   "source": [
    "The idea of comprehension is not just unique to lists in Python. Dictionaries also have comprehensions.\n",
    "\n"
   ]
  },
  {
   "cell_type": "markdown",
   "metadata": {},
   "source": [
    "#### Dictionary comprehension is a way to build a new dictionary by applying an expression to each item in an iterable.\n",
    "\n"
   ]
  },
  {
   "cell_type": "markdown",
   "metadata": {},
   "source": [
    "It saves you having to write several lines of code, and keeps the readability of your code neat."
   ]
  },
  {
   "cell_type": "markdown",
   "metadata": {},
   "source": [
    "#### Basic Example\n",
    "Suppose you want to create a dictionary of numbers & squares. You could build such dictionary by inserting one item at a time into an empty dictionary:\n",
    "\n"
   ]
  },
  {
   "cell_type": "code",
   "execution_count": 45,
   "metadata": {},
   "outputs": [
    {
     "name": "stdout",
     "output_type": "stream",
     "text": [
      "{0: 0, 1: 1, 2: 4, 3: 9, 4: 16}\n"
     ]
    }
   ],
   "source": [
    "D = {}\n",
    "D[0] = 0\n",
    "D[1] = 1\n",
    "D[2] = 4\n",
    "D[3] = 9\n",
    "D[4] = 16\n",
    "print(D)\n",
    "# Prints {0: 0, 1: 1, 2: 4, 3: 9, 4: 16}"
   ]
  },
  {
   "cell_type": "markdown",
   "metadata": {},
   "source": [
    "Or, you could just use an iterator and the range() function:"
   ]
  },
  {
   "cell_type": "code",
   "execution_count": 46,
   "metadata": {},
   "outputs": [
    {
     "name": "stdout",
     "output_type": "stream",
     "text": [
      "{0: 0, 1: 1, 2: 4, 3: 9, 4: 16}\n"
     ]
    }
   ],
   "source": [
    "D = {}\n",
    "for x in range(5):\n",
    "    D[x] = x**2\n",
    "\n",
    "print(D)\n",
    "# Prints {0: 0, 1: 1, 2: 4, 3: 9, 4: 16}"
   ]
  },
  {
   "cell_type": "markdown",
   "metadata": {},
   "source": [
    "Here both approaches produce the same result. However, a more Pythonic way to build a dictionary is by using a dictionary comprehension.\n",
    "\n",
    "The general syntax for a dictionary comprehension is:"
   ]
  },
  {
   "cell_type": "markdown",
   "metadata": {},
   "source": [
    "![image](https://www.learnbyexample.org/wp-content/uploads/python/Python-Dictionary-Comprehension-Syntax.png)"
   ]
  },
  {
   "cell_type": "code",
   "execution_count": 48,
   "metadata": {},
   "outputs": [
    {
     "name": "stdout",
     "output_type": "stream",
     "text": [
      "{0: 0, 1: 1, 2: 4, 3: 9, 4: 16}\n"
     ]
    }
   ],
   "source": [
    "D = {x: x**2 for x in range(5)}\n",
    "print(D)\n",
    "# Prints {0: 0, 1: 1, 2: 4, 3: 9, 4: 16}"
   ]
  },
  {
   "cell_type": "markdown",
   "metadata": {},
   "source": [
    "In the example above, dictionary comprehension has two parts.\n",
    "\n"
   ]
  },
  {
   "cell_type": "markdown",
   "metadata": {},
   "source": [
    "![image](https://www.learnbyexample.org/wp-content/uploads/python/Dictionary-comprehension-example.png)"
   ]
  },
  {
   "cell_type": "markdown",
   "metadata": {},
   "source": [
    "- The first part collects the key/value results of expressions on each iteration and uses them to fill out a new dictionary.\n",
    "\n",
    "- The second part is exactly the same as the for loop, where you tell Python which iterable to work on. Every time the loop goes over the iterable, Python will assign each individual element to a variable x."
   ]
  },
  {
   "cell_type": "markdown",
   "metadata": {},
   "source": [
    "### More Examples\n",
    "Here are a few examples that might help shed light on the dictionary comprehension.\n",
    "\n"
   ]
  },
  {
   "cell_type": "code",
   "execution_count": 50,
   "metadata": {},
   "outputs": [
    {
     "name": "stdout",
     "output_type": "stream",
     "text": [
      "{'R': 'RRR', 'E': 'EEE', 'D': 'DDD'}\n"
     ]
    }
   ],
   "source": [
    "D = {c: c * 3 for c in 'RED'}\n",
    "print(D)\n",
    "# Prints {'R': 'RRR', 'E': 'EEE', 'D': 'DDD'}"
   ]
  },
  {
   "cell_type": "code",
   "execution_count": 51,
   "metadata": {},
   "outputs": [
    {
     "name": "stdout",
     "output_type": "stream",
     "text": [
      "{'red': 'RED', 'green': 'GREEN', 'blue': 'BLUE'}\n"
     ]
    }
   ],
   "source": [
    "L = ['ReD', 'GrEeN', 'BlUe']\n",
    "D = {c.lower(): c.upper() for c in L}\n",
    "print(D)\n",
    "# Prints {'blue': 'BLUE', 'green': 'GREEN', 'red': 'RED'}"
   ]
  },
  {
   "cell_type": "markdown",
   "metadata": {},
   "source": [
    "### Extracting a Subset of a Dictionary\n"
   ]
  },
  {
   "cell_type": "markdown",
   "metadata": {},
   "source": [
    "Sometimes you want to extract particular keys from a dictionary. This is easily accomplished using a dictionary comprehension."
   ]
  },
  {
   "cell_type": "code",
   "execution_count": 52,
   "metadata": {},
   "outputs": [
    {
     "name": "stdout",
     "output_type": "stream",
     "text": [
      "{0: 'A', 2: 'C', 5: 'F'}\n"
     ]
    }
   ],
   "source": [
    "D = {0: 'A', 1: 'B', 2: 'C', 3: 'D', 4: 'E', 5: 'F'}\n",
    "selectedKeys = [0, 2, 5]\n",
    "\n",
    "X = {k: D[k] for k in selectedKeys}\n",
    "\n",
    "print(X)\n",
    "# Prints {0: 'A', 2: 'C', 5: 'F'}"
   ]
  },
  {
   "cell_type": "markdown",
   "metadata": {},
   "source": [
    "### Filter Dictionary Contents"
   ]
  },
  {
   "cell_type": "markdown",
   "metadata": {},
   "source": [
    "Suppose you want to make a new dictionary with selected keys removed. Here’s a simple code that deletes specified keys from a dictionary."
   ]
  },
  {
   "cell_type": "code",
   "execution_count": 53,
   "metadata": {},
   "outputs": [
    {
     "name": "stdout",
     "output_type": "stream",
     "text": [
      "{1: 'B', 3: 'D', 4: 'E'}\n"
     ]
    }
   ],
   "source": [
    "D = {0: 'A', 1: 'B', 2: 'C', 3: 'D', 4: 'E', 5: 'F'}\n",
    "removeKeys = [0, 2, 5]\n",
    "\n",
    "X = {k: D[k] for k in D.keys() - removeKeys}\n",
    "\n",
    "print(X)\n",
    "# Prints {1: 'B', 3: 'D', 4: 'E'}"
   ]
  },
  {
   "cell_type": "markdown",
   "metadata": {},
   "source": [
    "### Invert Mapping / Reverse lookup"
   ]
  },
  {
   "cell_type": "markdown",
   "metadata": {},
   "source": [
    "Given a dictionary d and a key k, it is easy to find the corresponding value v = d[k]. This operation is called a lookup.\n",
    "\n",
    "But what if you want to retrieve a key k using a value v in a dictionary? You have to do reverse lookup. This is where dictionary comprehension comes handy."
   ]
  },
  {
   "cell_type": "code",
   "execution_count": 54,
   "metadata": {},
   "outputs": [
    {
     "name": "stdout",
     "output_type": "stream",
     "text": [
      "{'red': 0, 'green': 1, 'blue': 2}\n"
     ]
    }
   ],
   "source": [
    "D = {0: 'red', 1: 'green', 2: 'blue'}\n",
    "R = {v: k for k,v in D.items()}\n",
    "print(R)\n",
    "# Prints {'red': 0, 'green': 1, 'blue': 2}"
   ]
  },
  {
   "cell_type": "markdown",
   "metadata": {},
   "source": [
    "### Dictionary Comprehension with Enumerate\n"
   ]
  },
  {
   "cell_type": "markdown",
   "metadata": {},
   "source": [
    "Sometimes you want to create a dictionary from the list with list index number as key and list element as value. To achieve this wrap the list in enumerate() function and pass it as an iterable to the dict comprehension."
   ]
  },
  {
   "cell_type": "code",
   "execution_count": 55,
   "metadata": {},
   "outputs": [
    {
     "name": "stdout",
     "output_type": "stream",
     "text": [
      "{0: 'red', 1: 'green', 2: 'blue'}\n"
     ]
    }
   ],
   "source": [
    "L = ['red', 'green', 'blue']\n",
    "D = {k:v for k,v in enumerate(L)}\n",
    "print(D)\n",
    "# Prints {0: 'red', 1: 'green', 2: 'blue'}"
   ]
  },
  {
   "cell_type": "markdown",
   "metadata": {},
   "source": [
    "Such dictionaries with element index are often useful in a variety of scenarios such as reading a file by lines."
   ]
  },
  {
   "cell_type": "markdown",
   "metadata": {},
   "source": [
    "### Initialize Dictionary with Comprehension"
   ]
  },
  {
   "cell_type": "markdown",
   "metadata": {},
   "source": [
    "Dictionary comprehensions are also useful for initializing dictionaries from keys lists, in much the same way as the fromkeys() method. Following example Initializes a dictionary with default value ‘0’ for each key.\n",
    "\n"
   ]
  },
  {
   "cell_type": "code",
   "execution_count": 56,
   "metadata": {},
   "outputs": [
    {
     "name": "stdout",
     "output_type": "stream",
     "text": [
      "{'red': 0, 'green': 0, 'blue': 0}\n",
      "{'red': 0, 'green': 0, 'blue': 0}\n"
     ]
    }
   ],
   "source": [
    "keys = ['red', 'green', 'blue']\n",
    "\n",
    "# using dict comprehension\n",
    "D = {k: 0 for k in keys}\n",
    "print(D)\n",
    "# Prints {'red': 0, 'green': 0, 'blue': 0}\n",
    "\n",
    "# equivalent to using fromkeys() method\n",
    "D = dict.fromkeys(keys, 0)\n",
    "print(D)\n",
    "# Prints {'red': 0, 'green': 0, 'blue': 0}"
   ]
  },
  {
   "cell_type": "markdown",
   "metadata": {},
   "source": [
    "A standard way to dynamically initialize a dictionary is to combine its keys and values with zip, and pass the result to the dict() function. However, you can achieve the same result with a dictionary comprehension.\n",
    "\n"
   ]
  },
  {
   "cell_type": "code",
   "execution_count": 57,
   "metadata": {},
   "outputs": [
    {
     "name": "stdout",
     "output_type": "stream",
     "text": [
      "{'name': 'Bob', 'age': 25, 'job': 'Dev'}\n",
      "{'name': 'Bob', 'age': 25, 'job': 'Dev'}\n"
     ]
    }
   ],
   "source": [
    "keys = ['name', 'age', 'job']\n",
    "values = ['Bob', 25, 'Dev']\n",
    "\n",
    "# using dict comprehension\n",
    "D = {k: v for (k, v) in zip(keys, values)}\n",
    "print(D)\n",
    "# Prints {'name': 'Bob', 'age': 25, 'job': 'Dev'}\n",
    "\n",
    "# equivalent to using dict() on zipped keys/values\n",
    "D = dict(zip(keys, values))\n",
    "print(D)\n",
    "# Prints {'name': 'Bob', 'age': 25, 'job': 'Dev'}"
   ]
  },
  {
   "cell_type": "markdown",
   "metadata": {},
   "source": [
    "### Dictionary Comprehension with if Clause\n"
   ]
  },
  {
   "cell_type": "markdown",
   "metadata": {},
   "source": [
    "A dictionary comprehension may have an optional associated if clause to filter items out of the result.\n",
    "\n",
    "Iterable’s items are skipped for which the if clause is not true."
   ]
  },
  {
   "cell_type": "markdown",
   "metadata": {},
   "source": [
    "![image](https://www.learnbyexample.org/wp-content/uploads/python/Python-Dictionary-Comprehension-If-Clause-Syntax.png)"
   ]
  },
  {
   "cell_type": "markdown",
   "metadata": {},
   "source": [
    "The following example collects squares of even items (i.e. items having no remainder for division by 2) in a range."
   ]
  },
  {
   "cell_type": "code",
   "execution_count": 58,
   "metadata": {},
   "outputs": [
    {
     "name": "stdout",
     "output_type": "stream",
     "text": [
      "{0: 0, 2: 4, 4: 16}\n"
     ]
    }
   ],
   "source": [
    "D = {x: x**2 for x in range(6) if x % 2 == 0}\n",
    "\n",
    "print(D)\n",
    "# Prints {0: 0, 2: 4, 4: 16}"
   ]
  },
  {
   "cell_type": "markdown",
   "metadata": {},
   "source": [
    "This dictionary comprehension is the same as a for loop that contains an if statement:"
   ]
  },
  {
   "cell_type": "code",
   "execution_count": 59,
   "metadata": {},
   "outputs": [
    {
     "name": "stdout",
     "output_type": "stream",
     "text": [
      "{0: 0, 2: 4, 4: 16}\n"
     ]
    }
   ],
   "source": [
    "D = {}\n",
    "for x in range(5):\n",
    "    if x % 2 == 0:\n",
    "        D[x] = x**2\n",
    "\n",
    "print(D)\n",
    "# Prints {0: 0, 2: 4, 4: 16}"
   ]
  },
  {
   "cell_type": "markdown",
   "metadata": {},
   "source": [
    "### Nested Dictionary Comprehension\n",
    "The initial value in a dictionary comprehension can be any expression, including another dictionary comprehension."
   ]
  },
  {
   "cell_type": "markdown",
   "metadata": {},
   "source": [
    "![image](https://www.learnbyexample.org/wp-content/uploads/python/Python-Nested-Dictionary-Comprehension-Syntax.png)"
   ]
  },
  {
   "cell_type": "code",
   "execution_count": 60,
   "metadata": {},
   "outputs": [
    {
     "name": "stdout",
     "output_type": "stream",
     "text": [
      "{(0, 0): 0, (0, 1): 1, (1, 0): 1, (1, 1): 2}\n",
      "{(0, 0): 0, (0, 1): 1, (1, 0): 1, (1, 1): 2}\n"
     ]
    }
   ],
   "source": [
    "D = {(k,v): k+v for k in range(2) for v in range(2)}\n",
    "print(D)\n",
    "# Prints {(0, 1): 1, (1, 0): 1, (0, 0): 0, (1, 1): 2}\n",
    "\n",
    "# is equivalent to\n",
    "D = {}\n",
    "for k in range(2):\n",
    "    for v in range(2):\n",
    "        D[(k,v)] = k+v\n",
    "print(D)\n",
    "# Prints {(0, 1): 1, (1, 0): 1, (0, 0): 0, (1, 1): 2}"
   ]
  },
  {
   "cell_type": "code",
   "execution_count": null,
   "metadata": {},
   "outputs": [],
   "source": []
  }
 ],
 "metadata": {
  "kernelspec": {
   "display_name": "Python 3",
   "language": "python",
   "name": "python3"
  },
  "language_info": {
   "codemirror_mode": {
    "name": "ipython",
    "version": 3
   },
   "file_extension": ".py",
   "mimetype": "text/x-python",
   "name": "python",
   "nbconvert_exporter": "python",
   "pygments_lexer": "ipython3",
   "version": "3.8.3"
  }
 },
 "nbformat": 4,
 "nbformat_minor": 4
}
