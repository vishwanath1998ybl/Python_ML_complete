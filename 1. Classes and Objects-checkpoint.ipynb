{
 "cells": [
  {
   "cell_type": "markdown",
   "metadata": {},
   "source": [
    "# Python Classes and Objects"
   ]
  },
  {
   "cell_type": "markdown",
   "metadata": {},
   "source": [
    "Classes and objects are the two main aspects of object-oriented programming.\n",
    "\n",
    "A class is the blueprint from which individual objects are created. In the real world, for example, there may be thousands of cars in existence, all of the same make and model."
   ]
  },
  {
   "cell_type": "markdown",
   "metadata": {},
   "source": [
    "![image](https://www.learnbyexample.org/wp-content/uploads/python/Class-Object-Illustration.png)"
   ]
  },
  {
   "cell_type": "markdown",
   "metadata": {},
   "source": [
    "Each car was built from the same set of blueprints and therefore contains the same components. In object-oriented terms, we say that your car is an instance (object) of the class Car."
   ]
  },
  {
   "cell_type": "markdown",
   "metadata": {},
   "source": [
    "### Create a Class\n",
    "To create your own custom object in Python, you first need to define a class, using the keyword class.\n",
    "\n",
    "Suppose you want to create objects to represent information about cars. Each object will represent a single car. You’ll first need to define a class called Car.\n",
    "\n",
    "Here’s the simplest possible class (an empty one):"
   ]
  },
  {
   "cell_type": "code",
   "execution_count": 1,
   "metadata": {},
   "outputs": [],
   "source": [
    "class Car:\n",
    "    pass"
   ]
  },
  {
   "cell_type": "markdown",
   "metadata": {},
   "source": [
    "Here the pass statement is used to indicate that this class is empty."
   ]
  },
  {
   "cell_type": "markdown",
   "metadata": {},
   "source": [
    "### The __init__() Method\n",
    "__init__() is the special method that initializes an individual object. This method runs automatically each time an object of a class is created.\n",
    "\n",
    "The __init__() method is generally used to perform operations that are necessary before the object is created."
   ]
  },
  {
   "cell_type": "code",
   "execution_count": 2,
   "metadata": {},
   "outputs": [],
   "source": [
    "class Car:\n",
    "    \n",
    "    # initializer\n",
    "    def __init__(self):\n",
    "        pass"
   ]
  },
  {
   "cell_type": "markdown",
   "metadata": {},
   "source": [
    "When you define __init__() in a class definition, its first parameter should be self.\n",
    "\n"
   ]
  },
  {
   "cell_type": "markdown",
   "metadata": {},
   "source": [
    "### The self Parameter\n",
    "The self parameter refers to the individual object itself. It is used to fetch or set attributes of the particular instance.\n",
    "\n",
    "This parameter doesn’t have to be called self, you can call it whatever you want, but it is standard practice, and you should probably stick with it.\n",
    "\n"
   ]
  },
  {
   "cell_type": "markdown",
   "metadata": {},
   "source": [
    "### Attributes\n",
    "Every class you write in Python has two basic features: attributes and methods.\n",
    "\n",
    "Attributes are the individual things that differentiate one object from another. They determine the appearance, state, or other qualities of that object."
   ]
  },
  {
   "cell_type": "markdown",
   "metadata": {},
   "source": [
    "In our case, the ‘Car’ class might have the following attributes:\n",
    "\n",
    "- Style: Sedan, SUV, Coupe\n",
    "- Color: Silver, Black, White\n",
    "- Wheels: Four\n",
    "- Attributes are defined in classes by variables, and each object can have its own values for those variables.\n",
    "\n",
    "There are two types of attributes: Instance attributes and Class attributes.\n",
    "\n"
   ]
  },
  {
   "cell_type": "markdown",
   "metadata": {},
   "source": [
    "### Instance Attribute\n",
    "The instance attribute is a variable that is unique to each object (instance). Every object of that class has its own copy of that variable. Any changes made to the variable don’t reflect in other objects of that class.\n",
    "\n",
    "In the case of our Car() class, each car has a specific color and style."
   ]
  },
  {
   "cell_type": "code",
   "execution_count": 3,
   "metadata": {},
   "outputs": [],
   "source": [
    "# A class with two instance attributes\n",
    "class Car:\n",
    "\n",
    "    # initializer with instance attributes\n",
    "    def __init__(self, color, style):\n",
    "        self.color = color\n",
    "        self.style = style"
   ]
  },
  {
   "cell_type": "markdown",
   "metadata": {},
   "source": [
    "### Class Attribute\n",
    "The class attribute is a variable that is same for all objects. And there’s only one copy of that variable that is shared with all objects. Any changes made to that variable will reflect in all other objects.\n",
    "\n",
    "In the case of our Car() class, each car has 4 wheels."
   ]
  },
  {
   "cell_type": "code",
   "execution_count": 4,
   "metadata": {},
   "outputs": [],
   "source": [
    "# A class with one class attribute\n",
    "class Car:\n",
    "\n",
    "    # class attribute\n",
    "    wheels = 4\n",
    "\n",
    "    # initializer with instance attributes\n",
    "    def __init__(self, color, style):\n",
    "        self.color = color\n",
    "        self.style = style"
   ]
  },
  {
   "cell_type": "markdown",
   "metadata": {},
   "source": [
    "So while each car has a unique style and color, every car will have 4 wheels.\n",
    "\n",
    "### Create an Object\n",
    "You create an object of a class by calling the class name and passing arguments as if it were a function."
   ]
  },
  {
   "cell_type": "code",
   "execution_count": 5,
   "metadata": {},
   "outputs": [],
   "source": [
    "# Create an object from the 'Car' class by passing style and color\n",
    "class Car:\n",
    "\n",
    "    # class attribute\n",
    "    wheels = 4\n",
    "\n",
    "    # initializer with instance attributes\n",
    "    def __init__(self, color, style):\n",
    "        self.color = color\n",
    "        self.style = style\n",
    "\n",
    "c = Car('Sedan', 'Black')"
   ]
  },
  {
   "cell_type": "markdown",
   "metadata": {},
   "source": [
    "Here, we created a new object from the Car class by passing strings for the style and color parameters. But, we didn’t pass in the self argument.\n",
    "\n",
    "This is because, when you create a new object, Python automatically determines what self is (our newly-created object in this case) and passes it to the __init__ method."
   ]
  },
  {
   "cell_type": "markdown",
   "metadata": {},
   "source": [
    "### Access and Modify Attributes\n",
    "The attributes of an instance are accessed and assigned to by using dot . notation.\n",
    "\n"
   ]
  },
  {
   "cell_type": "code",
   "execution_count": 6,
   "metadata": {},
   "outputs": [
    {
     "name": "stdout",
     "output_type": "stream",
     "text": [
      "Sedan\n",
      "Black\n",
      "SUV\n"
     ]
    }
   ],
   "source": [
    "# Access and modify attributes of an object\n",
    "class Car:\n",
    "\n",
    "    # class attribute\n",
    "    wheels = 4\n",
    "\n",
    "    # initializer with instance attributes\n",
    "    def __init__(self, color, style):\n",
    "        self.color = color\n",
    "        self.style = style\n",
    "\n",
    "c = Car('Black', 'Sedan')\n",
    "\n",
    "# Access attributes\n",
    "print(c.style)\n",
    "# Prints Sedan\n",
    "print(c.color)\n",
    "# Prints Black\n",
    "\n",
    "# Modify attribute\n",
    "c.style = 'SUV'\n",
    "print(c.style)\n",
    "# Prints SUV"
   ]
  },
  {
   "cell_type": "markdown",
   "metadata": {},
   "source": [
    "### Methods\n",
    "Methods determine what type of functionality a class has, how it handles its data, and its overall behavior. Without methods, a class would simply be a structure.\n",
    "\n",
    "In our case, the ‘Car’ class might have the following methods:\n",
    "\n",
    "- Change color\n",
    "- Start engine\n",
    "- Stop engine\n",
    "- Change gear\n",
    "- Just as there are instance and class attributes, there are also instance and class methods.\n",
    "\n",
    "Instance methods operate on an instance of a class; whereas class methods operate on the class itself."
   ]
  },
  {
   "cell_type": "markdown",
   "metadata": {},
   "source": [
    "### Instance Methods\n",
    "Instance methods are nothing but functions defined inside a class that operates on instances of that class.\n",
    "\n",
    "Now let’s add some methods to the class.\n",
    "\n",
    "- showDescription() method: to print the current values of all the instance attributes\n",
    "- changeColor() method: to change the value of ‘color’ attribute\n"
   ]
  },
  {
   "cell_type": "code",
   "execution_count": 8,
   "metadata": {},
   "outputs": [
    {
     "name": "stdout",
     "output_type": "stream",
     "text": [
      "This car is a Black Sedan\n",
      "This car is a White Sedan\n"
     ]
    }
   ],
   "source": [
    "class Car:\n",
    "\n",
    "    # class attribute\n",
    "    wheels = 4\n",
    "\n",
    "    # initializer / instance attributes\n",
    "    def __init__(self, color, style):\n",
    "        self.color = color\n",
    "        self.style = style\n",
    "\n",
    "    # method 1\n",
    "    def showDescription(self):\n",
    "        print(\"This car is a\", self.color, self.style)\n",
    "\n",
    "    # method 2\n",
    "    def changeColor(self, color):\n",
    "        self.color = color\n",
    "\n",
    "c = Car('Black', 'Sedan')\n",
    "\n",
    "# call method 1\n",
    "c.showDescription()\n",
    "# Prints This car is a Black Sedan\n",
    "\n",
    "# call method 2 and set color\n",
    "c.changeColor('White')\n",
    "\n",
    "c.showDescription()\n",
    "# Prints This car is a White Sedan"
   ]
  },
  {
   "cell_type": "markdown",
   "metadata": {},
   "source": [
    "### Delete Attributes and Objects\n",
    "To delete any object attribute, use the del keyword."
   ]
  },
  {
   "cell_type": "code",
   "execution_count": 9,
   "metadata": {},
   "outputs": [],
   "source": [
    "del c.color"
   ]
  },
  {
   "cell_type": "markdown",
   "metadata": {},
   "source": [
    "You can delete the object completely with del keyword."
   ]
  },
  {
   "cell_type": "code",
   "execution_count": 10,
   "metadata": {},
   "outputs": [],
   "source": [
    "del c"
   ]
  },
  {
   "cell_type": "markdown",
   "metadata": {},
   "source": [
    "# Python Inheritance"
   ]
  },
  {
   "cell_type": "markdown",
   "metadata": {},
   "source": [
    "When you want to extend the functionality of an existing class, you can just modify that class. But there’s a good chance you’ll make it more complicated or break something that used to work.\n",
    "\n",
    "Of course, you can write a new class. But that means you have more code to maintain, and the parts of the old class that used to work might drift apart.\n",
    "\n",
    "The solution is Inheritance."
   ]
  },
  {
   "cell_type": "markdown",
   "metadata": {},
   "source": [
    "### What Is Inheritance?\n",
    "Inheritance is the process of creating a new class from an existing one.\n",
    "\n",
    "A class created through inheritance can use all the code (e.g. attributes and methods) from the old class.\n",
    "\n",
    "So, you edit only what you need to modify in the new class, and this overrides the behavior of the old class.\n",
    "\n",
    "When one class inherits from another, the inheriting class is known as a child, subclass, or derived class, and the class it inherits from is known as its parent, superclass, or base class.\n",
    "\n"
   ]
  },
  {
   "cell_type": "markdown",
   "metadata": {},
   "source": [
    "### Analogy\n",
    "There exists a hierarchy relationship between classes. It’s similar to relationships that you know from real life.\n",
    "\n",
    "Think about vehicles, for example. Bikes, cars, buses and trucks, all share the characteristics of vehicles (speed, color, gear). Yet each has additional features that make them different.\n",
    "\n",
    "Keeping that in mind, you could implement a Vehicle (as a base) class in Python. Whereas, Cars, Buses and Trucks and Bikes can be implemented as subclasses which will inherit from vehicle."
   ]
  },
  {
   "cell_type": "markdown",
   "metadata": {},
   "source": [
    "![image](https://www.learnbyexample.org/wp-content/uploads/python/Python-Inheritance-Illustration.png)"
   ]
  },
  {
   "cell_type": "markdown",
   "metadata": {},
   "source": [
    "### Defining a Base Class\n"
   ]
  },
  {
   "cell_type": "markdown",
   "metadata": {},
   "source": [
    "Any class that does not inherit from another class is known as a base class.\n",
    "\n",
    "The example below defines a base class called Vehicle. It has a method called description that prints the description of the vehicle."
   ]
  },
  {
   "cell_type": "code",
   "execution_count": 12,
   "metadata": {},
   "outputs": [],
   "source": [
    "# base class\n",
    "class Vehicle():\n",
    "    def description(self):\n",
    "        print(\"I'm a Vehicle!\")"
   ]
  },
  {
   "cell_type": "markdown",
   "metadata": {},
   "source": [
    "### Subclassing\n",
    "The act of basing a new class on an existing class is known as Subclassing. It allows you to add new functionality or override existing functionality.\n",
    "\n",
    "Now let’s create a subclass of Vehicle called Car. You can create a subclass by using the same class keyword but with the base class name inside the parentheses."
   ]
  },
  {
   "cell_type": "code",
   "execution_count": 13,
   "metadata": {},
   "outputs": [],
   "source": [
    "# base class\n",
    "class Vehicle():\n",
    "    def description(self):\n",
    "        print(\"I'm a Vehicle!\")\n",
    "\n",
    "# subclass\n",
    "class Car(Vehicle):\n",
    "    pass"
   ]
  },
  {
   "cell_type": "markdown",
   "metadata": {},
   "source": [
    "Now let’s make one object from each class and call the description method:"
   ]
  },
  {
   "cell_type": "code",
   "execution_count": 14,
   "metadata": {},
   "outputs": [
    {
     "name": "stdout",
     "output_type": "stream",
     "text": [
      "I'm a Vehicle!\n",
      "I'm a Vehicle!\n"
     ]
    }
   ],
   "source": [
    "# base class\n",
    "class Vehicle():\n",
    "    def description(self):\n",
    "        print(\"I'm a Vehicle!\")\n",
    "\n",
    "# subclass\n",
    "class Car(Vehicle):\n",
    "    pass\n",
    "\n",
    "# create an object from each class\n",
    "v = Vehicle()\n",
    "c = Car()\n",
    "\n",
    "v.description()\n",
    "# Prints I'm a Vehicle!\n",
    "c.description()\n",
    "# Prints I'm a Vehicle!"
   ]
  },
  {
   "cell_type": "markdown",
   "metadata": {},
   "source": [
    "Notice that without doing anything special, the new Car class automatically gained all of the characteristics of Vehicle, such as its description() method.\n",
    "\n"
   ]
  },
  {
   "cell_type": "markdown",
   "metadata": {},
   "source": [
    "### Override a Method\n",
    "As you just saw, a Car class inherited everything from its base class Vehicle.\n",
    "\n",
    "However, a subclass should be different from its base class in some way; otherwise, there’s no point in defining a new class."
   ]
  },
  {
   "cell_type": "markdown",
   "metadata": {},
   "source": [
    "Let’s redefine the description() method inside of the Car:\n",
    "\n"
   ]
  },
  {
   "cell_type": "code",
   "execution_count": 15,
   "metadata": {},
   "outputs": [
    {
     "name": "stdout",
     "output_type": "stream",
     "text": [
      "I'm a Vehicle!\n",
      "I'm a Car!\n"
     ]
    }
   ],
   "source": [
    "# base class\n",
    "class Vehicle():\n",
    "    def description(self):\n",
    "        print(\"I'm a Vehicle!\")\n",
    "\n",
    "# subclass\n",
    "class Car(Vehicle):\n",
    "    def description(self):\n",
    "        print(\"I'm a Car!\")\n",
    "\n",
    "# create an object from each class\n",
    "v = Vehicle()\n",
    "c = Car()\n",
    "\n",
    "v.description()\n",
    "# Prints I'm a Vehicle!\n",
    "c.description()\n",
    "# Prints I'm a Car!"
   ]
  },
  {
   "cell_type": "markdown",
   "metadata": {},
   "source": [
    "Here, when you call description() method, the Car subclass version of the method is called.\n",
    "\n",
    "This is because when you add a method in the subclass with the same name as the base class, it gets overridden.\n",
    "\n"
   ]
  },
  {
   "cell_type": "markdown",
   "metadata": {},
   "source": [
    "You can not only override an instance method, but any method, including __init__()."
   ]
  },
  {
   "cell_type": "markdown",
   "metadata": {},
   "source": [
    "### Add a Method\n",
    "The subclass can also add a method that was not present in its base class.\n",
    "\n",
    "Let’s define the new method setSpeed() for Car class."
   ]
  },
  {
   "cell_type": "code",
   "execution_count": 16,
   "metadata": {},
   "outputs": [
    {
     "name": "stdout",
     "output_type": "stream",
     "text": [
      "Now traveling at 25 miles per hour\n"
     ]
    },
    {
     "ename": "AttributeError",
     "evalue": "'Vehicle' object has no attribute 'setSpeed'",
     "output_type": "error",
     "traceback": [
      "\u001b[0;31m---------------------------------------------------------------------------\u001b[0m",
      "\u001b[0;31mAttributeError\u001b[0m                            Traceback (most recent call last)",
      "\u001b[0;32m<ipython-input-16-9c804461b65e>\u001b[0m in \u001b[0;36m<module>\u001b[0;34m\u001b[0m\n\u001b[1;32m     17\u001b[0m \u001b[0mc\u001b[0m\u001b[0;34m.\u001b[0m\u001b[0msetSpeed\u001b[0m\u001b[0;34m(\u001b[0m\u001b[0;36m25\u001b[0m\u001b[0;34m)\u001b[0m\u001b[0;34m\u001b[0m\u001b[0;34m\u001b[0m\u001b[0m\n\u001b[1;32m     18\u001b[0m \u001b[0;31m# Prints Now traveling at 25 miles per hour\u001b[0m\u001b[0;34m\u001b[0m\u001b[0;34m\u001b[0m\u001b[0;34m\u001b[0m\u001b[0m\n\u001b[0;32m---> 19\u001b[0;31m \u001b[0mv\u001b[0m\u001b[0;34m.\u001b[0m\u001b[0msetSpeed\u001b[0m\u001b[0;34m(\u001b[0m\u001b[0;36m25\u001b[0m\u001b[0;34m)\u001b[0m\u001b[0;34m\u001b[0m\u001b[0;34m\u001b[0m\u001b[0m\n\u001b[0m\u001b[1;32m     20\u001b[0m \u001b[0;31m# Triggers AttributeError: 'Vehicle' object has no attribute 'setSpeed'\u001b[0m\u001b[0;34m\u001b[0m\u001b[0;34m\u001b[0m\u001b[0;34m\u001b[0m\u001b[0m\n",
      "\u001b[0;31mAttributeError\u001b[0m: 'Vehicle' object has no attribute 'setSpeed'"
     ]
    }
   ],
   "source": [
    "# a parent class\n",
    "class Vehicle():\n",
    "    def description(self):\n",
    "        print(\"I'm a\", self.color, \"Vehicle\")\n",
    "\n",
    "# subclass\n",
    "class Car(Vehicle):\n",
    "    def description(self):\n",
    "        print(\"I'm a\", self.color, self.style)\n",
    "    def setSpeed(self, speed):\n",
    "        print(\"Now traveling at\", speed,\"miles per hour\")    \n",
    "\n",
    "# create an object from each class\n",
    "v = Vehicle()\n",
    "c = Car()\n",
    "\n",
    "c.setSpeed(25)\n",
    "# Prints Now traveling at 25 miles per hour\n",
    "v.setSpeed(25)\n",
    "# Triggers AttributeError: 'Vehicle' object has no attribute 'setSpeed'"
   ]
  },
  {
   "cell_type": "markdown",
   "metadata": {},
   "source": [
    "A Car object can react to a setSpeed() method call, but a Vehicle object cannot."
   ]
  },
  {
   "cell_type": "markdown",
   "metadata": {},
   "source": [
    "### The super() Function\n",
    "When you override a method, you sometimes want to reuse the method of the base class and add some new stuff.\n",
    "\n",
    "You can achieve this by using the super() Function."
   ]
  },
  {
   "cell_type": "markdown",
   "metadata": {},
   "source": [
    "To demonstrate this, let’s redefine our Vehicle and Car class, but this time with the __init__() method.\n",
    "\n",
    "Notice that the __init__() call in the Vehicle class has only ‘color’ parameter while the Car class has an additional ‘style’ parameter."
   ]
  },
  {
   "cell_type": "code",
   "execution_count": 17,
   "metadata": {},
   "outputs": [
    {
     "name": "stdout",
     "output_type": "stream",
     "text": [
      "I'm a Red Vehicle\n",
      "I'm a Black SUV\n"
     ]
    }
   ],
   "source": [
    "# base class\n",
    "class Vehicle():\n",
    "    def __init__(self, color):\n",
    "        self.color = color\n",
    "    def description(self):\n",
    "        print(\"I'm a\", self.color, \"Vehicle\")\n",
    "\n",
    "# subclass\n",
    "class Car(Vehicle):\n",
    "    def __init__(self, color, style):\n",
    "        super().__init__(color)    # invoke Vehicle’s __init__() method\n",
    "        self.style = style\n",
    "    def description(self):\n",
    "        print(\"I'm a\", self.color, self.style)\n",
    "\n",
    "# create an object from each class\n",
    "v = Vehicle('Red')\n",
    "c = Car('Black', 'SUV')\n",
    "\n",
    "v.description()\n",
    "# Prints I'm a Red Vehicle\n",
    "c.description()\n",
    "# Prints I'm a Black SUV"
   ]
  },
  {
   "cell_type": "markdown",
   "metadata": {},
   "source": [
    "Here, the super() invokes the superclass’s __init__() method. That’s why you are able to access both the color and style attributes.\n",
    "\n",
    "We could have defined our new class as follows:\n",
    "\n"
   ]
  },
  {
   "cell_type": "code",
   "execution_count": 18,
   "metadata": {},
   "outputs": [],
   "source": [
    "class Car(Vehicle):\n",
    "    def __init__(self, color, style):\n",
    "        self.color = color\n",
    "        self.style = style\n",
    "    \n",
    "    def description(self):\n",
    "        print(\"I'm a\", self.color, self.style)"
   ]
  },
  {
   "cell_type": "markdown",
   "metadata": {},
   "source": [
    "But it would have defeated the purpose of code-reuse. We used super() to make sure the car can do everything a vehicle can, plus more.\n",
    "\n",
    "There’s another benefit; if the definition of Vehicle changes in the future, the super() will ensure that all the changes will be reflected.\n",
    "\n"
   ]
  },
  {
   "cell_type": "markdown",
   "metadata": {},
   "source": [
    "### Multiple Inheritance\n",
    "Python also supports multiple inheritance, where a subclass can inherit from multiple superclasses.\n",
    "\n",
    "In multiple inheritance, the characteristics of all the superclasses are inherited into the subclass.\n",
    "\n"
   ]
  },
  {
   "cell_type": "markdown",
   "metadata": {},
   "source": [
    "![image](https://www.learnbyexample.org/wp-content/uploads/python/Python-Multiple-Inheritance-Illustration.png)"
   ]
  },
  {
   "cell_type": "markdown",
   "metadata": {},
   "source": [
    "Let’s define a FlyingCar subclass that inherits from a GroundVehicle class and a FlyingVehicle class."
   ]
  },
  {
   "cell_type": "code",
   "execution_count": 19,
   "metadata": {},
   "outputs": [
    {
     "name": "stdout",
     "output_type": "stream",
     "text": [
      "Drive me on the road!\n",
      "Fly me to the sky!\n"
     ]
    }
   ],
   "source": [
    "# base class 1\n",
    "class GroundVehicle():\n",
    "    def drive(self):\n",
    "        print(\"Drive me on the road!\")\n",
    "\n",
    "# base class 2\n",
    "class FlyingVehicle():\n",
    "    def fly(self):\n",
    "         print(\"Fly me to the sky!\")\n",
    "\n",
    "# subclass\n",
    "class FlyingCar(GroundVehicle, FlyingVehicle):\n",
    "    pass\n",
    "\n",
    "# create an object of a subclass\n",
    "fc = FlyingCar()\n",
    "\n",
    "fc.drive()\n",
    "# Prints Drive me on the road!\n",
    "fc.fly()\n",
    "# Prints Fly me to the sky!"
   ]
  },
  {
   "cell_type": "markdown",
   "metadata": {},
   "source": [
    "Notice that methods from both superclasses were effectively used in the subclass."
   ]
  },
  {
   "cell_type": "code",
   "execution_count": null,
   "metadata": {},
   "outputs": [],
   "source": []
  }
 ],
 "metadata": {
  "kernelspec": {
   "display_name": "Python 3",
   "language": "python",
   "name": "python3"
  },
  "language_info": {
   "codemirror_mode": {
    "name": "ipython",
    "version": 3
   },
   "file_extension": ".py",
   "mimetype": "text/x-python",
   "name": "python",
   "nbconvert_exporter": "python",
   "pygments_lexer": "ipython3",
   "version": "3.8.3"
  }
 },
 "nbformat": 4,
 "nbformat_minor": 4
}
