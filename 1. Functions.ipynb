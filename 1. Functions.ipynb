{
 "cells": [
  {
   "cell_type": "markdown",
   "metadata": {},
   "source": [
    "# Python Functions"
   ]
  },
  {
   "cell_type": "markdown",
   "metadata": {},
   "source": [
    "Functions are the first step to code reuse. They allow you to define a reusable block of code that can be used repeatedly in a program.\n",
    "\n",
    "Python provides several built-in functions such as print(), len() or type(), but you can also define your own functions to use within your programs."
   ]
  },
  {
   "cell_type": "markdown",
   "metadata": {},
   "source": [
    "#### Syntax\n",
    "The basic syntax for a Python function definition is:"
   ]
  },
  {
   "cell_type": "markdown",
   "metadata": {},
   "source": [
    "![image](https://www.learnbyexample.org/wp-content/uploads/python/Python-Function-Syntax.png)"
   ]
  },
  {
   "cell_type": "markdown",
   "metadata": {},
   "source": [
    "### Create a Function\n",
    "To define a Python function, use def keyword. Here’s the simplest possible function that prints ‘Hello, World!’ on the screen."
   ]
  },
  {
   "cell_type": "code",
   "execution_count": 1,
   "metadata": {},
   "outputs": [
    {
     "name": "stdout",
     "output_type": "stream",
     "text": [
      "Hello, World!\n"
     ]
    }
   ],
   "source": [
    "def hello():\n",
    "    print('Hello, World!')\n",
    "  \n",
    "hello()\n",
    "# Prints Hello, World!"
   ]
  },
  {
   "cell_type": "markdown",
   "metadata": {},
   "source": [
    "### Pass Arguments\n",
    "You can send information to a function by passing values, known as arguments. Arguments are declared after the function name in parentheses.\n",
    "\n",
    "When you call a function with arguments, the values of those arguments are copied to their corresponding parameters inside the function."
   ]
  },
  {
   "cell_type": "code",
   "execution_count": 2,
   "metadata": {},
   "outputs": [
    {
     "name": "stdout",
     "output_type": "stream",
     "text": [
      "Hello, Bob\n",
      "Hello, Sam\n"
     ]
    }
   ],
   "source": [
    "# Pass single argument to a function\n",
    "def hello(name):\n",
    "    print('Hello,', name)\n",
    "\n",
    "hello('Bob')\n",
    "# Prints Hello, Bob\n",
    "hello('Sam')\n",
    "# Prints Hello, Sam"
   ]
  },
  {
   "cell_type": "markdown",
   "metadata": {},
   "source": [
    "You can send as many arguments as you like, separated by commas ,."
   ]
  },
  {
   "cell_type": "code",
   "execution_count": 3,
   "metadata": {},
   "outputs": [
    {
     "name": "stdout",
     "output_type": "stream",
     "text": [
      "Bob is a developer\n"
     ]
    }
   ],
   "source": [
    "# Pass two arguments\n",
    "def func(name, job):\n",
    "    print(name, 'is a', job)\n",
    "\n",
    "func('Bob', 'developer')\n",
    "# Prints Bob is a developer"
   ]
  },
  {
   "cell_type": "markdown",
   "metadata": {},
   "source": [
    "### Types of Arguments\n",
    "Python handles function arguments in a very flexible manner, compared to other languages. It supports multiple types of arguments in the function definition. Here’s the list:\n",
    "\n",
    "- Positional Arguments\n",
    "- Keyword Arguments\n",
    "- Default Arguments\n",
    "- Variable Length Positional Arguments (*args)\n",
    "- Variable Length Keyword Arguments (**kwargs)\n"
   ]
  },
  {
   "cell_type": "markdown",
   "metadata": {},
   "source": [
    "### Positional Arguments\n",
    "The most common are positional arguments, whose values are copied to their corresponding parameters in order.\n",
    "\n"
   ]
  },
  {
   "cell_type": "code",
   "execution_count": 4,
   "metadata": {},
   "outputs": [
    {
     "name": "stdout",
     "output_type": "stream",
     "text": [
      "Bob is a developer\n"
     ]
    }
   ],
   "source": [
    "def func(name, job):\n",
    "    print(name, 'is a', job)\n",
    "\n",
    "func('Bob', 'developer')\n",
    "# Prints Bob is a developer"
   ]
  },
  {
   "cell_type": "markdown",
   "metadata": {},
   "source": [
    "The only downside of positional arguments is that you need to pass arguments in the order in which they are defined."
   ]
  },
  {
   "cell_type": "code",
   "execution_count": 5,
   "metadata": {},
   "outputs": [
    {
     "name": "stdout",
     "output_type": "stream",
     "text": [
      "developer is a Bob\n"
     ]
    }
   ],
   "source": [
    "def func(name, job):\n",
    "    print(name, 'is a', job)\n",
    "\n",
    "func('developer', 'Bob')\n",
    "# Prints developer is a Bob"
   ]
  },
  {
   "cell_type": "markdown",
   "metadata": {},
   "source": [
    "### Keyword Arguments\n",
    "To avoid positional argument confusion, you can pass arguments using the names of their corresponding parameters.\n",
    "\n",
    "In this case, the order of the arguments no longer matters because arguments are matched by name, not by position."
   ]
  },
  {
   "cell_type": "code",
   "execution_count": 6,
   "metadata": {},
   "outputs": [
    {
     "name": "stdout",
     "output_type": "stream",
     "text": [
      "Bob is a developer\n",
      "Bob is a developer\n"
     ]
    }
   ],
   "source": [
    "# Keyword arguments can be put in any order\n",
    "def func(name, job):\n",
    "    print(name, 'is a', job)\n",
    "\n",
    "func(name='Bob', job='developer')\n",
    "# Prints Bob is a developer\n",
    "\n",
    "func(job='developer', name='Bob')\n",
    "# Prints Bob is a developer"
   ]
  },
  {
   "cell_type": "markdown",
   "metadata": {},
   "source": [
    "It is possible to combine positional and keyword arguments in a single call. If you do so, specify the positional arguments before keyword arguments.\n",
    "\n"
   ]
  },
  {
   "cell_type": "markdown",
   "metadata": {},
   "source": [
    "### Default Arguments\n",
    "You can specify default values for arguments when defining a function. The default value is used if the function is called without a corresponding argument.\n",
    "\n",
    "In short, defaults allow you to make selected arguments optional."
   ]
  },
  {
   "cell_type": "code",
   "execution_count": 8,
   "metadata": {},
   "outputs": [
    {
     "name": "stdout",
     "output_type": "stream",
     "text": [
      "Bob is a manager\n",
      "Bob is a developer\n"
     ]
    }
   ],
   "source": [
    "# Set default value 'developer' to a 'job' parameter\n",
    "def func(name, job='developer'):\n",
    "    print(name, 'is a', job)\n",
    "\n",
    "func('Bob', 'manager')\n",
    "# Prints Bob is a manager\n",
    "\n",
    "func('Bob')\n",
    "# Prints Bob is a developer"
   ]
  },
  {
   "cell_type": "markdown",
   "metadata": {},
   "source": [
    "### Variable Length Arguments (*args and **kwargs)\n",
    "Variable length arguments are useful when you want to create functions that take unlimited number of arguments. Unlimited in the sense that you do not know beforehand how many arguments can be passed to your function by the user.\n",
    "\n",
    "This feature is often referred to as var-args.\n",
    "\n",
    "#### *args\n",
    "When you prefix a parameter with an asterisk * , it collects all the unmatched positional arguments into a tuple. Because it is a normal tuple object, you can perform any operation that a tuple supports, like indexing, iteration etc.\n",
    "\n",
    "Following function prints all the arguments passed to the function as a tuple.\n",
    "\n"
   ]
  },
  {
   "cell_type": "code",
   "execution_count": 9,
   "metadata": {},
   "outputs": [
    {
     "name": "stdout",
     "output_type": "stream",
     "text": [
      "(1, 54, 60, 8, 98, 12)\n"
     ]
    }
   ],
   "source": [
    "def print_arguments(*args):\n",
    "    print(args)\n",
    "\n",
    "print_arguments(1, 54, 60, 8, 98, 12)\n",
    "# Prints (1, 54, 60, 8, 98, 12)"
   ]
  },
  {
   "cell_type": "markdown",
   "metadata": {},
   "source": [
    "You don’t need to call this keyword parameter args, but it is standard practice.\n",
    "\n",
    "#### **kwargs\n",
    "The ** syntax is similar, but it only works for keyword arguments. It collects them into a new dictionary, where the argument names are the keys, and their values are the corresponding dictionary values."
   ]
  },
  {
   "cell_type": "code",
   "execution_count": 10,
   "metadata": {},
   "outputs": [
    {
     "name": "stdout",
     "output_type": "stream",
     "text": [
      "{'name': 'Bob', 'age': 25, 'job': 'dev'}\n"
     ]
    }
   ],
   "source": [
    "def print_arguments(**kwargs):\n",
    "    print(kwargs)\n",
    "\n",
    "print_arguments(name='Bob', age=25, job='dev')\n",
    "# Prints {'name': 'Bob', 'age': 25, 'job': 'dev'}"
   ]
  },
  {
   "cell_type": "markdown",
   "metadata": {},
   "source": [
    "### Return Value\n",
    "To return a value from a function, simply use a return statement. Once a return statement is executed, nothing else in the function body is executed.\n",
    "\n"
   ]
  },
  {
   "cell_type": "code",
   "execution_count": 11,
   "metadata": {},
   "outputs": [
    {
     "name": "stdout",
     "output_type": "stream",
     "text": [
      "7\n"
     ]
    }
   ],
   "source": [
    "# Return sum of two values\n",
    "def sum(a, b):\n",
    "    return a + b\n",
    "\n",
    "x = sum(3, 4)\n",
    "print(x)\n",
    "# Prints 7"
   ]
  },
  {
   "cell_type": "markdown",
   "metadata": {},
   "source": [
    "Remember! a python function always returns a value. So, if you do not include any return statement, it automatically returns None.\n",
    "\n"
   ]
  },
  {
   "cell_type": "markdown",
   "metadata": {},
   "source": [
    "### Return Multiple Values\n",
    "Python has the ability to return multiple values, something missing from many other languages. You can do this by separating return values with a comma."
   ]
  },
  {
   "cell_type": "code",
   "execution_count": 12,
   "metadata": {},
   "outputs": [
    {
     "name": "stdout",
     "output_type": "stream",
     "text": [
      "(5, 1)\n"
     ]
    }
   ],
   "source": [
    "# Return addition and subtraction in a tuple\n",
    "def func(a, b):\n",
    "    return a+b, a-b\n",
    "\n",
    "result = func(3, 2)\n",
    "\n",
    "print(result)\n",
    "# Prints (5, 1)"
   ]
  },
  {
   "cell_type": "markdown",
   "metadata": {},
   "source": [
    "When you return multiple values, Python actually packs them in a single tuple and returns it. You can then use multiple assignment to unpack the parts of the returned tuple.\n",
    "\n"
   ]
  },
  {
   "cell_type": "code",
   "execution_count": 13,
   "metadata": {},
   "outputs": [
    {
     "name": "stdout",
     "output_type": "stream",
     "text": [
      "5\n",
      "1\n"
     ]
    }
   ],
   "source": [
    "# Unpack returned tuple\n",
    "def func(a, b):\n",
    "    return a+b, a-b\n",
    "\n",
    "add, sub = func(3, 2)\n",
    "\n",
    "print(add)\n",
    "# Prints 5\n",
    "print(sub)\n",
    "# Prints 1"
   ]
  },
  {
   "cell_type": "markdown",
   "metadata": {},
   "source": [
    "### Docstring\n",
    "You can attach documentation to a function definition by including a string literal just after the function header. Docstrings are usually triple quoted to allow for multi-line descriptions.\n",
    "\n"
   ]
  },
  {
   "cell_type": "code",
   "execution_count": 14,
   "metadata": {},
   "outputs": [],
   "source": [
    "def hello():\n",
    "    \"\"\"This function prints\n",
    "       message on the screen\"\"\"  \n",
    "    print('Hello, World!')"
   ]
  },
  {
   "cell_type": "markdown",
   "metadata": {},
   "source": [
    "To print a function’s docstring, use the Python help() function and pass the function’s name."
   ]
  },
  {
   "cell_type": "code",
   "execution_count": 15,
   "metadata": {},
   "outputs": [
    {
     "name": "stdout",
     "output_type": "stream",
     "text": [
      "Help on function hello in module __main__:\n",
      "\n",
      "hello()\n",
      "    This function prints\n",
      "    message on the screen\n",
      "\n"
     ]
    }
   ],
   "source": [
    "# Print docstring in rich format\n",
    "help(hello)\n",
    "\n",
    "# Help on function hello in module __main__:\n",
    "# hello()\n",
    "#    This function prints\n",
    "#    message on the screen"
   ]
  },
  {
   "cell_type": "code",
   "execution_count": 16,
   "metadata": {},
   "outputs": [
    {
     "name": "stdout",
     "output_type": "stream",
     "text": [
      "This function prints\n",
      "       message on the screen\n"
     ]
    }
   ],
   "source": [
    "# Print docstring in a raw format\n",
    "print(hello.__doc__)\n",
    "\n",
    "# Prints This function prints message on the screen"
   ]
  },
  {
   "cell_type": "markdown",
   "metadata": {},
   "source": [
    "### Composition\n",
    "One of the most useful features of Python is its ability to take small building blocks and compose them. For example, the argument of a function can be any type of expression, including arithmetic operators:"
   ]
  },
  {
   "cell_type": "code",
   "execution_count": 17,
   "metadata": {},
   "outputs": [
    {
     "name": "stdout",
     "output_type": "stream",
     "text": [
      "-3.133115067780141e-14\n"
     ]
    }
   ],
   "source": [
    "import math\n",
    "x = math.sin(360*2*math.pi)\n",
    "print(x)\n",
    "# Prints -3.133115067780141e-14"
   ]
  },
  {
   "cell_type": "code",
   "execution_count": 18,
   "metadata": {},
   "outputs": [
    {
     "name": "stdout",
     "output_type": "stream",
     "text": [
      "3.1399999999999997\n"
     ]
    }
   ],
   "source": [
    "import math\n",
    "x = math.exp(math.log(3.14))\n",
    "print(x)\n",
    "# Prints 3.1399999999999997"
   ]
  },
  {
   "cell_type": "markdown",
   "metadata": {},
   "source": [
    "### Nested Functions\n",
    "A Nested function is a function defined within other function. They are useful when performing complex task multiple times within another function, to avoid loops or code duplication."
   ]
  },
  {
   "cell_type": "code",
   "execution_count": 19,
   "metadata": {},
   "outputs": [
    {
     "name": "stdout",
     "output_type": "stream",
     "text": [
      "6\n"
     ]
    }
   ],
   "source": [
    "def outer(a, b):\n",
    "    def inner(c, d):\n",
    "        return c + d\n",
    "    return inner(a, b)\n",
    "\n",
    "result = outer(2, 4)\n",
    "\n",
    "print(result)\n",
    "# Prints 6"
   ]
  },
  {
   "cell_type": "markdown",
   "metadata": {},
   "source": [
    "A nested function can act as a closure."
   ]
  },
  {
   "cell_type": "markdown",
   "metadata": {},
   "source": [
    "### Recursion\n",
    "A recursive function is a function that calls itself and repeats its behavior until some condition is met to return a result.\n",
    "\n",
    "In below example, countdown() is a recursive function that calls itself (recurse) to countdown. If num is 0 or negative, it prints the word “Stop”. Otherwise, it prints num and then calls itself, passing num-1 as an argument."
   ]
  },
  {
   "cell_type": "code",
   "execution_count": 20,
   "metadata": {},
   "outputs": [
    {
     "name": "stdout",
     "output_type": "stream",
     "text": [
      "5\n",
      "4\n",
      "3\n",
      "2\n",
      "1\n",
      "Stop\n"
     ]
    }
   ],
   "source": [
    "def countdown(num):\n",
    "    if num <= 0:\n",
    "        print('Stop')\n",
    "    else:\n",
    "        print(num)\n",
    "        countdown(num-1)\n",
    "\n",
    "countdown(5)\n",
    "# Prints 5\n",
    "# Prints 4\n",
    "# Prints 3\n",
    "# Prints 2\n",
    "# Prints 1\n",
    "# Prints Stop"
   ]
  },
  {
   "cell_type": "markdown",
   "metadata": {},
   "source": [
    "### Assigning Functions to Variables\n",
    "When Python runs a def statement, it creates a new function object and assigns it to the function’s name. You can assign a different name to it anytime and call through the new name.\n",
    "\n",
    "For example, let’s assign a different name ‘hi’ to our ‘hello’ function and call through its new name."
   ]
  },
  {
   "cell_type": "code",
   "execution_count": 21,
   "metadata": {},
   "outputs": [
    {
     "name": "stdout",
     "output_type": "stream",
     "text": [
      "Hello, World!\n"
     ]
    }
   ],
   "source": [
    "def hello():\n",
    "    print('Hello, World!')\n",
    "  \n",
    "hi = hello\n",
    "hi()\n",
    "# Prints Hello, World!"
   ]
  },
  {
   "cell_type": "markdown",
   "metadata": {},
   "source": [
    "You can use this feature to implement jump table. Jump table is a dictionary of functions to be called on demand."
   ]
  },
  {
   "cell_type": "code",
   "execution_count": 22,
   "metadata": {},
   "outputs": [
    {
     "name": "stdout",
     "output_type": "stream",
     "text": [
      "9\n",
      "27\n"
     ]
    }
   ],
   "source": [
    "def findSquare(x):\n",
    "    return x ** 2\n",
    "\n",
    "def findCube(x):\n",
    "    return x ** 3\n",
    "\n",
    "# Create a dictionary of functions\n",
    "exponent = {'square': findSquare, 'cube': findCube}\n",
    "\n",
    "print(exponent['square'](3))\n",
    "# Prints 9\n",
    "print(exponent['cube'](3))\n",
    "# Prints 27"
   ]
  },
  {
   "cell_type": "markdown",
   "metadata": {},
   "source": [
    "### Python Function Executes at Runtime\n",
    "Because Python treats def as an executable statement, it can appear anywhere a normal statement can.\n",
    "\n",
    "For example you can nest a function inside an if statement to select between alternative definitions."
   ]
  },
  {
   "cell_type": "code",
   "execution_count": 23,
   "metadata": {},
   "outputs": [
    {
     "name": "stdout",
     "output_type": "stream",
     "text": [
      "Hello, Universe!\n"
     ]
    }
   ],
   "source": [
    "x = 0\n",
    "if x:\n",
    "    def hello():\n",
    "        print('Hello, World!')\n",
    "else:\n",
    "    def hello():\n",
    "        print('Hello, Universe!')\n",
    "\n",
    "hello()\n",
    "# Prints Hello, Universe!"
   ]
  },
  {
   "cell_type": "markdown",
   "metadata": {},
   "source": [
    "# Python Variables Scope"
   ]
  },
  {
   "cell_type": "markdown",
   "metadata": {},
   "source": [
    "Not all variables are accessible from all parts of our program. The part of the program where the variable is accessible is called its “scope” and is determined by where the variable is declared.\n",
    "\n",
    "Python has three different variable scopes:\n",
    "\n",
    "- Local scope\n",
    "- Global scope\n",
    "- Enclosing scope"
   ]
  },
  {
   "cell_type": "markdown",
   "metadata": {},
   "source": [
    "### Local Scope\n",
    "A variable declared within a function has a LOCAL SCOPE. It is accessible from the point at which it is declared until the end of the function, and exists for as long as the function is executing."
   ]
  },
  {
   "cell_type": "code",
   "execution_count": 24,
   "metadata": {},
   "outputs": [
    {
     "name": "stdout",
     "output_type": "stream",
     "text": [
      "42\n"
     ]
    }
   ],
   "source": [
    "def myfunc():\n",
    "    x = 42      # local scope x\n",
    "    print(x)\n",
    "\n",
    "myfunc()        # prints 42"
   ]
  },
  {
   "cell_type": "markdown",
   "metadata": {},
   "source": [
    "Local variables are removed from memory when the function call exits. Therefore, trying to get the value of the local variable outside the function causes an error.\n",
    "\n"
   ]
  },
  {
   "cell_type": "code",
   "execution_count": 25,
   "metadata": {},
   "outputs": [
    {
     "name": "stdout",
     "output_type": "stream",
     "text": [
      "0\n"
     ]
    }
   ],
   "source": [
    "def myfunc():\n",
    "    x = 42      # local scope x\n",
    "\n",
    "myfunc()\n",
    "print(x)        # Triggers NameError: x does not exist"
   ]
  },
  {
   "cell_type": "markdown",
   "metadata": {},
   "source": [
    "### Global Scope\n",
    "A variable declared outside all functions has a GLOBAL SCOPE. It is accessible throughout the file, and also inside any file which imports that file."
   ]
  },
  {
   "cell_type": "code",
   "execution_count": 26,
   "metadata": {},
   "outputs": [
    {
     "name": "stdout",
     "output_type": "stream",
     "text": [
      "42\n",
      "42\n"
     ]
    }
   ],
   "source": [
    "x = 42          # global scope x\n",
    "\n",
    "def myfunc():\n",
    "    print(x)    # x is 42 inside def\n",
    "\n",
    "myfunc()\n",
    "print(x)        # x is 42 outside def"
   ]
  },
  {
   "cell_type": "markdown",
   "metadata": {},
   "source": [
    "Global variables are often used for flags (boolean variables that indicate whether a condition is true). For example, some programs use a flag named verbose to report more information about an operation."
   ]
  },
  {
   "cell_type": "code",
   "execution_count": 27,
   "metadata": {},
   "outputs": [],
   "source": [
    "verbose = True\n",
    "\n",
    "def op1():\n",
    "    if verbose:\n",
    "        print('Running operation 1')"
   ]
  },
  {
   "cell_type": "markdown",
   "metadata": {},
   "source": [
    "### Modifying Globals Inside a Function\n",
    "Although you can access global variables inside or outside of a function, you cannot modify it inside a function.\n",
    "\n",
    "Here’s an example that tries to reassign a global variable inside a function."
   ]
  },
  {
   "cell_type": "code",
   "execution_count": 28,
   "metadata": {},
   "outputs": [
    {
     "name": "stdout",
     "output_type": "stream",
     "text": [
      "0\n",
      "42\n"
     ]
    }
   ],
   "source": [
    "x = 42          # global scope x\n",
    "def myfunc():\n",
    "    x = 0\n",
    "    print(x)    # local x is 0\n",
    "\n",
    "myfunc()\n",
    "print(x)        # global x is still 42"
   ]
  },
  {
   "cell_type": "markdown",
   "metadata": {},
   "source": [
    "Here, the value of global variable x didn’t change. Because Python created a new local variable named x; which disappears when the function ends, and has no effect on the global variable.\n",
    "\n",
    "To access the global variable rather than the local one, you need to explicitly declare x global, using the global keyword."
   ]
  },
  {
   "cell_type": "code",
   "execution_count": 30,
   "metadata": {},
   "outputs": [
    {
     "name": "stdout",
     "output_type": "stream",
     "text": [
      "0\n",
      "0\n"
     ]
    }
   ],
   "source": [
    "x = 42          # global scope x\n",
    "def myfunc():\n",
    "    global x    # declare x global\n",
    "    x = 0\n",
    "    print(x)    # global x is now 0\n",
    "\n",
    "myfunc()\n",
    "print(x)        # x is 0"
   ]
  },
  {
   "cell_type": "markdown",
   "metadata": {},
   "source": [
    "The x inside the function now refers to the x outside the function, so changing x inside the function changes the x outside it.\n",
    "\n",
    "Here’s another example that tries to update a global variable inside a function."
   ]
  },
  {
   "cell_type": "code",
   "execution_count": 31,
   "metadata": {},
   "outputs": [
    {
     "ename": "UnboundLocalError",
     "evalue": "local variable 'x' referenced before assignment",
     "output_type": "error",
     "traceback": [
      "\u001b[0;31m---------------------------------------------------------------------------\u001b[0m",
      "\u001b[0;31mUnboundLocalError\u001b[0m                         Traceback (most recent call last)",
      "\u001b[0;32m<ipython-input-31-cbd9c763731a>\u001b[0m in \u001b[0;36m<module>\u001b[0;34m\u001b[0m\n\u001b[1;32m      5\u001b[0m     \u001b[0mprint\u001b[0m\u001b[0;34m(\u001b[0m\u001b[0mx\u001b[0m\u001b[0;34m)\u001b[0m\u001b[0;34m\u001b[0m\u001b[0;34m\u001b[0m\u001b[0m\n\u001b[1;32m      6\u001b[0m \u001b[0;34m\u001b[0m\u001b[0m\n\u001b[0;32m----> 7\u001b[0;31m \u001b[0mmyfunc\u001b[0m\u001b[0;34m(\u001b[0m\u001b[0;34m)\u001b[0m\u001b[0;34m\u001b[0m\u001b[0;34m\u001b[0m\u001b[0m\n\u001b[0m",
      "\u001b[0;32m<ipython-input-31-cbd9c763731a>\u001b[0m in \u001b[0;36mmyfunc\u001b[0;34m()\u001b[0m\n\u001b[1;32m      2\u001b[0m \u001b[0;34m\u001b[0m\u001b[0m\n\u001b[1;32m      3\u001b[0m \u001b[0;32mdef\u001b[0m \u001b[0mmyfunc\u001b[0m\u001b[0;34m(\u001b[0m\u001b[0;34m)\u001b[0m\u001b[0;34m:\u001b[0m\u001b[0;34m\u001b[0m\u001b[0;34m\u001b[0m\u001b[0m\n\u001b[0;32m----> 4\u001b[0;31m     \u001b[0mx\u001b[0m \u001b[0;34m=\u001b[0m \u001b[0mx\u001b[0m \u001b[0;34m+\u001b[0m \u001b[0;36m1\u001b[0m   \u001b[0;31m# raises UnboundLocalError\u001b[0m\u001b[0;34m\u001b[0m\u001b[0;34m\u001b[0m\u001b[0m\n\u001b[0m\u001b[1;32m      5\u001b[0m     \u001b[0mprint\u001b[0m\u001b[0;34m(\u001b[0m\u001b[0mx\u001b[0m\u001b[0;34m)\u001b[0m\u001b[0;34m\u001b[0m\u001b[0;34m\u001b[0m\u001b[0m\n\u001b[1;32m      6\u001b[0m \u001b[0;34m\u001b[0m\u001b[0m\n",
      "\u001b[0;31mUnboundLocalError\u001b[0m: local variable 'x' referenced before assignment"
     ]
    }
   ],
   "source": [
    "x = 42          # global scope x\n",
    "\n",
    "def myfunc():\n",
    "    x = x + 1   # raises UnboundLocalError\n",
    "    print(x)\n",
    "\n",
    "myfunc()"
   ]
  },
  {
   "cell_type": "markdown",
   "metadata": {},
   "source": [
    "Here, Python assumes that x is a local variable, which means that you are reading it before defining it.\n",
    "\n",
    "The solution, again, is to declare x global.\n",
    "\n"
   ]
  },
  {
   "cell_type": "code",
   "execution_count": 32,
   "metadata": {},
   "outputs": [
    {
     "name": "stdout",
     "output_type": "stream",
     "text": [
      "43\n",
      "43\n"
     ]
    }
   ],
   "source": [
    "x = 42          # global scope x\n",
    "\n",
    "def myfunc():\n",
    "    global x\n",
    "    x = x + 1   # global x is now 43\n",
    "    print(x)\n",
    "\n",
    "myfunc()\n",
    "print(x)        # x is 43"
   ]
  },
  {
   "cell_type": "markdown",
   "metadata": {},
   "source": [
    "There’s another way to update a global variable from a no-global scope – use globals() function."
   ]
  },
  {
   "cell_type": "markdown",
   "metadata": {},
   "source": [
    "### Enclosing Scope\n",
    "If a variable is declared in an enclosing function, it is nonlocal to nested functions. It allows you to assign to variables in an outer, but no-global, scope.\n",
    "\n",
    "Here’s an example that tries to reassign enclosing (outer) function’s local variable inside a nested (inner) function."
   ]
  },
  {
   "cell_type": "code",
   "execution_count": 33,
   "metadata": {},
   "outputs": [
    {
     "name": "stdout",
     "output_type": "stream",
     "text": [
      "0\n",
      "42\n"
     ]
    }
   ],
   "source": [
    "# enclosing function\n",
    "def f1():\n",
    "    x = 42\n",
    "    # nested function\n",
    "    def f2():\n",
    "        x = 0\n",
    "        print(x)    # x is 0\n",
    "    f2()\n",
    "    print(x)        # x is still 42\n",
    "    \n",
    "f1()"
   ]
  },
  {
   "cell_type": "markdown",
   "metadata": {},
   "source": [
    "Here, the value of existing variable x didn’t change. Because Python created a new local variable named x that shadows the variable in the outer scope.\n",
    "\n",
    "Preventing that behavior is where the nonlocal keyword comes in."
   ]
  },
  {
   "cell_type": "code",
   "execution_count": 34,
   "metadata": {},
   "outputs": [
    {
     "name": "stdout",
     "output_type": "stream",
     "text": [
      "0\n",
      "0\n"
     ]
    }
   ],
   "source": [
    "# enclosing function\n",
    "def f1():\n",
    "    x = 42\n",
    "    # nested function\n",
    "    def f2():\n",
    "        nonlocal x\n",
    "        x = 0\n",
    "        print(x)    # x is now 0\n",
    "    f2()\n",
    "    print(x)        # x remains 0\n",
    "    \n",
    "f1()"
   ]
  },
  {
   "cell_type": "markdown",
   "metadata": {},
   "source": [
    "The x inside the nested function now refers to the x outside the function, so changing x inside the function changes the x outside it.\n",
    "\n",
    "The usage of nonlocal is very similar to that of global, except that the former is primarily used in nested methods."
   ]
  },
  {
   "cell_type": "markdown",
   "metadata": {},
   "source": [
    "### Scoping Rule – LEGB Rule"
   ]
  },
  {
   "cell_type": "markdown",
   "metadata": {},
   "source": [
    "![image](https://www.learnbyexample.org/wp-content/uploads/python/python-scoping-rule-legb-rule.png)"
   ]
  },
  {
   "cell_type": "markdown",
   "metadata": {},
   "source": [
    "When a variable is referenced, Python follows LEGB rule and searches up to four scopes in this order:\n",
    "\n",
    "first in the local (L) scope,\n",
    "\n",
    "then in the local scopes of any enclosing (E) functions and lambdas,\n",
    "\n",
    "then in the global (G) scope,\n",
    "\n",
    "and finally in then the built-in (B) scope\n",
    "\n",
    "and stops at the first occurrence. If no match is found, Python raises a NameError exception."
   ]
  },
  {
   "cell_type": "markdown",
   "metadata": {},
   "source": [
    "# Python Lambda Function"
   ]
  },
  {
   "cell_type": "markdown",
   "metadata": {},
   "source": [
    "Lambda is one of the most useful, important and interesting features in Python. Unfortunately, they are easy to misunderstand and get wrong.\n",
    "\n"
   ]
  },
  {
   "cell_type": "markdown",
   "metadata": {},
   "source": [
    "### What is a Lambda Function?\n",
    "A lambda is simply a way to define a function in Python. They are sometimes known as lambda operators or lambda functions.\n",
    "\n",
    "By now you probably have defined your functions using the def keyword, and it has worked well for you so far. So why is there another way to do the same thing?\n",
    "\n",
    "The difference is that lambda functions are anonymous. Meaning, they are functions that do not need to be named. They are used to create small one-line functions in cases where a normal function would be an overkill.\n",
    "\n"
   ]
  },
  {
   "cell_type": "markdown",
   "metadata": {},
   "source": [
    "### Basic Example\n",
    "Before looking at a lambda function, let’s look at a super basic function defined the “traditional” way: Here is a simple function that doubles the passed value.\n",
    "\n"
   ]
  },
  {
   "cell_type": "code",
   "execution_count": 35,
   "metadata": {},
   "outputs": [
    {
     "name": "stdout",
     "output_type": "stream",
     "text": [
      "4\n",
      "10\n"
     ]
    }
   ],
   "source": [
    "def doubler(x):\n",
    "    return x*2\n",
    "\n",
    "print(doubler(2))\n",
    "# Prints 4\n",
    "\n",
    "print(doubler(5))\n",
    "# Prints 10"
   ]
  },
  {
   "cell_type": "markdown",
   "metadata": {},
   "source": [
    "Here’s how it looks as a lambda function:"
   ]
  },
  {
   "cell_type": "code",
   "execution_count": 36,
   "metadata": {},
   "outputs": [
    {
     "name": "stdout",
     "output_type": "stream",
     "text": [
      "4\n",
      "10\n"
     ]
    }
   ],
   "source": [
    "doubler = lambda x: x*2\n",
    "\n",
    "print(doubler(2))\n",
    "# Prints 4\n",
    "\n",
    "print(doubler(5))\n",
    "# Prints 10"
   ]
  },
  {
   "cell_type": "markdown",
   "metadata": {},
   "source": [
    "In the above example, the lambda is constructed as:"
   ]
  },
  {
   "cell_type": "markdown",
   "metadata": {},
   "source": [
    "## lambda parameters: expression"
   ]
  },
  {
   "cell_type": "markdown",
   "metadata": {},
   "source": [
    "Note that instead of using def, the keyword lambda is used. No parentheses are required. Anything after the lambda keyword is treated as a parameter. The colon is used to separate parameters and expression. In our case, the expression is x*2.\n",
    "\n",
    "There’s no need to use the return keyword, the lambda does this automatically for you.\n",
    "\n"
   ]
  },
  {
   "cell_type": "markdown",
   "metadata": {},
   "source": [
    "### Important characteristics\n",
    "In particular, a lambda function has the following characteristics:"
   ]
  },
  {
   "cell_type": "markdown",
   "metadata": {},
   "source": [
    "#### No Statements Allowed\n",
    "A lambda function can not contain any statements in its body. Statements such as return, raise, pass, or assert in a lambda function will raise a SyntaxError. Here is an example of a lambda function containing assert:\n",
    "\n",
    "```python\n",
    "doubler = lambda x: assert x*2\n",
    "```\n",
    "#### Single Expression Only\n",
    "Unlike a normal function, a lambda function contains only a single expression.\n",
    "\n",
    "Although, you can spread the expression over multiple lines using parentheses or a multiline string, but it should only remain as a single expression."
   ]
  },
  {
   "cell_type": "code",
   "execution_count": 38,
   "metadata": {},
   "outputs": [
    {
     "name": "stdout",
     "output_type": "stream",
     "text": [
      "even\n",
      "odd\n"
     ]
    }
   ],
   "source": [
    "evenOdd = (lambda x:\n",
    "           'odd' if x%2 else 'even')\n",
    "\n",
    "print(evenOdd(2))\n",
    "# Prints even\n",
    "\n",
    "print(evenOdd(3))\n",
    "# Prints odd"
   ]
  },
  {
   "cell_type": "markdown",
   "metadata": {},
   "source": [
    "### Immediately Invoked Function Expression (IIFE)\n",
    "A lambda function can be immediately invoked. For this reason it is often referred to as an Immediately Invoked Function Expression (IIFE).\n",
    "\n",
    "Here’s the same previously seen ‘doubler’ lambda function that is defined and then called immediately with 3 as an argument."
   ]
  },
  {
   "cell_type": "code",
   "execution_count": 39,
   "metadata": {},
   "outputs": [
    {
     "name": "stdout",
     "output_type": "stream",
     "text": [
      "6\n"
     ]
    }
   ],
   "source": [
    "print((lambda x: x*2)(3))\n",
    "# Prints 6"
   ]
  },
  {
   "cell_type": "markdown",
   "metadata": {},
   "source": [
    "### Multiple Arguments\n",
    "You can send as many arguments as you like to a lambda function; just separate them with a comma ,.\n",
    "\n",
    "Here’s how you’d create a lambda function with multiple arguments:"
   ]
  },
  {
   "cell_type": "code",
   "execution_count": 40,
   "metadata": {},
   "outputs": [
    {
     "name": "stdout",
     "output_type": "stream",
     "text": [
      "10\n"
     ]
    }
   ],
   "source": [
    "# A lambda function that multiplies two values\n",
    "mul = lambda x, y: x*y\n",
    "print(mul(2, 5))\n",
    "# Prints 10"
   ]
  },
  {
   "cell_type": "code",
   "execution_count": 41,
   "metadata": {},
   "outputs": [
    {
     "name": "stdout",
     "output_type": "stream",
     "text": [
      "17\n"
     ]
    }
   ],
   "source": [
    "# A lambda function that adds three values\n",
    "add = lambda x, y, z: x+y+z\n",
    "print(add(2, 5, 10))\n",
    "# Prints 17"
   ]
  },
  {
   "cell_type": "markdown",
   "metadata": {},
   "source": [
    "### Ways to Pass Arguments\n",
    "Like a normal function, a lambda function supports all the different ways of passing arguments. This includes:\n",
    "\n",
    "- Positional arguments\n",
    "- Keyword arguments\n",
    "- Default argument\n",
    "- Variable list of arguments (*args)\n",
    "- Variable list of keyword arguments (**args)\n",
    "\n",
    "The following examples illustrate various options for passing arguments to the lambda function.\n",
    "\n"
   ]
  },
  {
   "cell_type": "code",
   "execution_count": 43,
   "metadata": {},
   "outputs": [
    {
     "name": "stdout",
     "output_type": "stream",
     "text": [
      "9\n",
      "9\n",
      "9\n"
     ]
    }
   ],
   "source": [
    "# Positional arguments\n",
    "add = lambda x, y, z: x+y+z\n",
    "print(add(2, 3, 4))\n",
    "# Prints 9\n",
    "\n",
    "# Keyword arguments\n",
    "add = lambda x, y, z: x+y+z\n",
    "print(add(2, z=3, y=4))\n",
    "# Prints 9\n",
    "\n",
    "# Default arguments\n",
    "add = lambda x, y=3, z=4: x+y+z\n",
    "print(add(2))\n",
    "# Prints 9\n",
    "\n"
   ]
  },
  {
   "cell_type": "code",
   "execution_count": null,
   "metadata": {},
   "outputs": [],
   "source": []
  }
 ],
 "metadata": {
  "kernelspec": {
   "display_name": "Python 3",
   "language": "python",
   "name": "python3"
  },
  "language_info": {
   "codemirror_mode": {
    "name": "ipython",
    "version": 3
   },
   "file_extension": ".py",
   "mimetype": "text/x-python",
   "name": "python",
   "nbconvert_exporter": "python",
   "pygments_lexer": "ipython3",
   "version": "3.8.3"
  }
 },
 "nbformat": 4,
 "nbformat_minor": 4
}
